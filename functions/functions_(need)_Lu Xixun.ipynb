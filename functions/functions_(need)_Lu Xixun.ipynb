{
 "cells": [
  {
   "attachments": {},
   "cell_type": "markdown",
   "id": "123456",
   "metadata": {},
   "source": [
    "<div style=\"text-align:left;font-size:2em\"><span style=\"font-weight:bolder;font-size:1.25em\">SP2273 | Learning Portfolio</span><br><br><span style=\"font-weight:bold;color:darkred\">Functions (Need)</span></div>"
   ]
  },
  {
   "attachments": {},
   "cell_type": "markdown",
   "id": "9f315bd7",
   "metadata": {},
   "source": [
    "# 1 User-defined functions"
   ]
  },
  {
   "cell_type": "markdown",
   "id": "7d3681cd-4dd3-42ed-8211-e59ea9cc0d54",
   "metadata": {},
   "source": [
    "* `print()`: internal function in Python\n",
    "* **names**, **anonymous**: create your own functions"
   ]
  },
  {
   "attachments": {},
   "cell_type": "markdown",
   "id": "c1e803f3",
   "metadata": {},
   "source": [
    "## 1.1 Named Functions"
   ]
  },
  {
   "attachments": {},
   "cell_type": "markdown",
   "id": "dd2b121e",
   "metadata": {},
   "source": [
    "### Named functions that return"
   ]
  },
  {
   "cell_type": "code",
   "execution_count": 1,
   "id": "7e317e41",
   "metadata": {},
   "outputs": [],
   "source": [
    "def greeting(name):   # define function using def\n",
    "    if name == 'Batman':\n",
    "        return 'Hello Batman! So, nice to meet you!'\n",
    "    else:\n",
    "        return f'Hello {name}!'  # return is used to get an output from the function."
   ]
  },
  {
   "cell_type": "markdown",
   "id": "27de0db4-4c28-4b08-9c6c-61df838f4b95",
   "metadata": {},
   "source": [
    "The function’s name is `greeting` and it accepts a single argument called `name`. We can then use the function as:"
   ]
  },
  {
   "cell_type": "code",
   "execution_count": 2,
   "id": "4818c31d-df75-4833-b4ac-d499111005b6",
   "metadata": {},
   "outputs": [
    {
     "data": {
      "text/plain": [
       "'Hello Super Man!'"
      ]
     },
     "execution_count": 2,
     "metadata": {},
     "output_type": "execute_result"
    }
   ],
   "source": [
    "greeting(\"Super Man\")"
   ]
  },
  {
   "cell_type": "code",
   "execution_count": 3,
   "id": "aa7588bf-e767-4790-a15a-1dabd3b6af4c",
   "metadata": {},
   "outputs": [
    {
     "data": {
      "text/plain": [
       "'Hello Super Man!'"
      ]
     },
     "execution_count": 3,
     "metadata": {},
     "output_type": "execute_result"
    }
   ],
   "source": [
    "greeting(name=\"Super Man\")"
   ]
  },
  {
   "cell_type": "markdown",
   "id": "9f14287d-b82b-482f-93e9-7cbea5f7c7a4",
   "metadata": {},
   "source": [
    "* When Python sees a `return` keyword it jumps out of the function with the return value.\n",
    "* `return` can only be used within a function."
   ]
  },
  {
   "cell_type": "code",
   "execution_count": 4,
   "id": "6bd1fe6d-58c9-4b6a-a894-83b9581e88c9",
   "metadata": {},
   "outputs": [
    {
     "name": "stdout",
     "output_type": "stream",
     "text": [
      "Hello Super Man!\n"
     ]
    }
   ],
   "source": [
    "greet=greeting(name='Super Man')\n",
    "print(greet)"
   ]
  },
  {
   "cell_type": "code",
   "execution_count": 5,
   "id": "4dfaca52-4274-44ac-891c-d6b2ea852635",
   "metadata": {},
   "outputs": [
    {
     "name": "stdout",
     "output_type": "stream",
     "text": [
      "Hello Super Man!\n"
     ]
    }
   ],
   "source": [
    "print(greeting(name='Super Man'))"
   ]
  },
  {
   "cell_type": "markdown",
   "id": "0c93b2d6-e3b7-4924-9afb-73eef9a0cacb",
   "metadata": {},
   "source": [
    "Almost everything can be returned!"
   ]
  },
  {
   "cell_type": "code",
   "execution_count": 8,
   "id": "e6efaa0b-88cd-49f9-8cb8-17bc6f07517c",
   "metadata": {},
   "outputs": [],
   "source": [
    "import numpy as np\n",
    "def basic_stats(numbers):\n",
    "    np_numbers = np.array(numbers)\n",
    "    my_min = np_numbers.min()\n",
    "    my_max = np_numbers.max()\n",
    "    my_mean = np_numbers.mean()\n",
    "    return my_max, my_min, my_mean"
   ]
  },
  {
   "cell_type": "code",
   "execution_count": 11,
   "id": "12969e53-1cf1-4989-aebb-1db06a7f2a17",
   "metadata": {},
   "outputs": [
    {
     "data": {
      "text/plain": [
       "(5, 1, 3.0)"
      ]
     },
     "execution_count": 11,
     "metadata": {},
     "output_type": "execute_result"
    }
   ],
   "source": [
    "basic_stats([1, 2, 3, 4, 5])\n"
   ]
  },
  {
   "cell_type": "code",
   "execution_count": 24,
   "id": "7871cc18-6755-4895-80cc-e6fb5e9a456e",
   "metadata": {},
   "outputs": [],
   "source": [
    "import numpy as np\n",
    "def basic_stats(numbers):\n",
    "    np_numbers = np.array(numbers)\n",
    "    my_min = np_numbers.min()\n",
    "    my_max = np_numbers.max()\n",
    "    my_mean = np_numbers.mean()\n",
    "    return [my_max, my_min, my_mean]"
   ]
  },
  {
   "cell_type": "code",
   "execution_count": 16,
   "id": "b26ba595-0117-43bb-aeb9-dc619f182392",
   "metadata": {},
   "outputs": [
    {
     "data": {
      "text/plain": [
       "[5, 1, 3.0]"
      ]
     },
     "execution_count": 16,
     "metadata": {},
     "output_type": "execute_result"
    }
   ],
   "source": [
    "basic_stats([1, 2, 3, 4, 5])"
   ]
  },
  {
   "cell_type": "code",
   "execution_count": 25,
   "id": "4e108c25-7d9e-4ce8-9b20-5688c325ccc3",
   "metadata": {},
   "outputs": [
    {
     "data": {
      "text/plain": [
       "'list_min=5, list_max=1, list_mean=3.0'"
      ]
     },
     "execution_count": 25,
     "metadata": {},
     "output_type": "execute_result"
    }
   ],
   "source": [
    "list_min, list_max, list_mean = basic_stats([1, 2, 3, 4, 5])\n",
    "f'{list_min=}, {list_max=}, {list_mean=}'"
   ]
  },
  {
   "attachments": {},
   "cell_type": "markdown",
   "id": "3c91d075",
   "metadata": {},
   "source": [
    "### Named functions that don’t return"
   ]
  },
  {
   "cell_type": "markdown",
   "id": "6921c3e1-6da1-4b0b-a313-d991cbd4b79d",
   "metadata": {},
   "source": [
    "* A function does not have to return anything. For example, the `print()` fucntion does not return a value."
   ]
  },
  {
   "attachments": {},
   "cell_type": "markdown",
   "id": "6d66d145",
   "metadata": {},
   "source": [
    "## 1.2 Anonymous functions"
   ]
  },
  {
   "cell_type": "markdown",
   "id": "a5a2a390-536c-470f-85e5-565000d8c64f",
   "metadata": {},
   "source": [
    "Anonymous or lambda functions are suitable for short one-liners."
   ]
  },
  {
   "cell_type": "markdown",
   "id": "291dc1d7-7375-4e52-88f8-6a41a64b2e5c",
   "metadata": {},
   "source": [
    "**Example 1**:\n",
    "<br>**A `lambda` function always returns the value of the last statement.**"
   ]
  },
  {
   "cell_type": "markdown",
   "id": "11059715-8803-4eac-a417-c266aee33ecc",
   "metadata": {},
   "source": [
    "This function accepts a single argument called `name`."
   ]
  },
  {
   "cell_type": "code",
   "execution_count": 35,
   "id": "12e05f52-fdf3-45b9-a160-ab9b927d96f0",
   "metadata": {},
   "outputs": [],
   "source": [
    "my_short_function = lambda name: f\"Hello {name}!\""
   ]
  },
  {
   "cell_type": "code",
   "execution_count": 36,
   "id": "195b1d74-fa86-45ea-b50a-bea948c8c137",
   "metadata": {},
   "outputs": [
    {
     "data": {
      "text/plain": [
       "'Hello Super Man!'"
      ]
     },
     "execution_count": 36,
     "metadata": {},
     "output_type": "execute_result"
    }
   ],
   "source": [
    "my_short_function(\"Super Man\")"
   ]
  },
  {
   "cell_type": "markdown",
   "id": "49491e00-cac4-4650-acb3-69253d460467",
   "metadata": {},
   "source": [
    "**`lambda` function**:\n",
    "* A lambda function is a small anonymous function.\n",
    "* A lambda function can take any number of arguments, but can only have one expression.\n",
    "* Syntax: `lambda arguments: expression`"
   ]
  },
  {
   "cell_type": "markdown",
   "id": "c7588f9f-20a0-4064-b806-5e47d8db42f8",
   "metadata": {},
   "source": [
    "**Example 2**:\n",
    "<br>"
   ]
  },
  {
   "cell_type": "markdown",
   "id": "4b9471b8-ebd0-4bd1-ac30-abaa93fe0ede",
   "metadata": {},
   "source": [
    "We have the following 2D list:"
   ]
  },
  {
   "cell_type": "code",
   "execution_count": 37,
   "id": "6b5b4d05-1496-4a25-aa61-79a8c56e0258",
   "metadata": {},
   "outputs": [],
   "source": [
    "numbers=[[9, 0, -10],\n",
    "         [8, 1, -11],\n",
    "         [7, 2, -12],\n",
    "         [6, 3, -13],\n",
    "         [5, 4, -14],\n",
    "         [4, 5, -15],\n",
    "         [3, 6, -16],\n",
    "         [2, 7, -17],\n",
    "         [1, 8, -18],\n",
    "         [0, 9, -19]]"
   ]
  },
  {
   "cell_type": "markdown",
   "id": "1e2d3460-c3ea-45d6-8528-7668497bf38c",
   "metadata": {},
   "source": [
    "Use `sorted()` to sort data:"
   ]
  },
  {
   "cell_type": "code",
   "execution_count": 38,
   "id": "20725a69-bcd2-4cb5-b5a0-e7995c1eb558",
   "metadata": {},
   "outputs": [
    {
     "data": {
      "text/plain": [
       "[[0, 9, -19],\n",
       " [1, 8, -18],\n",
       " [2, 7, -17],\n",
       " [3, 6, -16],\n",
       " [4, 5, -15],\n",
       " [5, 4, -14],\n",
       " [6, 3, -13],\n",
       " [7, 2, -12],\n",
       " [8, 1, -11],\n",
       " [9, 0, -10]]"
      ]
     },
     "execution_count": 38,
     "metadata": {},
     "output_type": "execute_result"
    }
   ],
   "source": [
    "# Sort by comparing the default key\n",
    "# (i.e., the 1st element)\n",
    "sorted(numbers)"
   ]
  },
  {
   "cell_type": "code",
   "execution_count": 39,
   "id": "2ca836b1-cdbe-41c5-ab1e-303479fd0024",
   "metadata": {},
   "outputs": [
    {
     "data": {
      "text/plain": [
       "[[9, 0, -10],\n",
       " [8, 1, -11],\n",
       " [7, 2, -12],\n",
       " [6, 3, -13],\n",
       " [5, 4, -14],\n",
       " [4, 5, -15],\n",
       " [3, 6, -16],\n",
       " [2, 7, -17],\n",
       " [1, 8, -18],\n",
       " [0, 9, -19]]"
      ]
     },
     "execution_count": 39,
     "metadata": {},
     "output_type": "execute_result"
    }
   ],
   "source": [
    "# Sort by comparing a custom key\n",
    "# that uses the 2nd element (index=1)\n",
    "sorted(numbers, key=lambda x: x[1])"
   ]
  },
  {
   "cell_type": "code",
   "execution_count": 40,
   "id": "8156298a-6162-442a-ac3d-08d737611f97",
   "metadata": {},
   "outputs": [
    {
     "data": {
      "text/plain": [
       "[[0, 9, -19],\n",
       " [1, 8, -18],\n",
       " [2, 7, -17],\n",
       " [3, 6, -16],\n",
       " [4, 5, -15],\n",
       " [5, 4, -14],\n",
       " [6, 3, -13],\n",
       " [7, 2, -12],\n",
       " [8, 1, -11],\n",
       " [9, 0, -10]]"
      ]
     },
     "execution_count": 40,
     "metadata": {},
     "output_type": "execute_result"
    }
   ],
   "source": [
    "# Sort by comparing a custom key\n",
    "# that uses the sum of the elements.\n",
    "sorted(numbers, key=lambda x: sum(x))   "
   ]
  },
  {
   "attachments": {},
   "cell_type": "markdown",
   "id": "14d11b01",
   "metadata": {},
   "source": [
    "## 1.3 Optional arguments"
   ]
  },
  {
   "cell_type": "markdown",
   "id": "c7774948-8f27-4150-b7c3-f0fe2146135f",
   "metadata": {},
   "source": [
    "Python allows us to make arguments to our function *optional*:"
   ]
  },
  {
   "cell_type": "code",
   "execution_count": 51,
   "id": "5383902a-e6b9-4887-af0b-4302d346a921",
   "metadata": {},
   "outputs": [],
   "source": [
    "def greeting(name='no one'):\n",
    "    if name == 'Batman':\n",
    "        return 'Hello Batman! So, nice to meet you!'\n",
    "    else:\n",
    "        return f'Hello {name}!'"
   ]
  },
  {
   "cell_type": "code",
   "execution_count": 43,
   "id": "21c73ac3-1d22-42c5-aa7b-a6eb123d075a",
   "metadata": {},
   "outputs": [
    {
     "data": {
      "text/plain": [
       "'Hello no one!'"
      ]
     },
     "execution_count": 43,
     "metadata": {},
     "output_type": "execute_result"
    }
   ],
   "source": [
    "greeting()"
   ]
  },
  {
   "cell_type": "code",
   "execution_count": 45,
   "id": "5a09e834-ed71-4e88-8626-59f992811abf",
   "metadata": {},
   "outputs": [
    {
     "data": {
      "text/plain": [
       "'Hello Batman! So, nice to meet you!'"
      ]
     },
     "execution_count": 45,
     "metadata": {},
     "output_type": "execute_result"
    }
   ],
   "source": [
    "greeting('Batman')"
   ]
  },
  {
   "cell_type": "code",
   "execution_count": 47,
   "id": "c107b000-9edb-419d-acdd-a71cafb3ee5b",
   "metadata": {},
   "outputs": [
    {
     "data": {
      "text/plain": [
       "\u001b[0;31mDocstring:\u001b[0m\n",
       "print(value, ..., sep=' ', end='\\n', file=sys.stdout, flush=False)\n",
       "\n",
       "Prints the values to a stream, or to sys.stdout by default.\n",
       "Optional keyword arguments:\n",
       "file:  a file-like object (stream); defaults to the current sys.stdout.\n",
       "sep:   string inserted between values, default a space.\n",
       "end:   string appended after the last value, default a newline.\n",
       "flush: whether to forcibly flush the stream.\n",
       "\u001b[0;31mType:\u001b[0m      builtin_function_or_method"
      ]
     },
     "metadata": {},
     "output_type": "display_data"
    }
   ],
   "source": [
    "# check the documentation for print():\n",
    "?print"
   ]
  },
  {
   "cell_type": "markdown",
   "id": "f41c9cd5-718c-45d4-af47-867e2c0a2b89",
   "metadata": {},
   "source": [
    "-> `print()` can accept other arguments that are optional with default values."
   ]
  },
  {
   "cell_type": "code",
   "execution_count": 48,
   "id": "ddfabbca-3e82-4802-b555-ab940827fab7",
   "metadata": {},
   "outputs": [
    {
     "name": "stdout",
     "output_type": "stream",
     "text": [
      "I am Batman!\n"
     ]
    }
   ],
   "source": [
    "# Using default values\n",
    "print('I', 'am', 'Batman!')"
   ]
  },
  {
   "cell_type": "code",
   "execution_count": 49,
   "id": "e44833a4-0b69-4771-8639-2eec7d61c0e1",
   "metadata": {},
   "outputs": [
    {
     "name": "stdout",
     "output_type": "stream",
     "text": [
      "I---am---Batman!\n"
     ]
    }
   ],
   "source": [
    "# Specifying an optional argument\n",
    "print('I', 'am', 'Batman!', sep='---')  "
   ]
  },
  {
   "attachments": {},
   "cell_type": "markdown",
   "id": "a168b088",
   "metadata": {},
   "source": [
    "## 1.4 The importance of functions?"
   ]
  },
  {
   "attachments": {},
   "cell_type": "markdown",
   "id": "2033518b",
   "metadata": {},
   "source": [
    "### An argument for functions"
   ]
  },
  {
   "cell_type": "markdown",
   "id": "002cc9ca-5b93-4e95-8bbe-7e891d6011f4",
   "metadata": {},
   "source": [
    "**Benefits of using functions**:\n",
    "* Abstraction of details\n",
    "* Reusability of code\n",
    "* Maintainability of code\n"
   ]
  },
  {
   "cell_type": "markdown",
   "id": "636c56ee-a0e2-4e75-98c2-0bb179de6386",
   "metadata": {},
   "source": [
    "### A word of caution"
   ]
  },
  {
   "cell_type": "markdown",
   "id": "764e9ffd-2c5d-48ca-9b01-cb1152325337",
   "metadata": {},
   "source": [
    " Having too many functions can make it difficult to read your code and also increase computational overheads."
   ]
  },
  {
   "attachments": {},
   "cell_type": "markdown",
   "id": "03554171",
   "metadata": {},
   "source": [
    "### A word of caution"
   ]
  },
  {
   "cell_type": "code",
   "execution_count": null,
   "id": "71569067",
   "metadata": {},
   "outputs": [],
   "source": [
    "\n",
    "# Your code here\n"
   ]
  }
 ],
 "metadata": {
  "kernelspec": {
   "display_name": "Python 3 (ipykernel)",
   "language": "python",
   "name": "python3"
  },
  "language_info": {
   "codemirror_mode": {
    "name": "ipython",
    "version": 3
   },
   "file_extension": ".py",
   "mimetype": "text/x-python",
   "name": "python",
   "nbconvert_exporter": "python",
   "pygments_lexer": "ipython3",
   "version": "3.10.9"
  },
  "toc": {
   "base_numbering": 1,
   "nav_menu": {},
   "number_sections": true,
   "sideBar": true,
   "skip_h1_title": false,
   "title_cell": "Table of Contents",
   "title_sidebar": "Contents",
   "toc_cell": false,
   "toc_position": {},
   "toc_section_display": true,
   "toc_window_display": false
  },
  "vscode": {
   "interpreter": {
    "hash": "31f2aee4e71d21fbe5cf8b01ff0e069b9275f58929596ceb00d14d90e3e16cd6"
   }
  }
 },
 "nbformat": 4,
 "nbformat_minor": 5
}
