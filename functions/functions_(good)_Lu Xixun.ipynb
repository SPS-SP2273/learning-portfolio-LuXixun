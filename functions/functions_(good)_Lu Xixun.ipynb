{
 "cells": [
  {
   "attachments": {},
   "cell_type": "markdown",
   "id": "123456",
   "metadata": {},
   "source": [
    "<div style=\"text-align:left;font-size:2em\"><span style=\"font-weight:bolder;font-size:1.25em\">SP2273 | Learning Portfolio</span><br><br><span style=\"font-weight:bold;color:darkred\">Functions (Good)</span></div>"
   ]
  },
  {
   "attachments": {},
   "cell_type": "markdown",
   "id": "b3425efb",
   "metadata": {},
   "source": [
    "# 1 Checks, balances, and contingencies"
   ]
  },
  {
   "cell_type": "markdown",
   "id": "ee5b61db-b930-43a0-a737-f62d01413fe8",
   "metadata": {},
   "source": [
    "There are two standard ways Python allows us to incorporate checks: `assert` and `try-except`."
   ]
  },
  {
   "attachments": {},
   "cell_type": "markdown",
   "id": "789bb869",
   "metadata": {},
   "source": [
    "## 1.1 assert"
   ]
  },
  {
   "cell_type": "markdown",
   "id": "35cc443a-a976-4425-a9c9-d8e02fce01b9",
   "metadata": {},
   "source": [
    "* check a condition\n",
    "* stops the flow of code if the condition fails.\n",
    "* print a message if given the instruction "
   ]
  },
  {
   "cell_type": "markdown",
   "id": "5a0fac18-7330-47b7-ae41-7f083e8dbe41",
   "metadata": {},
   "source": [
    "**Syntax**:"
   ]
  },
  {
   "cell_type": "code",
   "execution_count": null,
   "id": "83536517-a494-40b6-be37-649fae304350",
   "metadata": {},
   "outputs": [],
   "source": [
    "assert condition-to-check, message"
   ]
  },
  {
   "cell_type": "markdown",
   "id": "3616a9e1-f17d-4d3e-92df-0245a4b1a212",
   "metadata": {},
   "source": [
    "e.g. halt the execution if the condition fails:"
   ]
  },
  {
   "cell_type": "code",
   "execution_count": 1,
   "id": "02816a59-8465-4df4-bfda-a33e2331c82c",
   "metadata": {},
   "outputs": [
    {
     "ename": "NameError",
     "evalue": "name 'x' is not defined",
     "output_type": "error",
     "traceback": [
      "\u001b[0;31m---------------------------------------------------------------------------\u001b[0m",
      "\u001b[0;31mNameError\u001b[0m                                 Traceback (most recent call last)",
      "Cell \u001b[0;32mIn[1], line 1\u001b[0m\n\u001b[0;32m----> 1\u001b[0m \u001b[38;5;28;01massert\u001b[39;00m \u001b[43mx\u001b[49m \u001b[38;5;241m>\u001b[39m\u001b[38;5;241m=\u001b[39m \u001b[38;5;241m0\u001b[39m, \u001b[38;5;124m\"\u001b[39m\u001b[38;5;124mx is becoming negative!\u001b[39m\u001b[38;5;124m\"\u001b[39m\n",
      "\u001b[0;31mNameError\u001b[0m: name 'x' is not defined"
     ]
    }
   ],
   "source": [
    "assert x >= 0, \"x is becoming negative!\""
   ]
  },
  {
   "cell_type": "markdown",
   "id": "6da05780-bcb8-4d60-a077-e6969e0bc172",
   "metadata": {},
   "source": [
    "The program will run for as long as the condition is `True`. If it fails, then an `AssertationError` is raised, and the program stops running!"
   ]
  },
  {
   "cell_type": "markdown",
   "id": "6f41e1a1-14f7-43b2-a5aa-5120dcb7e94e",
   "metadata": {},
   "source": [
    "e.g. The following will run without a problem."
   ]
  },
  {
   "cell_type": "code",
   "execution_count": 2,
   "id": "bc17a2ab-1176-49de-bec7-c5133f2e498e",
   "metadata": {},
   "outputs": [],
   "source": [
    "x = 10\n",
    "assert x >= 0, \"x is becoming negative!\""
   ]
  },
  {
   "cell_type": "markdown",
   "id": "13050d8a-622e-4437-a373-f8cf04141c57",
   "metadata": {},
   "source": [
    "e.g. The following will throw an error and stop."
   ]
  },
  {
   "cell_type": "code",
   "execution_count": 3,
   "id": "14c33f44-1650-4957-ba5d-5ec887a063a7",
   "metadata": {},
   "outputs": [
    {
     "ename": "AssertionError",
     "evalue": "x is becoming negative!",
     "output_type": "error",
     "traceback": [
      "\u001b[0;31m---------------------------------------------------------------------------\u001b[0m",
      "\u001b[0;31mAssertionError\u001b[0m                            Traceback (most recent call last)",
      "Cell \u001b[0;32mIn[3], line 2\u001b[0m\n\u001b[1;32m      1\u001b[0m x \u001b[38;5;241m=\u001b[39m \u001b[38;5;241m-\u001b[39m\u001b[38;5;241m1\u001b[39m\n\u001b[0;32m----> 2\u001b[0m \u001b[38;5;28;01massert\u001b[39;00m x \u001b[38;5;241m>\u001b[39m\u001b[38;5;241m=\u001b[39m \u001b[38;5;241m0\u001b[39m, \u001b[38;5;124m\"\u001b[39m\u001b[38;5;124mx is becoming negative!\u001b[39m\u001b[38;5;124m\"\u001b[39m\n",
      "\u001b[0;31mAssertionError\u001b[0m: x is becoming negative!"
     ]
    }
   ],
   "source": [
    "x = -1\n",
    "assert x >= 0, \"x is becoming negative!\""
   ]
  },
  {
   "attachments": {},
   "cell_type": "markdown",
   "id": "16422f63",
   "metadata": {},
   "source": [
    "## 1.2 try-except"
   ]
  },
  {
   "cell_type": "markdown",
   "id": "52520e17-3bbe-4c4d-9335-f277cc2c9815",
   "metadata": {},
   "source": [
    "* An exception (error) will halt the flow of the programme\n",
    "* `try-except` allows you to catch and handle the exceptions"
   ]
  },
  {
   "cell_type": "code",
   "execution_count": 6,
   "id": "e310c918-f04b-478e-9b82-44d9578179c6",
   "metadata": {},
   "outputs": [
    {
     "name": "stdin",
     "output_type": "stream",
     "text": [
      "Give me a number and I will calculate its square. 5\n"
     ]
    },
    {
     "name": "stdout",
     "output_type": "stream",
     "text": [
      "The square of 5 is 25!\n"
     ]
    }
   ],
   "source": [
    "number=input(\"Give me a number and I will calculate its square.\")\n",
    "square=int(number)**2              # Convert English to number\n",
    "print(f'The square of {number} is {square}!')"
   ]
  },
  {
   "cell_type": "markdown",
   "id": "ca45c006-eba5-4df5-86d2-9d1e0123f516",
   "metadata": {},
   "source": [
    "The code above will only work if the input number is an integer. Error will occur if a non-integer is placed as the input.\n",
    "\n",
    "The code below will produce \"Oh oh! I cannot square \"haha\"!\" when the string \"haha\" is placed as the input."
   ]
  },
  {
   "cell_type": "code",
   "execution_count": 7,
   "id": "46af9644-ba65-4cc4-b929-c11007f168a5",
   "metadata": {},
   "outputs": [
    {
     "name": "stdin",
     "output_type": "stream",
     "text": [
      "Give me a number and I will calculate its square. \"haha\"\n"
     ]
    },
    {
     "name": "stdout",
     "output_type": "stream",
     "text": [
      "Oh oh! I cannot square \"haha\"!\n"
     ]
    }
   ],
   "source": [
    "try:\n",
    "    number=input(\"Give me a number and I will calculate its square.\")\n",
    "    square=int(number)**2\n",
    "    print(f'The square of {number} is {square}!')\n",
    "except:\n",
    "    print(f\"Oh oh! I cannot square {number}!\")"
   ]
  },
  {
   "cell_type": "markdown",
   "id": "e28a6d7c-e95b-4b4e-9b29-602345a04c90",
   "metadata": {},
   "source": [
    "if error arises in the block of code inside `try`, Python will ignore the error and run the code in the `except` block. \n",
    "\n",
    "Hence, `try` block can be used to encapsulate code that can potential give rise to errors."
   ]
  },
  {
   "attachments": {},
   "cell_type": "markdown",
   "id": "61e00ec7",
   "metadata": {},
   "source": [
    "## 1.3 A simple suggestion"
   ]
  },
  {
   "cell_type": "markdown",
   "id": "4a03dd8e-6f8e-45f0-955c-5c380374c8f9",
   "metadata": {},
   "source": [
    "When starting out with some code, it is always good for your code to signal to the outside world that it has finished certain milestones. A ‘soft’ way to do this is to include ‘print()’ statements here and there to let the outside world know what is happening in the innards of your program. "
   ]
  },
  {
   "attachments": {},
   "cell_type": "markdown",
   "id": "e6139487",
   "metadata": {},
   "source": [
    "# 2 Some loose ends"
   ]
  },
  {
   "attachments": {},
   "cell_type": "markdown",
   "id": "81e010e6",
   "metadata": {},
   "source": [
    "## 2.1 Positional, keyword and default arguments"
   ]
  },
  {
   "cell_type": "markdown",
   "id": "289f99ba-dccf-463f-95e7-7ededffd5359",
   "metadata": {},
   "source": [
    "There are three ways to pass a value to an argument:\n",
    "1. positional\n",
    "2. keyword\n",
    "3. default"
   ]
  },
  {
   "cell_type": "markdown",
   "id": "de648ff2-7c7a-4e05-a36f-34f27e8b58db",
   "metadata": {},
   "source": [
    "Here we have a function:"
   ]
  },
  {
   "cell_type": "code",
   "execution_count": 1,
   "id": "6445650e-87ee-431f-a1f3-6d317c9f7ad6",
   "metadata": {},
   "outputs": [],
   "source": [
    "def side_by_side(a, b, c=42):\n",
    "    return f'{a: 2d}|{b: 2d}|{c: 2d}'"
   ]
  },
  {
   "cell_type": "markdown",
   "id": "66d3e67f-22ed-4380-a6d4-5d17c600728f",
   "metadata": {},
   "source": [
    "**Positional**\n",
    "<br> telling Python to assign `1, 2, 3` to `a, b, c`:"
   ]
  },
  {
   "cell_type": "code",
   "execution_count": 2,
   "id": "1e1abab0-ca91-4d42-8bc9-692104673fb1",
   "metadata": {},
   "outputs": [
    {
     "data": {
      "text/plain": [
       "' 1| 2| 3'"
      ]
     },
     "execution_count": 2,
     "metadata": {},
     "output_type": "execute_result"
    }
   ],
   "source": [
    "side_by_side(1, 2, 3)"
   ]
  },
  {
   "cell_type": "markdown",
   "id": "edd98f04-208e-431e-885f-3952fe214ed6",
   "metadata": {},
   "source": [
    "**Keywords**\n",
    "<br> explicitly specify the keyword to assign the values to each of `a, b, c`:"
   ]
  },
  {
   "cell_type": "code",
   "execution_count": 3,
   "id": "2a832f6e-412c-4c78-b5aa-2af89027b1b4",
   "metadata": {},
   "outputs": [
    {
     "data": {
      "text/plain": [
       "' 2| 1| 3'"
      ]
     },
     "execution_count": 3,
     "metadata": {},
     "output_type": "execute_result"
    }
   ],
   "source": [
    "side_by_side(c=3, b=1, a=2)"
   ]
  },
  {
   "cell_type": "markdown",
   "id": "b78c55c7-7c98-4a89-a37f-e07c801fe0ca",
   "metadata": {},
   "source": [
    "**Default**\n",
    "<br> the default value of 'c' is 42. Hence, when the value of `c` is not specify, the value of `c` is 42:"
   ]
  },
  {
   "cell_type": "code",
   "execution_count": 4,
   "id": "e597421b-2c38-486b-bef7-23f74b553549",
   "metadata": {},
   "outputs": [
    {
     "data": {
      "text/plain": [
       "' 1| 2| 42'"
      ]
     },
     "execution_count": 4,
     "metadata": {},
     "output_type": "execute_result"
    }
   ],
   "source": [
    "side_by_side(1, b=2)"
   ]
  },
  {
   "cell_type": "markdown",
   "id": "508a57d7-7cea-4231-bd50-406b1f2485f7",
   "metadata": {},
   "source": [
    "Below are examples of how you can combine these three ways of assigning values to arguments:"
   ]
  },
  {
   "cell_type": "code",
   "execution_count": 5,
   "id": "99a36cd3-0f40-4971-8136-f993e52dc8ec",
   "metadata": {},
   "outputs": [
    {
     "data": {
      "text/plain": [
       "' 1| 2| 42'"
      ]
     },
     "execution_count": 5,
     "metadata": {},
     "output_type": "execute_result"
    }
   ],
   "source": [
    "side_by_side(1, 2)           # Two positional, 1 default\n",
    "## ' 1| 2| 42'\n",
    "side_by_side(1, 2, 3)        # Three positional\n",
    "## ' 1| 2| 3'\n",
    "side_by_side(a=1, b=2)       # Two keyword, 1 default\n",
    "## ' 1| 2| 42'\n",
    "side_by_side(c=3, b=1, a=2)  # Three keyword\n",
    "## ' 2| 1| 3'\n",
    "side_by_side(1, c=3, b=2)    # One positional, 2 keyword\n",
    "## ' 1| 2| 3'\n",
    "side_by_side(1, b=2)         # One positional, 1 keyword, 1 default\n",
    "## ' 1| 2| 42'"
   ]
  },
  {
   "cell_type": "markdown",
   "id": "b34e34fd-312b-40bb-baaa-3056acda799b",
   "metadata": {},
   "source": [
    "the following will not work because Python cannot unambiguously determine the position of `1`"
   ]
  },
  {
   "cell_type": "code",
   "execution_count": 9,
   "id": "b8f91948-6378-404c-abae-1aa6a16329cf",
   "metadata": {},
   "outputs": [
    {
     "ename": "SyntaxError",
     "evalue": "positional argument follows keyword argument (3855048630.py, line 3)",
     "output_type": "error",
     "traceback": [
      "\u001b[0;36m  Cell \u001b[0;32mIn[9], line 3\u001b[0;36m\u001b[0m\n\u001b[0;31m    side_by_side(a=2, 1)      # Won't work.\u001b[0m\n\u001b[0m                       ^\u001b[0m\n\u001b[0;31mSyntaxError\u001b[0m\u001b[0;31m:\u001b[0m positional argument follows keyword argument\n"
     ]
    }
   ],
   "source": [
    "# Keywords cannot be followed \n",
    "# by positional arguments\n",
    "side_by_side(a=2, 1)      # Won't work.                          "
   ]
  },
  {
   "cell_type": "code",
   "execution_count": 8,
   "id": "1cb4e5da-6f1f-4780-aa04-ec9f1a94ecb5",
   "metadata": {},
   "outputs": [
    {
     "ename": "SyntaxError",
     "evalue": "positional argument follows keyword argument (263991353.py, line 3)",
     "output_type": "error",
     "traceback": [
      "\u001b[0;36m  Cell \u001b[0;32mIn[8], line 3\u001b[0;36m\u001b[0m\n\u001b[0;31m    side_by_side(a=2, 1, c=2)      # Won't work.\u001b[0m\n\u001b[0m                            ^\u001b[0m\n\u001b[0;31mSyntaxError\u001b[0m\u001b[0;31m:\u001b[0m positional argument follows keyword argument\n"
     ]
    }
   ],
   "source": [
    "# Keywords cannot be followed \n",
    "# by positional arguments\n",
    "side_by_side(a=2, 1, c=2)      # Won't work.                          "
   ]
  },
  {
   "cell_type": "code",
   "execution_count": 10,
   "id": "76c43740-88fd-47b5-894e-b2036fa34af2",
   "metadata": {},
   "outputs": [
    {
     "data": {
      "text/plain": [
       "' 2| 1| 42'"
      ]
     },
     "execution_count": 10,
     "metadata": {},
     "output_type": "execute_result"
    }
   ],
   "source": [
    "# Keywords cannot be followed \n",
    "# by positional arguments\n",
    "side_by_side(a=2, b=1)      # Won't work.                          "
   ]
  },
  {
   "attachments": {},
   "cell_type": "markdown",
   "id": "0f4a5c0c",
   "metadata": {},
   "source": [
    "## 2.2 Docstrings"
   ]
  },
  {
   "cell_type": "markdown",
   "id": "5aac1ea3-e510-47cd-b39d-218cac634f70",
   "metadata": {},
   "source": [
    "Python documentation strings (or docstrings) provide a convenient way of associating documentation with Python modules, functions, classes, and methods. It’s specified in source code that is used, like a comment, to document a specific segment of code. Unlike conventional source code comments, the docstring should describe what the function does, not how."
   ]
  },
  {
   "cell_type": "markdown",
   "id": "ff8c14c5-cfe0-45d0-8646-45d72a90bd1b",
   "metadata": {},
   "source": [
    "* **Declaring Docstrings**: The docstrings are declared using ”’triple single quotes”’ or “”” triple double quotes “”” just below the class, method, or function declaration. All functions should have a docstring.\n",
    "* **Accessing Docstrings**: The docstrings can be accessed using the __doc__ method of the object or using the help function. The below examples demonstrate how to declare and access a docstring."
   ]
  },
  {
   "cell_type": "markdown",
   "id": "a1f31fd3-f362-4528-be45-e9aee54015fb",
   "metadata": {},
   "source": [
    "`help()`: show the documentation of what a function does inside the function."
   ]
  },
  {
   "cell_type": "code",
   "execution_count": 1,
   "id": "91d25999-ca90-422f-b53a-b7a13d3cd1bc",
   "metadata": {},
   "outputs": [],
   "source": [
    "def side_by_side(a, b, c=42):\n",
    "    '''\n",
    "    A test function to demonstrate how \n",
    "    positional, keyword and default arguments \n",
    "    work.\n",
    "    '''\n",
    "    return f'{a: 2d}|{b: 2d}|{c: 2d}'"
   ]
  },
  {
   "cell_type": "markdown",
   "id": "1445e2ed-04c8-4dd8-8120-4e5bc997ffed",
   "metadata": {},
   "source": [
    "* A docstring needs to be sandwiched between a pair of `'''` (or `\"\"\"`).\n",
    "* A docstring can span multiple lines."
   ]
  },
  {
   "cell_type": "code",
   "execution_count": 2,
   "id": "ba8e0418-818e-49ce-9edb-8ec327ffca96",
   "metadata": {},
   "outputs": [
    {
     "name": "stdout",
     "output_type": "stream",
     "text": [
      "Help on function side_by_side in module __main__:\n",
      "\n",
      "side_by_side(a, b, c=42)\n",
      "    A test function to demonstrate how \n",
      "    positional, keyword and default arguments \n",
      "    work.\n",
      "\n"
     ]
    }
   ],
   "source": [
    "help(side_by_side)"
   ]
  },
  {
   "cell_type": "code",
   "execution_count": 3,
   "id": "fbc6318f-cef3-445f-b533-7c91c3e51fe3",
   "metadata": {},
   "outputs": [
    {
     "name": "stdout",
     "output_type": "stream",
     "text": [
      "Using __doc__:\n",
      "Demonstrates triple double quotes\n",
      "    docstrings and does nothing really.\n",
      "Using help:\n",
      "Help on function my_function in module __main__:\n",
      "\n",
      "my_function()\n",
      "    Demonstrates triple double quotes\n",
      "    docstrings and does nothing really.\n",
      "\n"
     ]
    }
   ],
   "source": [
    "def my_function():\n",
    "    '''Demonstrates triple double quotes\n",
    "    docstrings and does nothing really.'''\n",
    "  \n",
    "    return None\n",
    " \n",
    "print(\"Using __doc__:\")\n",
    "print(my_function.__doc__)\n",
    " \n",
    "print(\"Using help:\")\n",
    "help(my_function)"
   ]
  },
  {
   "attachments": {},
   "cell_type": "markdown",
   "id": "f7f0a0ff",
   "metadata": {},
   "source": [
    "## 2.3 Function are first-class citizens"
   ]
  },
  {
   "cell_type": "markdown",
   "id": "85db7fee-9aa8-431b-b050-947f722557f7",
   "metadata": {},
   "source": [
    "we can pass a function as an argument to another function:"
   ]
  },
  {
   "cell_type": "code",
   "execution_count": 5,
   "id": "d6014d33-4a46-4f66-9153-c983d9abe50a",
   "metadata": {},
   "outputs": [
    {
     "data": {
      "text/plain": [
       "-1.0"
      ]
     },
     "execution_count": 5,
     "metadata": {},
     "output_type": "execute_result"
    }
   ],
   "source": [
    "import numpy as np\n",
    "\n",
    "def my_function(angle, trig_function):\n",
    "        return trig_function(angle)\n",
    "\n",
    "# Let's use the function\n",
    "my_function(np.pi/2, np.sin)        \n",
    "## 1.0\n",
    "my_function(np.pi/2, np.cos)        \n",
    "## 6.123233995736766e-17\n",
    "my_function(np.pi/2, lambda x: np.cos(2*x))  \n",
    "## -1.0"
   ]
  },
  {
   "cell_type": "markdown",
   "id": "d9067ec2-4039-4469-9844-5817c122bb96",
   "metadata": {},
   "source": [
    "**Note**: When we pass a function as an argument, we do not include the parenthesis `()`."
   ]
  },
  {
   "cell_type": "markdown",
   "id": "f26e35e5-9f70-400f-b7b4-be5fba68cf50",
   "metadata": {},
   "source": [
    "## 2.4 More about unpacking"
   ]
  },
  {
   "cell_type": "markdown",
   "id": "72635b89-0a5b-4301-90df-bed27a195b56",
   "metadata": {},
   "source": [
    "**Example 1**"
   ]
  },
  {
   "cell_type": "code",
   "execution_count": 6,
   "id": "79bc68d9-7f72-425b-beb1-50fe42d74f67",
   "metadata": {},
   "outputs": [
    {
     "data": {
      "text/plain": [
       "(1, 2, 3)"
      ]
     },
     "execution_count": 6,
     "metadata": {},
     "output_type": "execute_result"
    }
   ],
   "source": [
    "x, y, z = [1, 2, 3]\n",
    "x, y, z\n"
   ]
  },
  {
   "cell_type": "markdown",
   "id": "49f3eeae-bcce-4230-885a-ce471e7eb1d9",
   "metadata": {},
   "source": [
    "**Example 2**"
   ]
  },
  {
   "cell_type": "code",
   "execution_count": 7,
   "id": "d532e1cb-e436-45ae-84c8-6b9f79605fb0",
   "metadata": {},
   "outputs": [
    {
     "data": {
      "text/plain": [
       "(1, 2, 3)"
      ]
     },
     "execution_count": 7,
     "metadata": {},
     "output_type": "execute_result"
    }
   ],
   "source": [
    "x, y, z = np.array([1, 2, 3])\n",
    "x, y, z "
   ]
  },
  {
   "cell_type": "markdown",
   "id": "ca44b17d-9d47-4d42-8211-f7e09b2c4078",
   "metadata": {},
   "source": [
    "**Example 3**"
   ]
  },
  {
   "cell_type": "code",
   "execution_count": 8,
   "id": "6a6bd335-3187-4e46-863b-9fc35502ebc6",
   "metadata": {},
   "outputs": [
    {
     "data": {
      "text/plain": [
       "(1, [2, 3, 4], 5)"
      ]
     },
     "execution_count": 8,
     "metadata": {},
     "output_type": "execute_result"
    }
   ],
   "source": [
    "x, *y, z = np.array([1, 2, 3, 4, 5])\n",
    "x, y, z"
   ]
  },
  {
   "cell_type": "markdown",
   "id": "407f6c42-168c-4818-ab0e-b196843c5b3c",
   "metadata": {},
   "source": [
    "* Python List includes the `*` operator, which allows you to **create a new list** with the elements repeated the specified number of times."
   ]
  },
  {
   "cell_type": "markdown",
   "id": "9e6e2ace-8d99-47d7-8857-6b4063008ab2",
   "metadata": {},
   "source": [
    "**Example 4**"
   ]
  },
  {
   "cell_type": "code",
   "execution_count": 9,
   "id": "87e72d45-72d9-4dd1-837e-3d0f99c1b7fc",
   "metadata": {},
   "outputs": [
    {
     "data": {
      "text/plain": [
       "(1, 5)"
      ]
     },
     "execution_count": 9,
     "metadata": {},
     "output_type": "execute_result"
    }
   ],
   "source": [
    "x, *_, y = [1, 2, 3, 4, 5]\n",
    "x, y"
   ]
  },
  {
   "cell_type": "markdown",
   "id": "2904ec33-94c6-4f4a-98ad-f25e879ef8fb",
   "metadata": {},
   "source": [
    "`*_` is used to represent multiple values. `_` usually represents a list of values we want to ignore."
   ]
  }
 ],
 "metadata": {
  "kernelspec": {
   "display_name": "Python 3 (ipykernel)",
   "language": "python",
   "name": "python3"
  },
  "language_info": {
   "codemirror_mode": {
    "name": "ipython",
    "version": 3
   },
   "file_extension": ".py",
   "mimetype": "text/x-python",
   "name": "python",
   "nbconvert_exporter": "python",
   "pygments_lexer": "ipython3",
   "version": "3.10.9"
  },
  "toc": {
   "base_numbering": 1,
   "nav_menu": {},
   "number_sections": true,
   "sideBar": true,
   "skip_h1_title": false,
   "title_cell": "Table of Contents",
   "title_sidebar": "Contents",
   "toc_cell": false,
   "toc_position": {},
   "toc_section_display": true,
   "toc_window_display": false
  },
  "vscode": {
   "interpreter": {
    "hash": "31f2aee4e71d21fbe5cf8b01ff0e069b9275f58929596ceb00d14d90e3e16cd6"
   }
  }
 },
 "nbformat": 4,
 "nbformat_minor": 5
}
