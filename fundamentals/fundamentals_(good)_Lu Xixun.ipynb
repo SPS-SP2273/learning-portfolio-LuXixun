{
 "cells": [
  {
   "attachments": {},
   "cell_type": "markdown",
   "id": "123456",
   "metadata": {},
   "source": [
    "<div style=\"text-align:left;font-size:2em\"><span style=\"font-weight:bolder;font-size:1.25em\">SP2273 | Learning Portfolio</span><br><br><span style=\"font-weight:bold;color:darkred\">Fundamentals (Good)</span></div>"
   ]
  },
  {
   "cell_type": "code",
   "execution_count": 40,
   "id": "26749ff6-428f-4f29-9657-c33e020a5190",
   "metadata": {},
   "outputs": [],
   "source": [
    "import numpy as np"
   ]
  },
  {
   "attachments": {},
   "cell_type": "markdown",
   "id": "d4afd86c",
   "metadata": {},
   "source": [
    "# 1 There is more to `if`"
   ]
  },
  {
   "cell_type": "markdown",
   "id": "60756d30-3bc4-4c77-80cb-4a074aeb203e",
   "metadata": {},
   "source": [
    "To use `if` to make decisions we need to be able to ask questions; some of which might be complicated. Let’s now look at a few more examples of how we can do this."
   ]
  },
  {
   "cell_type": "code",
   "execution_count": 2,
   "id": "63553b2c-6ab0-4f5c-9d15-082e1044d6fc",
   "metadata": {},
   "outputs": [
    {
     "name": "stdout",
     "output_type": "stream",
     "text": [
      "Hello World!\n"
     ]
    }
   ],
   "source": [
    "name = 'marry'\n",
    "\n",
    "if name == 'Batman':\n",
    "    print('Hello Batman!')\n",
    "elif name == 'Robin':\n",
    "    print('Hello Sidekick!')\n",
    "else:\n",
    "    print('Hello World!')"
   ]
  },
  {
   "attachments": {},
   "cell_type": "markdown",
   "id": "0ffb78bd",
   "metadata": {},
   "source": [
    "# 2 Asking questions"
   ]
  },
  {
   "cell_type": "code",
   "execution_count": 4,
   "id": "56589d9d-6042-41f5-ade7-d91309a7fc6b",
   "metadata": {},
   "outputs": [],
   "source": [
    "fruits = ['apple', 'banana', 'pineapple', 'jackfruit']\n",
    "vegetables = ['celery', 'potato', 'broccoli', 'kale']"
   ]
  },
  {
   "cell_type": "markdown",
   "id": "fdacf9be-2ce9-4191-b3c5-b91d4cdae016",
   "metadata": {},
   "source": [
    "### Example 1: \n",
    "Is 'apple' in the list `fruits`?"
   ]
  },
  {
   "cell_type": "code",
   "execution_count": 5,
   "id": "8cebcb4f-ca53-453c-a62d-5d7d98d789c9",
   "metadata": {},
   "outputs": [
    {
     "data": {
      "text/plain": [
       "True"
      ]
     },
     "execution_count": 5,
     "metadata": {},
     "output_type": "execute_result"
    }
   ],
   "source": [
    "'apple' in fruits"
   ]
  },
  {
   "cell_type": "markdown",
   "id": "c335546c-9e94-4881-90e5-27734ee4c25e",
   "metadata": {},
   "source": [
    "### Example 2: \n",
    "Is 'peach' in the list `fruits`?"
   ]
  },
  {
   "cell_type": "code",
   "execution_count": 6,
   "id": "2401f58b-b524-4480-8a9e-7611429cec16",
   "metadata": {},
   "outputs": [
    {
     "data": {
      "text/plain": [
       "False"
      ]
     },
     "execution_count": 6,
     "metadata": {},
     "output_type": "execute_result"
    }
   ],
   "source": [
    "'peach' in fruits"
   ]
  },
  {
   "cell_type": "markdown",
   "id": "5d6ab2f1-89d2-4ae2-8991-19e0cadb3399",
   "metadata": {},
   "source": [
    "### Example 3: \n",
    "Is 'peach' not in the list `fruits`?"
   ]
  },
  {
   "cell_type": "code",
   "execution_count": 7,
   "id": "1f3bb3e4-fc1e-4520-a57c-158468ed217a",
   "metadata": {},
   "outputs": [
    {
     "data": {
      "text/plain": [
       "True"
      ]
     },
     "execution_count": 7,
     "metadata": {},
     "output_type": "execute_result"
    }
   ],
   "source": [
    "'peach' not in fruits"
   ]
  },
  {
   "cell_type": "markdown",
   "id": "a04d5ee9-f74d-4eee-9745-8a40e9f1f6ce",
   "metadata": {},
   "source": [
    "### Example 4: \n",
    "Is ‘apple’ in the list `fruits` **and** is ‘celery’ in the list `vegetables`?"
   ]
  },
  {
   "cell_type": "code",
   "execution_count": 8,
   "id": "4e188b73-5dff-443a-9fcf-19866f79c894",
   "metadata": {},
   "outputs": [
    {
     "data": {
      "text/plain": [
       "True"
      ]
     },
     "execution_count": 8,
     "metadata": {},
     "output_type": "execute_result"
    }
   ],
   "source": [
    "('apple' in fruits) and ('celery' in vegetables)"
   ]
  },
  {
   "cell_type": "markdown",
   "id": "e1df8288-9c14-4b11-9984-7c1f7c14a3d6",
   "metadata": {},
   "source": [
    "### Example 5: \n",
    "Is ‘apple’ in the list `fruits` **or** is ‘celery’ in the list `vegetables`?"
   ]
  },
  {
   "cell_type": "code",
   "execution_count": 9,
   "id": "0bbb526d-5232-48a9-ba66-b1ce05134dc8",
   "metadata": {},
   "outputs": [
    {
     "data": {
      "text/plain": [
       "True"
      ]
     },
     "execution_count": 9,
     "metadata": {},
     "output_type": "execute_result"
    }
   ],
   "source": [
    "('apple' in fruits) or ('celery' in vegetables)"
   ]
  },
  {
   "cell_type": "markdown",
   "id": "fd4bbb87-c02e-4b29-944e-247075a337be",
   "metadata": {},
   "source": [
    "### Example 6: \n",
    "Is ‘app’ in ‘apple’?"
   ]
  },
  {
   "cell_type": "code",
   "execution_count": 10,
   "id": "69306a99-75a3-47d2-95a1-92e6eccabacc",
   "metadata": {},
   "outputs": [
    {
     "data": {
      "text/plain": [
       "True"
      ]
     },
     "execution_count": 10,
     "metadata": {},
     "output_type": "execute_result"
    }
   ],
   "source": [
    "'app' in 'apple'"
   ]
  },
  {
   "cell_type": "markdown",
   "id": "aa86e3b6-4014-4d8d-b0eb-73102e0c084d",
   "metadata": {},
   "source": [
    "- **keywords**: `not`, `in`, `and`, `or`\n",
    "- only **same type** can be compared"
   ]
  },
  {
   "cell_type": "code",
   "execution_count": 11,
   "id": "e03969d6-d14b-4676-a2be-46d5646ea762",
   "metadata": {},
   "outputs": [
    {
     "ename": "TypeError",
     "evalue": "'>' not supported between instances of 'str' and 'int'",
     "output_type": "error",
     "traceback": [
      "\u001b[0;31m---------------------------------------------------------------------------\u001b[0m",
      "\u001b[0;31mTypeError\u001b[0m                                 Traceback (most recent call last)",
      "Cell \u001b[0;32mIn[11], line 1\u001b[0m\n\u001b[0;32m----> 1\u001b[0m \u001b[38;5;124;43m'\u001b[39;49m\u001b[38;5;124;43mapple\u001b[39;49m\u001b[38;5;124;43m'\u001b[39;49m\u001b[43m \u001b[49m\u001b[38;5;241;43m>\u001b[39;49m\u001b[43m \u001b[49m\u001b[38;5;241;43m3\u001b[39;49m\n",
      "\u001b[0;31mTypeError\u001b[0m: '>' not supported between instances of 'str' and 'int'"
     ]
    }
   ],
   "source": [
    "'apple' > 3"
   ]
  },
  {
   "cell_type": "code",
   "execution_count": 12,
   "id": "c5f28337-b172-4297-89aa-0c30cd04164d",
   "metadata": {},
   "outputs": [
    {
     "data": {
      "text/plain": [
       "False"
      ]
     },
     "execution_count": 12,
     "metadata": {},
     "output_type": "execute_result"
    }
   ],
   "source": [
    "'apple' > 'orange' # the first letter is compared (a represent 97 and o represent 111)"
   ]
  },
  {
   "cell_type": "code",
   "execution_count": 13,
   "id": "db5298cd-6592-4746-87cc-e7b1136e3cbe",
   "metadata": {},
   "outputs": [
    {
     "data": {
      "text/plain": [
       "False"
      ]
     },
     "execution_count": 13,
     "metadata": {},
     "output_type": "execute_result"
    }
   ],
   "source": [
    "3 > 10.5"
   ]
  },
  {
   "cell_type": "markdown",
   "id": "61635873-4e15-4063-9223-b8c544ea0c2c",
   "metadata": {},
   "source": [
    "## Asking Math Questions"
   ]
  },
  {
   "cell_type": "markdown",
   "id": "279274e7-49f6-4b58-9d00-4192bb4b9042",
   "metadata": {},
   "source": [
    "- equal? `==`\n",
    "- not equal? `!=`\n",
    "- less than? `<`\n",
    "- greater than? `>`\n",
    "- less than or equal? `<=`\n",
    "- greater than or equal? `>=`"
   ]
  },
  {
   "cell_type": "code",
   "execution_count": null,
   "id": "101b85cd-e043-4268-bb6f-182ed19d30e2",
   "metadata": {},
   "outputs": [],
   "source": [
    "# Python also accepts the following syntax:\n",
    "\n",
    "x > 5 and x < 15\n",
    "(x > 5) and (x < 15)\n",
    "5 < x < 15\n",
    "\n",
    "# The last format is the easiest to read"
   ]
  },
  {
   "attachments": {},
   "cell_type": "markdown",
   "id": "bf87c6ef",
   "metadata": {},
   "source": [
    "# 4 Python stores information in different formats or types"
   ]
  },
  {
   "cell_type": "markdown",
   "id": "c13163aa-042f-4d38-a70c-87eefc8940b4",
   "metadata": {},
   "source": [
    "use `type()` to check the type of the information stored."
   ]
  },
  {
   "cell_type": "markdown",
   "id": "db524313-a7ae-43b2-88af-754dc53df9c0",
   "metadata": {},
   "source": [
    "### Example 1\n",
    "As an integer (`int`).\n",
    "Notice how this ends up dropping the decimal portion!"
   ]
  },
  {
   "cell_type": "code",
   "execution_count": 14,
   "id": "c0798cf5-9e7e-430a-9a9e-bec506e3bcbc",
   "metadata": {},
   "outputs": [
    {
     "name": "stdout",
     "output_type": "stream",
     "text": [
      "1 <class 'int'>\n"
     ]
    }
   ],
   "source": [
    "x = int(1.234)\n",
    "print(x, type(x))"
   ]
  },
  {
   "cell_type": "markdown",
   "id": "b0568d76-8afb-4a10-8c3d-864197435e2c",
   "metadata": {},
   "source": [
    "### Example 2\n",
    "As an English word (`str`)."
   ]
  },
  {
   "cell_type": "code",
   "execution_count": 15,
   "id": "c4ddd79b-cab6-425a-8705-787357adb6eb",
   "metadata": {},
   "outputs": [
    {
     "name": "stdout",
     "output_type": "stream",
     "text": [
      "1.234 <class 'str'>\n"
     ]
    }
   ],
   "source": [
    "x = str(1.234)\n",
    "print(x, type(x))"
   ]
  },
  {
   "cell_type": "markdown",
   "id": "b1033bed-875b-47ab-b0d6-571769657641",
   "metadata": {},
   "source": [
    "### Example 3\n",
    "As a decimal number (`float`)."
   ]
  },
  {
   "cell_type": "code",
   "execution_count": 16,
   "id": "9a2d5dd2-c192-4094-803d-be1ee1e73da4",
   "metadata": {},
   "outputs": [
    {
     "name": "stdout",
     "output_type": "stream",
     "text": [
      "1.234 <class 'float'>\n"
     ]
    }
   ],
   "source": [
    "x = float(1.234)\n",
    "print(x, type(x))"
   ]
  },
  {
   "cell_type": "markdown",
   "id": "e58b501f-43f2-4a5f-803b-b7a13c238c78",
   "metadata": {},
   "source": [
    "### Example 4\n",
    "As a complex number (`complex).\n",
    "This will include an imaginary part of the number."
   ]
  },
  {
   "cell_type": "code",
   "execution_count": 17,
   "id": "7fb7d406-4b55-4a0d-ab64-54ff90056102",
   "metadata": {},
   "outputs": [
    {
     "name": "stdout",
     "output_type": "stream",
     "text": [
      "(1.234+0j) <class 'complex'>\n"
     ]
    }
   ],
   "source": [
    "x = complex(1.234)\n",
    "print(x, type(x))"
   ]
  },
  {
   "cell_type": "markdown",
   "id": "61c0d853-de46-4d2c-8f04-af17651697f4",
   "metadata": {},
   "source": [
    "[more types of data](https://realpython.com/python-data-types/) "
   ]
  },
  {
   "cell_type": "markdown",
   "id": "2d9356b7-60e4-4008-a4ef-5dbc0df412c0",
   "metadata": {},
   "source": [
    "### Change the type of variables"
   ]
  },
  {
   "cell_type": "code",
   "execution_count": 18,
   "id": "22d30c80-1a41-40c6-acbd-874fcb58fcb8",
   "metadata": {},
   "outputs": [
    {
     "name": "stdout",
     "output_type": "stream",
     "text": [
      "1.234 <class 'str'>\n"
     ]
    }
   ],
   "source": [
    "x = '1.234'        # x is a string\n",
    "print(x, type(x))"
   ]
  },
  {
   "cell_type": "code",
   "execution_count": 20,
   "id": "d4b5fbda-8d97-4cdd-8685-d0db6d0de39d",
   "metadata": {},
   "outputs": [
    {
     "name": "stdout",
     "output_type": "stream",
     "text": [
      "1.234 <class 'float'>\n"
     ]
    }
   ],
   "source": [
    "x = float(x)       # x is now a decimal number\n",
    "print(x, type(x))  # we cast x to the type float here"
   ]
  },
  {
   "attachments": {},
   "cell_type": "markdown",
   "id": "8cda9904",
   "metadata": {},
   "source": [
    "# 5 Never compare floats directly"
   ]
  },
  {
   "cell_type": "markdown",
   "id": "665b7866-4685-4907-961e-a7bcceb7359b",
   "metadata": {},
   "source": [
    "## The problem"
   ]
  },
  {
   "cell_type": "markdown",
   "id": "68d89cbb-1c42-4ed9-b556-10d2ad260621",
   "metadata": {},
   "source": [
    "Since computers have finite (hardware) resources, floating point numbers cannot be exactly stored in a computer. This leads to errors called <font color=orange>roundoff errors<font color=black>. "
   ]
  },
  {
   "cell_type": "code",
   "execution_count": 21,
   "id": "28466508-eb82-4ac8-8d05-02b43dd4862b",
   "metadata": {},
   "outputs": [
    {
     "data": {
      "text/plain": [
       "False"
      ]
     },
     "execution_count": 21,
     "metadata": {},
     "output_type": "execute_result"
    }
   ],
   "source": [
    "a = 0.1\n",
    "a3 = 0.3\n",
    "a * 3 == a3"
   ]
  },
  {
   "cell_type": "markdown",
   "id": "4f68de18-1814-4976-972b-9e489e1d9882",
   "metadata": {},
   "source": [
    "We are expecting to see `True` but Python returns us `False`. \n",
    "<br>Print 0.3 to 17 decimal places:"
   ]
  },
  {
   "cell_type": "code",
   "execution_count": 22,
   "id": "ea21caed-4542-400d-aac6-7b7ea1f3520b",
   "metadata": {},
   "outputs": [
    {
     "data": {
      "text/plain": [
       "'0.29999999999999999'"
      ]
     },
     "execution_count": 22,
     "metadata": {},
     "output_type": "execute_result"
    }
   ],
   "source": [
    "f'{0.3:.17f}'"
   ]
  },
  {
   "cell_type": "code",
   "execution_count": null,
   "id": "d1abbf27-5b96-476b-a05a-f379140d649a",
   "metadata": {},
   "outputs": [],
   "source": [
    "M"
   ]
  },
  {
   "cell_type": "markdown",
   "id": "4d92cd59-4b4f-41c8-a12b-2d8424951204",
   "metadata": {},
   "source": [
    "Hence 0.3 `!=` 0.29999999999"
   ]
  },
  {
   "cell_type": "markdown",
   "id": "cc91f063-179b-46ca-a7c8-d67409dad589",
   "metadata": {},
   "source": [
    "## A solution"
   ]
  },
  {
   "cell_type": "code",
   "execution_count": 24,
   "id": "2652f75e-fb62-4a3c-a4db-79cf7716d5f6",
   "metadata": {},
   "outputs": [
    {
     "data": {
      "text/plain": [
       "5.551115123125783e-17"
      ]
     },
     "execution_count": 24,
     "metadata": {},
     "output_type": "execute_result"
    }
   ],
   "source": [
    "a*3 - a3"
   ]
  },
  {
   "cell_type": "markdown",
   "id": "73cd0069-6b29-4672-b4dd-b68bff5a073b",
   "metadata": {},
   "source": [
    "Thus, instead of checking whether the two float variables are euqal, check if the variables are **close** to the expected values."
   ]
  },
  {
   "cell_type": "code",
   "execution_count": 23,
   "id": "7e39f936-6300-4adb-9783-53a9750b55a5",
   "metadata": {},
   "outputs": [
    {
     "data": {
      "text/plain": [
       "True"
      ]
     },
     "execution_count": 23,
     "metadata": {},
     "output_type": "execute_result"
    }
   ],
   "source": [
    "eps = 1E-10\n",
    "abs(a * 3 - a3) < eps"
   ]
  },
  {
   "cell_type": "markdown",
   "id": "80589ae2-e3f4-4fc6-88fc-8d22b3a9c780",
   "metadata": {},
   "source": [
    "i.e. if the two values are close enough then they are equal."
   ]
  },
  {
   "attachments": {},
   "cell_type": "markdown",
   "id": "3e62c857",
   "metadata": {},
   "source": [
    "# 6 Combining Strings and variables"
   ]
  },
  {
   "cell_type": "markdown",
   "id": "c3fce835-a2da-451c-b6e8-b524e7c2dcae",
   "metadata": {},
   "source": [
    "### Example 1"
   ]
  },
  {
   "cell_type": "code",
   "execution_count": 25,
   "id": "845fb758-1870-4098-b139-ba431c1189c9",
   "metadata": {},
   "outputs": [
    {
     "name": "stdout",
     "output_type": "stream",
     "text": [
      "Hello Batman!\n"
     ]
    }
   ],
   "source": [
    "name = \"Batman\"\n",
    "print(f\"Hello {name}!\")"
   ]
  },
  {
   "cell_type": "markdown",
   "id": "3e2e58c9-308b-4e56-9dc5-173041599536",
   "metadata": {},
   "source": [
    "`f`, `{}`: **f-string** treats the things in the {} as variable.\n",
    "<br> it is called **string interpolation**"
   ]
  },
  {
   "cell_type": "markdown",
   "id": "f37b7254-e68a-4e60-bb5c-844135a3182d",
   "metadata": {},
   "source": [
    "### Example 2"
   ]
  },
  {
   "cell_type": "code",
   "execution_count": 26,
   "id": "21a648e2-ba6e-4279-9ec8-b8ba9357423e",
   "metadata": {},
   "outputs": [
    {
     "name": "stdout",
     "output_type": "stream",
     "text": [
      "Hello BATMAN!\n"
     ]
    }
   ],
   "source": [
    "name = \"Batman\"\n",
    "print(f\"Hello {name.upper()}!\")"
   ]
  },
  {
   "cell_type": "markdown",
   "id": "b935bd0b-ad01-46b1-992e-aadf41800e40",
   "metadata": {},
   "source": [
    "### Example 3"
   ]
  },
  {
   "cell_type": "code",
   "execution_count": 27,
   "id": "456be22b-cf6a-4daa-b461-e0905b207e48",
   "metadata": {},
   "outputs": [
    {
     "name": "stdout",
     "output_type": "stream",
     "text": [
      "The value of 10 squared is 100!\n"
     ]
    }
   ],
   "source": [
    "x = 10\n",
    "print(f\"The value of {x} squared is {x**2}!\")"
   ]
  },
  {
   "cell_type": "markdown",
   "id": "95e28e84-30ef-49b3-a317-6cbcf56b2e26",
   "metadata": {},
   "source": [
    "### Formatting a string or number"
   ]
  },
  {
   "cell_type": "markdown",
   "id": "76df0c12-64fc-42e7-99a1-14e3288d7364",
   "metadata": {},
   "source": [
    "#### Example 1"
   ]
  },
  {
   "cell_type": "code",
   "execution_count": 30,
   "id": "314d632f-63ab-466d-a40a-4615652fdd5d",
   "metadata": {},
   "outputs": [
    {
     "name": "stdout",
     "output_type": "stream",
     "text": [
      "Bruce Wayne is Batman.\n"
     ]
    }
   ],
   "source": [
    "# Using f-stirngs to format text(stirngs)\n",
    "text = 'Bruce Wayne is Batman.'\n",
    "print(f'{text}')"
   ]
  },
  {
   "cell_type": "code",
   "execution_count": 31,
   "id": "60e2c085-66fd-4025-b473-79ac84e968b6",
   "metadata": {},
   "outputs": [
    {
     "name": "stdout",
     "output_type": "stream",
     "text": [
      "        Bruce Wayne is Batman.\n"
     ]
    }
   ],
   "source": [
    "print(f'{text:>30}')      # A block of 30 characters;\n",
    "                          # aligned right"
   ]
  },
  {
   "cell_type": "code",
   "execution_count": 32,
   "id": "64026143-d401-46bb-8e36-4fb3316d16cd",
   "metadata": {},
   "outputs": [
    {
     "name": "stdout",
     "output_type": "stream",
     "text": [
      "Bruce Wayne is Batman.        \n"
     ]
    }
   ],
   "source": [
    "print(f'{text:<30}')      # A block of 30 characters;\n",
    "                          # aligned left"
   ]
  },
  {
   "cell_type": "code",
   "execution_count": 33,
   "id": "2b8c2964-c05d-42b2-8f60-e8a055e94499",
   "metadata": {},
   "outputs": [
    {
     "name": "stdout",
     "output_type": "stream",
     "text": [
      "    Bruce Wayne is Batman.    \n"
     ]
    }
   ],
   "source": [
    "print(f'{text:^30}')      # A block of 30 characters;\n",
    "                          # aligned center"
   ]
  },
  {
   "cell_type": "code",
   "execution_count": 35,
   "id": "92969059-83af-45c5-aa76-a6b3955549b6",
   "metadata": {},
   "outputs": [
    {
     "name": "stdout",
     "output_type": "stream",
     "text": [
      "-------------------Bruce Wayne is Batman.-------------------\n"
     ]
    }
   ],
   "source": [
    "print(f'{text:-^60}')      # A block of 30 characters;\n",
    "                           # aligned center; add dashes"
   ]
  },
  {
   "cell_type": "code",
   "execution_count": 36,
   "id": "bf7656e8-0960-4416-8ef5-c17b4eb4ebf4",
   "metadata": {},
   "outputs": [
    {
     "name": "stdout",
     "output_type": "stream",
     "text": [
      "xxxxxxxxxxxxxxxxxxxBruce Wayne is Batman.xxxxxxxxxxxxxxxxxxx\n"
     ]
    }
   ],
   "source": [
    "print(f'{text:x^60}')      # A block of 30 characters;\n",
    "                           # aligned center; add xxxx"
   ]
  },
  {
   "cell_type": "code",
   "execution_count": 37,
   "id": "c00f5972-736d-4fbc-9951-98130413462a",
   "metadata": {},
   "outputs": [
    {
     "name": "stdout",
     "output_type": "stream",
     "text": [
      "xxxxxxxxxxxxxxxxxxxxxxxxxxxxxxxxxxxxxxBruce Wayne is Batman.\n"
     ]
    }
   ],
   "source": [
    "print(f'{text:x>60}')      # A block of 30 characters;\n",
    "                           # aligned right; add xxxx"
   ]
  },
  {
   "cell_type": "code",
   "execution_count": 38,
   "id": "25e355a8-bc06-48c2-bc35-af74cff96f1f",
   "metadata": {},
   "outputs": [
    {
     "name": "stdout",
     "output_type": "stream",
     "text": [
      "Bruce Wayne is Batman.xxxxxxxxxxxxxxxxxxxxxxxxxxxxxxxxxxxxxx\n"
     ]
    }
   ],
   "source": [
    "print(f'{text:x<60}')      # A block of 30 characters;\n",
    "                           # aligned left; add xxxx"
   ]
  },
  {
   "cell_type": "markdown",
   "id": "02d97eda-9cf8-47a9-bd9d-75956526ee67",
   "metadata": {},
   "source": [
    "#### Example 2"
   ]
  },
  {
   "cell_type": "code",
   "execution_count": 41,
   "id": "95fb7d64-8843-4676-bdbd-fc1c539755f5",
   "metadata": {},
   "outputs": [
    {
     "name": "stdout",
     "output_type": "stream",
     "text": [
      "The cube of pi to 6 decimal places is 31.006277\n"
     ]
    }
   ],
   "source": [
    "# Using f-string to format numbers\n",
    "print(f'The cube of pi to 6 decimal places is {np.pi**3:.6f}')"
   ]
  },
  {
   "cell_type": "code",
   "execution_count": 49,
   "id": "48750a32-66c8-453c-9ed3-984cd708ee76",
   "metadata": {},
   "outputs": [
    {
     "name": "stdout",
     "output_type": "stream",
     "text": [
      "22 two divided by 7 gives             0.064140\n"
     ]
    }
   ],
   "source": [
    "# Using f-string to format numbers\n",
    "print(f'22 two divided by 7 gives {22/7**3:20.6f}') # The output number is 20 digits long and it has 6 decimal places"
   ]
  },
  {
   "cell_type": "code",
   "execution_count": 50,
   "id": "697b849a-b9a8-47c7-8245-f02e25c29143",
   "metadata": {},
   "outputs": [
    {
     "name": "stdout",
     "output_type": "stream",
     "text": [
      "22 two divided by 7 gives 0000000000000.064140\n"
     ]
    }
   ],
   "source": [
    "# Using f-string to format numbers\n",
    "print(f'22 two divided by 7 gives {22/7**3:020.6f}') # put zeros in front"
   ]
  },
  {
   "cell_type": "code",
   "execution_count": 51,
   "id": "28f7bc0f-e14b-453b-8f17-edab584faa73",
   "metadata": {},
   "outputs": [
    {
     "name": "stdout",
     "output_type": "stream",
     "text": [
      "22 two divided by 7 gives 0.064\n"
     ]
    }
   ],
   "source": [
    "# Using f-string to format numbers\n",
    "print(f'22 two divided by 7 gives {22/7**3:05.3f}') # f means float, d means integer, g means python autho figure our the type\n",
    "                                                    # 3 decimal places, 5 digits long"
   ]
  },
  {
   "cell_type": "markdown",
   "id": "670bcb9c-5efd-4fba-b8eb-ef88c2ee4da1",
   "metadata": {},
   "source": [
    "The general pattern of the code above:\n",
    "<br>\n",
    "```python\n",
    "{X:>0Y.ZW}\n",
    "```\n",
    "where `X` is the variable (number or string), `>` is alignment (`<` left justified, `>` right justified, `^` centre justified), `0` is adding 0 in the front, `Y` is the number of digits/characters, `Z` is the number of decimal places and `W` is the type of variable"
   ]
  },
  {
   "cell_type": "markdown",
   "id": "1237a738-bf7b-4770-b47d-2611837f64a0",
   "metadata": {},
   "source": [
    "# 7 Escape Sequences"
   ]
  },
  {
   "cell_type": "markdown",
   "id": "a06ce7d1-d56b-4060-977f-4ceed531f9b4",
   "metadata": {},
   "source": [
    "Special characters we sometimes need when writing English. "
   ]
  },
  {
   "cell_type": "code",
   "execution_count": 54,
   "id": "d1c3dc44-27d8-460b-b418-11b78f211963",
   "metadata": {},
   "outputs": [
    {
     "name": "stdout",
     "output_type": "stream",
     "text": [
      "Line 1\\x\n",
      "\tLine 2\n",
      "\t\tLine 3\n"
     ]
    }
   ],
   "source": [
    "# to break a line or add a tab\n",
    "print('Line 1\\\\x\\n\\tLine 2\\n\\t\\tLine 3') # use \\\\x to tell Python that is it not an escape sequence"
   ]
  },
  {
   "cell_type": "markdown",
   "id": "c39ae1ae-7e39-49c7-b842-5d5359592426",
   "metadata": {},
   "source": [
    "`\\n`: the command break line\n",
    "<br>`\\t`: horizontal tab\n",
    "<br> `\\'`: single quote\n",
    "<br> `\\\\`: backslash"
   ]
  },
  {
   "cell_type": "markdown",
   "id": "d043f88f-7a31-4bdf-b927-abbd6780ae6b",
   "metadata": {},
   "source": [
    "### Example 1: print '"
   ]
  },
  {
   "cell_type": "code",
   "execution_count": 55,
   "id": "4efdf1dc-f605-4d57-bb0d-69f5385c37c1",
   "metadata": {},
   "outputs": [
    {
     "name": "stdout",
     "output_type": "stream",
     "text": [
      "You're twenty years old.\n"
     ]
    }
   ],
   "source": [
    "print('You\\'re twenty years old.') "
   ]
  },
  {
   "cell_type": "markdown",
   "id": "448200d2-3b34-4f00-b97c-61ed62ac2e9c",
   "metadata": {},
   "source": [
    "### Example 2: print \\"
   ]
  },
  {
   "cell_type": "code",
   "execution_count": 58,
   "id": "7ff82aef-2229-4f12-a8cf-a7797ae5dae9",
   "metadata": {},
   "outputs": [
    {
     "name": "stdout",
     "output_type": "stream",
     "text": [
      "A\\B\\C\n"
     ]
    }
   ],
   "source": [
    "# print \\\n",
    "print('A\\\\B\\\\C')"
   ]
  },
  {
   "cell_type": "markdown",
   "id": "6f236de5-a9a0-4f57-a691-bb34f09efd08",
   "metadata": {},
   "source": [
    "### Example 3: breaklines"
   ]
  },
  {
   "cell_type": "code",
   "execution_count": 59,
   "id": "c7cf38ad-106f-4a04-90eb-33f02f70bf99",
   "metadata": {},
   "outputs": [
    {
     "name": "stdout",
     "output_type": "stream",
     "text": [
      "A\n",
      "B\n",
      "C\n"
     ]
    }
   ],
   "source": [
    "print('A\\nB\\nC')"
   ]
  },
  {
   "cell_type": "markdown",
   "id": "49c2e873-3b38-4144-9e93-a654bf19a4cb",
   "metadata": {},
   "source": [
    "### Example 4: tabs"
   ]
  },
  {
   "cell_type": "code",
   "execution_count": 60,
   "id": "316a5c1e-f8f4-4114-8fe1-f5bfd8b42800",
   "metadata": {},
   "outputs": [
    {
     "name": "stdout",
     "output_type": "stream",
     "text": [
      "A\tB\tC\n"
     ]
    }
   ],
   "source": [
    "print('A\\tB\\tC')"
   ]
  },
  {
   "attachments": {},
   "cell_type": "markdown",
   "id": "56cf4102",
   "metadata": {},
   "source": [
    "# 8 Computers read = from Right to Left!"
   ]
  },
  {
   "cell_type": "code",
   "execution_count": 61,
   "id": "3b3644e2-70f1-4e87-8922-8d846a147961",
   "metadata": {},
   "outputs": [],
   "source": [
    "x = 40\n",
    "y = x + 2"
   ]
  },
  {
   "cell_type": "code",
   "execution_count": 62,
   "id": "7b50b923-b7ac-473d-b3c5-418542ee2406",
   "metadata": {},
   "outputs": [
    {
     "name": "stdout",
     "output_type": "stream",
     "text": [
      "42\n"
     ]
    }
   ],
   "source": [
    "y = 40\n",
    "y = y + 2\n",
    "print(y)"
   ]
  },
  {
   "cell_type": "code",
   "execution_count": 63,
   "id": "88c79fe1-218c-4760-945d-4a0751744136",
   "metadata": {},
   "outputs": [],
   "source": [
    "x = y = 10  # Python also allows you to follow this syntax"
   ]
  },
  {
   "attachments": {},
   "cell_type": "markdown",
   "id": "a8e609bd",
   "metadata": {},
   "source": [
    "# 9 Shorter and Cleaner Code"
   ]
  },
  {
   "cell_type": "code",
   "execution_count": 64,
   "id": "727fb55a-cb01-499f-a55a-74cad3fe40ba",
   "metadata": {},
   "outputs": [
    {
     "data": {
      "text/plain": [
       "42"
      ]
     },
     "execution_count": 64,
     "metadata": {},
     "output_type": "execute_result"
    }
   ],
   "source": [
    "y = 40\n",
    "y = y + 2\n",
    "y"
   ]
  },
  {
   "cell_type": "code",
   "execution_count": 65,
   "id": "d2dbd0bc-0552-4c92-8a1a-ae38b2cc149d",
   "metadata": {},
   "outputs": [
    {
     "data": {
      "text/plain": [
       "42"
      ]
     },
     "execution_count": 65,
     "metadata": {},
     "output_type": "execute_result"
    }
   ],
   "source": [
    "y = 40\n",
    "y += 2    # Same as y = y + 2\n",
    "y"
   ]
  },
  {
   "cell_type": "markdown",
   "id": "4265652e-25b6-4194-80a2-b8399bac1f25",
   "metadata": {},
   "source": [
    "we can replace `y = y + 2` with `y += 2`"
   ]
  },
  {
   "cell_type": "markdown",
   "id": "4e887997-e4a9-411c-bac8-f5044f22d9db",
   "metadata": {},
   "source": [
    "|   |**Long form**|**Shorthand**|\n",
    "|:--|:--:|:--:|\n",
    "|Addition|'y = y+2'|'y +=2'|\n",
    "|Substraction|'y = y-2'|'y -=2'|\n",
    "|Multiplication|'y = y*2'|'y *=2'|\n",
    "|Division|'y = y/2'|'y /=2'|"
   ]
  },
  {
   "attachments": {},
   "cell_type": "markdown",
   "id": "ab78ab24",
   "metadata": {},
   "source": [
    "# 10 Python can be a prima-donna."
   ]
  },
  {
   "cell_type": "markdown",
   "id": "c9788302-c739-4063-9a16-6885d4f1ebe9",
   "metadata": {},
   "source": [
    "Fixing an error is called <font color=orange> debugging <font color=black>."
   ]
  },
  {
   "attachments": {},
   "cell_type": "markdown",
   "id": "f5bc74a0",
   "metadata": {},
   "source": [
    "# 11 Best Practices for Scientific Computing"
   ]
  },
  {
   "cell_type": "markdown",
   "id": "a88b51d5-f16c-4d4c-bb7d-6042f969bf89",
   "metadata": {},
   "source": [
    "1. Write programs for people, not computers.\n",
    "2. Optimise software only after it works correctly.\n",
    "3. Document design and purpose, not mechanics.\n",
    "4. Collaborate."
   ]
  }
 ],
 "metadata": {
  "kernelspec": {
   "display_name": "Python 3 (ipykernel)",
   "language": "python",
   "name": "python3"
  },
  "language_info": {
   "codemirror_mode": {
    "name": "ipython",
    "version": 3
   },
   "file_extension": ".py",
   "mimetype": "text/x-python",
   "name": "python",
   "nbconvert_exporter": "python",
   "pygments_lexer": "ipython3",
   "version": "3.10.9"
  },
  "toc": {
   "base_numbering": 1,
   "nav_menu": {},
   "number_sections": true,
   "sideBar": true,
   "skip_h1_title": false,
   "title_cell": "Table of Contents",
   "title_sidebar": "Contents",
   "toc_cell": false,
   "toc_position": {},
   "toc_section_display": true,
   "toc_window_display": false
  },
  "vscode": {
   "interpreter": {
    "hash": "31f2aee4e71d21fbe5cf8b01ff0e069b9275f58929596ceb00d14d90e3e16cd6"
   }
  }
 },
 "nbformat": 4,
 "nbformat_minor": 5
}
