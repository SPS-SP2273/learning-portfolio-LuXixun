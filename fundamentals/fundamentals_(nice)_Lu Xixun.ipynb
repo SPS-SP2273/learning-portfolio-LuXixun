{
 "cells": [
  {
   "attachments": {},
   "cell_type": "markdown",
   "id": "123456",
   "metadata": {},
   "source": [
    "<div style=\"text-align:left;font-size:2em\"><span style=\"font-weight:bolder;font-size:1.25em\">SP2273 | Learning Portfolio</span><br><br><span style=\"font-weight:bold;color:darkred\">Fundamentals (Nice)</span></div>"
   ]
  },
  {
   "attachments": {},
   "cell_type": "markdown",
   "id": "f0d75d98",
   "metadata": {},
   "source": [
    "# 1 If `if` is not enough"
   ]
  },
  {
   "cell_type": "markdown",
   "id": "d74dfdcf-00bd-4a90-9167-c011fbceec13",
   "metadata": {},
   "source": [
    "*Applies to Python 3.10 onwards \n",
    "**`match-case` statement**: can be used when using `if-elif-else` is crumbersome"
   ]
  },
  {
   "cell_type": "code",
   "execution_count": 1,
   "id": "69ed0eab-c076-42e0-a3f7-41178609ab17",
   "metadata": {},
   "outputs": [
    {
     "name": "stdout",
     "output_type": "stream",
     "text": [
      "Hello Hero | Batman!\n"
     ]
    }
   ],
   "source": [
    "name = 'Batman'\n",
    "\n",
    "match name:\n",
    "    case 'Batman':\n",
    "        print('Hello Hero | Batman!')\n",
    "    case 'Robin':\n",
    "        print('Hello Sidekick | Robin!')\n",
    "    case _:\n",
    "        print('Hello World!')"
   ]
  },
  {
   "attachments": {},
   "cell_type": "markdown",
   "id": "3ce05177",
   "metadata": {},
   "source": [
    "# 2 Ternary operators or Conditional Statements"
   ]
  },
  {
   "cell_type": "markdown",
   "id": "91bf0ae9-d2ce-4d46-ae16-f6576784d6ec",
   "metadata": {},
   "source": [
    "Python offers **ternary operators** (containing three parts) that can be useful to make your code more readable and less verbose.\n",
    "\n",
    "<br> **Syntax**: `[on_true] if [expression] else [pn_false]` OR\n",
    "<br> `(on_false, on_true) [expression]`"
   ]
  },
  {
   "cell_type": "code",
   "execution_count": 8,
   "id": "ca259755-fc3d-4d1a-becf-8649a34a08ac",
   "metadata": {},
   "outputs": [
    {
     "name": "stdout",
     "output_type": "stream",
     "text": [
      "Bonjour!\n"
     ]
    }
   ],
   "source": [
    "# Example 1:\n",
    "# instead of\n",
    "nationality = \"French\"\n",
    "\n",
    "if nationality == 'French':\n",
    "    greeting = \"Bonjour!\"\n",
    "else:\n",
    "    greeting = \"Hello!\"\n",
    "\n",
    "print(greeting)"
   ]
  },
  {
   "cell_type": "code",
   "execution_count": 13,
   "id": "8f1ce797-e7c3-48f5-8545-29a1f8e6d24a",
   "metadata": {},
   "outputs": [
    {
     "name": "stdout",
     "output_type": "stream",
     "text": [
      "Bonjour!\n"
     ]
    }
   ],
   "source": [
    "# we can write\n",
    "greeting = \"Bonjour!\" if nationality == 'French' else \"Hello!\"\n",
    "print(greeting)"
   ]
  },
  {
   "cell_type": "code",
   "execution_count": 14,
   "id": "ec001b14-1b51-4c00-af29-520fbfd8e101",
   "metadata": {},
   "outputs": [
    {
     "data": {
      "text/plain": [
       "'Bonjour!'"
      ]
     },
     "execution_count": 14,
     "metadata": {},
     "output_type": "execute_result"
    }
   ],
   "source": [
    "# or using Ternary operator using TUPLES\n",
    "# if [] is true, then it returns 1. The element in (,) with index one will print. i.e. the second term\n",
    "# if [] is false, then it returns 0. The element in (,) with index zero will print. i.e. the first term \n",
    "\n",
    "(\"Hello!\", \"Bonjour!\")[nationality == 'French']"
   ]
  },
  {
   "cell_type": "code",
   "execution_count": 22,
   "id": "ab9b1192-0beb-49ff-a141-93e43933529c",
   "metadata": {},
   "outputs": [
    {
     "name": "stdout",
     "output_type": "stream",
     "text": [
      "No message!\n",
      "HAHAH\n"
     ]
    }
   ],
   "source": [
    "# Example 2:\n",
    "\n",
    "text = None\n",
    "message = text or \"No message!\"\n",
    "\n",
    "print(message)\n",
    "\n",
    "text2 = \"HAHAH\"\n",
    "message2 = text2 or \"No message!\"\n",
    "\n",
    "print(message2)\n",
    "\n",
    "#if text = None:\n",
    "    #return \"No message!\"\n",
    "#else:\n",
    "    #return text"
   ]
  },
  {
   "attachments": {},
   "cell_type": "markdown",
   "id": "7a2cb874",
   "metadata": {},
   "source": [
    "# 3 Swapping values"
   ]
  },
  {
   "cell_type": "markdown",
   "id": "f83b5bce-69c5-486c-9042-431f82b0519e",
   "metadata": {},
   "source": [
    "Swap the contect of two variables "
   ]
  },
  {
   "cell_type": "code",
   "execution_count": 23,
   "id": "bf9f3619-dd02-4de3-9dad-fb9b6a664512",
   "metadata": {},
   "outputs": [
    {
     "name": "stdout",
     "output_type": "stream",
     "text": [
      "2 1\n"
     ]
    }
   ],
   "source": [
    "a, b = 1, 2\n",
    "a, b = b, a\n",
    "print(a, b)"
   ]
  },
  {
   "attachments": {},
   "cell_type": "markdown",
   "id": "bfa56bc9",
   "metadata": {},
   "source": [
    "# 4 There are more types"
   ]
  },
  {
   "cell_type": "markdown",
   "id": "1c9254e7-759a-4354-8b14-40553b8ca542",
   "metadata": {},
   "source": [
    "- `numpy.finfo()` function shows machine limits for floating point types.\n"
   ]
  },
  {
   "cell_type": "code",
   "execution_count": 8,
   "id": "2e0c2c06-219a-4027-a6b0-09fc7de96a04",
   "metadata": {},
   "outputs": [
    {
     "name": "stdout",
     "output_type": "stream",
     "text": [
      "Machine parameters for float32\n",
      "---------------------------------------------------------------\n",
      "precision =   6   resolution = 1.0000000e-06\n",
      "machep =    -23   eps =        1.1920929e-07\n",
      "negep =     -24   epsneg =     5.9604645e-08\n",
      "minexp =   -126   tiny =       1.1754944e-38\n",
      "maxexp =    128   max =        3.4028235e+38\n",
      "nexp =        8   min =        -max\n",
      "smallest_normal = 1.1754944e-38   smallest_subnormal = 1.4012985e-45\n",
      "---------------------------------------------------------------\n",
      "\n"
     ]
    }
   ],
   "source": [
    "gfg = np.finfo(np.float32) \n",
    "     \n",
    "print (gfg) "
   ]
  },
  {
   "cell_type": "code",
   "execution_count": 9,
   "id": "9d107813-9ddd-4c3e-a320-0422406aa9a7",
   "metadata": {},
   "outputs": [
    {
     "name": "stdout",
     "output_type": "stream",
     "text": [
      "Machine parameters for float64\n",
      "---------------------------------------------------------------\n",
      "precision =  15   resolution = 1.0000000000000001e-15\n",
      "machep =    -52   eps =        2.2204460492503131e-16\n",
      "negep =     -53   epsneg =     1.1102230246251565e-16\n",
      "minexp =  -1022   tiny =       2.2250738585072014e-308\n",
      "maxexp =   1024   max =        1.7976931348623157e+308\n",
      "nexp =       11   min =        -max\n",
      "smallest_normal = 2.2250738585072014e-308   smallest_subnormal = 4.9406564584124654e-324\n",
      "---------------------------------------------------------------\n",
      "\n"
     ]
    }
   ],
   "source": [
    "gfg = np.finfo(np.float64) \n",
    "     \n",
    "print (gfg) "
   ]
  },
  {
   "cell_type": "markdown",
   "id": "67c1dd50-b04a-4cd3-8f9b-0cc6c33e11d8",
   "metadata": {},
   "source": [
    "- The different **NumPy float** types allow us to store floats in different precision, dependent on the number of bits we allow the float to use:\n",
    "- np.float16: use 16 bits (two bytes)\n",
    "- np.float32: “single-precision” or \"32-bit floats\"\n",
    "  \n",
    "<br>The following gives the difference between 1.0 and the next biggest nearest float for the various types:"
   ]
  },
  {
   "cell_type": "code",
   "execution_count": 7,
   "id": "cf8108e1-74f5-4e1f-a113-63479c4b80d1",
   "metadata": {},
   "outputs": [
    {
     "name": "stdout",
     "output_type": "stream",
     "text": [
      "float          : 2.220446049250313e-16\n",
      "float16        : 0.000977\n",
      "float32        : 1.1920929e-07\n",
      "float64        : 2.220446049250313e-16\n"
     ]
    }
   ],
   "source": [
    "import numpy as np\n",
    "my_types = [\n",
    "    float,       # Default for core Python on my machine\n",
    "    np.float16,\n",
    "    np.float32,\n",
    "    np.float64   \n",
    "  \n",
    "]\n",
    "\n",
    "for my_type in my_types:\n",
    "    print(f'{my_type.__name__:<15s}:', np.finfo(my_type).eps)"
   ]
  },
  {
   "cell_type": "code",
   "execution_count": 10,
   "id": "a9c6ab89-38c7-46cf-87a6-55433972af3c",
   "metadata": {},
   "outputs": [
    {
     "ename": "AttributeError",
     "evalue": "module 'numpy' has no attribute 'float128'",
     "output_type": "error",
     "traceback": [
      "\u001b[0;31m---------------------------------------------------------------------------\u001b[0m",
      "\u001b[0;31mAttributeError\u001b[0m                            Traceback (most recent call last)",
      "Cell \u001b[0;32mIn[10], line 6\u001b[0m\n\u001b[1;32m      1\u001b[0m my_types \u001b[38;5;241m=\u001b[39m [\n\u001b[1;32m      2\u001b[0m     \u001b[38;5;28mfloat\u001b[39m,       \u001b[38;5;66;03m# Default for core Python on my machine\u001b[39;00m\n\u001b[1;32m      3\u001b[0m     np\u001b[38;5;241m.\u001b[39mfloat16,\n\u001b[1;32m      4\u001b[0m     np\u001b[38;5;241m.\u001b[39mfloat32,\n\u001b[1;32m      5\u001b[0m     np\u001b[38;5;241m.\u001b[39mfloat64,\n\u001b[0;32m----> 6\u001b[0m     \u001b[43mnp\u001b[49m\u001b[38;5;241;43m.\u001b[39;49m\u001b[43mfloat128\u001b[49m\n\u001b[1;32m      7\u001b[0m ]\n\u001b[1;32m      9\u001b[0m \u001b[38;5;28;01mfor\u001b[39;00m my_type \u001b[38;5;129;01min\u001b[39;00m my_types:\n\u001b[1;32m     10\u001b[0m     \u001b[38;5;28mprint\u001b[39m(\u001b[38;5;124mf\u001b[39m\u001b[38;5;124m'\u001b[39m\u001b[38;5;132;01m{\u001b[39;00mmy_type\u001b[38;5;241m.\u001b[39m\u001b[38;5;18m__name__\u001b[39m\u001b[38;5;132;01m:\u001b[39;00m\u001b[38;5;124m<15s\u001b[39m\u001b[38;5;132;01m}\u001b[39;00m\u001b[38;5;124m:\u001b[39m\u001b[38;5;124m'\u001b[39m, np\u001b[38;5;241m.\u001b[39mfinfo(my_type)\u001b[38;5;241m.\u001b[39meps)\n",
      "File \u001b[0;32m~/anaconda3/lib/python3.10/site-packages/numpy/__init__.py:311\u001b[0m, in \u001b[0;36m__getattr__\u001b[0;34m(attr)\u001b[0m\n\u001b[1;32m    308\u001b[0m     \u001b[38;5;28;01mfrom\u001b[39;00m \u001b[38;5;21;01m.\u001b[39;00m\u001b[38;5;21;01mtesting\u001b[39;00m \u001b[38;5;28;01mimport\u001b[39;00m Tester\n\u001b[1;32m    309\u001b[0m     \u001b[38;5;28;01mreturn\u001b[39;00m Tester\n\u001b[0;32m--> 311\u001b[0m \u001b[38;5;28;01mraise\u001b[39;00m \u001b[38;5;167;01mAttributeError\u001b[39;00m(\u001b[38;5;124m\"\u001b[39m\u001b[38;5;124mmodule \u001b[39m\u001b[38;5;132;01m{!r}\u001b[39;00m\u001b[38;5;124m has no attribute \u001b[39m\u001b[38;5;124m\"\u001b[39m\n\u001b[1;32m    312\u001b[0m                      \u001b[38;5;124m\"\u001b[39m\u001b[38;5;132;01m{!r}\u001b[39;00m\u001b[38;5;124m\"\u001b[39m\u001b[38;5;241m.\u001b[39mformat(\u001b[38;5;18m__name__\u001b[39m, attr))\n",
      "\u001b[0;31mAttributeError\u001b[0m: module 'numpy' has no attribute 'float128'"
     ]
    }
   ],
   "source": [
    "my_types = [\n",
    "    float,       # Default for core Python on my machine\n",
    "    np.float16,\n",
    "    np.float32,\n",
    "    np.float64,\n",
    "    np.float128  # float128 not in numpy?\n",
    "]\n",
    "\n",
    "for my_type in my_types:\n",
    "    print(f'{my_type.__name__:<15s}:', np.finfo(my_type).eps)"
   ]
  },
  {
   "attachments": {},
   "cell_type": "markdown",
   "id": "6b17f6a1",
   "metadata": {},
   "source": [
    "# 5 Operator precedance"
   ]
  },
  {
   "cell_type": "markdown",
   "id": "3019a7c0-6a97-40f1-9dcf-b1a4f656d3a9",
   "metadata": {},
   "source": [
    "1. Highest precedence at the top, lowest at the bottom.\n",
    "2. Operators in the same box evaluate left to right. "
   ]
  },
  {
   "cell_type": "markdown",
   "id": "bd4d81bf-3001-4515-92bf-33255c966442",
   "metadata": {},
   "source": [
    "|**Description**|**Operator**||\n",
    "|:---|:---|:---|\n",
    "|Parentheses (grouping)|`()`||\n",
    "|Function call|`f(args)`||\n",
    "|Slicing|`x[index:index]`|You can return a range of characters by using the slice syntax. Specify the start index and the end index, separated by a colon, to return a part of the string.|\n",
    "|Subscription|`x[index]`|?|\n",
    "|Attribute reference|`x.attribute`|?|\n",
    "|Exponentiation|`**`|?|\n",
    "|Bitwise not|`~x`|?|\n",
    "|Postive, negative |`+x, -x`||\n",
    "|Multiplication, division, remainder|`*, /, %`||\n",
    "|Addition, substraction|`+, -`||\n",
    "|Bitwise shifts|`<<, >>`|?|\n",
    "|Bitwise AND|`&`|? what is bitwise|\n",
    "|Bitwise XOR|`^`|?|\n",
    "|Bitwisr OR|`\\|`|?|\n",
    "|Comparisions|`in, not in, is , is not, <, <=, >, >=, <>, !=, ==`||\n",
    "|Boolean NOT|`not x`||\n",
    "|Boolean AND|`and`||\n",
    "|Boolean OR|`or`||\n",
    "|Lambda expression|`lambda`|?how to use it|"
   ]
  },
  {
   "attachments": {},
   "cell_type": "markdown",
   "id": "4e9b1fc9",
   "metadata": {},
   "source": [
    "# 6 Variables in Python are just names"
   ]
  },
  {
   "attachments": {},
   "cell_type": "markdown",
   "id": "361205e4",
   "metadata": {},
   "source": [
    "## 6.1 The Problem"
   ]
  },
  {
   "cell_type": "code",
   "execution_count": 11,
   "id": "14056ee2-df83-4a79-9fec-6aa0355dd608",
   "metadata": {},
   "outputs": [
    {
     "name": "stdout",
     "output_type": "stream",
     "text": [
      "x: [1, 2, 3], y: [1, 2, 3]\n"
     ]
    }
   ],
   "source": [
    "x = [1, 2]\n",
    "y = x\n",
    "y.append(3) # append: extend the string with the thing in the bracket\n",
    "\n",
    "print(f\"x: {x}, y: {y}\")"
   ]
  },
  {
   "attachments": {},
   "cell_type": "markdown",
   "id": "732ef582",
   "metadata": {},
   "source": [
    "## 6.2 An explanation"
   ]
  },
  {
   "cell_type": "markdown",
   "id": "13de5ff9-875f-4e77-82eb-a3f6ed9fb68d",
   "metadata": {},
   "source": [
    "### Case 1"
   ]
  },
  {
   "cell_type": "code",
   "execution_count": 12,
   "id": "dc0dd601-b433-4c46-9a4d-720edf17dc9a",
   "metadata": {},
   "outputs": [
    {
     "data": {
      "text/plain": [
       "'CODE 1'"
      ]
     },
     "execution_count": 12,
     "metadata": {},
     "output_type": "execute_result"
    }
   ],
   "source": [
    "'''CODE 1'''"
   ]
  },
  {
   "cell_type": "code",
   "execution_count": 13,
   "id": "f45dc347-a9e4-4511-bb72-70f4a701a486",
   "metadata": {},
   "outputs": [
    {
     "name": "stdout",
     "output_type": "stream",
     "text": [
      "x: 4343955696, y: 4343955696, 1: 4343955696\n"
     ]
    }
   ],
   "source": [
    "x = 1\n",
    "y = 1\n",
    "\n",
    "print(f\"x: {id(x)}, y: {id(y)}, 1: {id(1)}\") # f-string: treat the thing in {} as a variable"
   ]
  },
  {
   "cell_type": "markdown",
   "id": "f7c06b94-e0fa-421b-98cf-c3bb2ae6ab61",
   "metadata": {},
   "source": [
    "The above code tells us that `x`, `y` both have the same id as `1`! "
   ]
  },
  {
   "cell_type": "markdown",
   "id": "a5005449-b4af-491d-b07f-af6a7137701a",
   "metadata": {},
   "source": [
    "1. **Before** the code is run, Python has things or **objects** `1`, `2` and `a` that have three properties **type**, **value** and **id**. For example, 1 can have the value `1`, type `int`, and some id. `a` can have the value ‘a’, type `str` and some id.\n",
    "\n",
    "2. **After** the code is run, `x` and `y` are ‘looking at’ or bound to `1`. So `x` and `y` are referred to as **names** that are **bound** to `1`."
   ]
  },
  {
   "cell_type": "markdown",
   "id": "2078b3bc-a868-4b61-ae55-4d45fa881f29",
   "metadata": {},
   "source": [
    "### Case 2"
   ]
  },
  {
   "cell_type": "code",
   "execution_count": 14,
   "id": "808520ff-f175-4b97-9bd9-094426a1c438",
   "metadata": {},
   "outputs": [
    {
     "data": {
      "text/plain": [
       "'CODE 2'"
      ]
     },
     "execution_count": 14,
     "metadata": {},
     "output_type": "execute_result"
    }
   ],
   "source": [
    "'''CODE 2'''"
   ]
  },
  {
   "cell_type": "code",
   "execution_count": 16,
   "id": "ae0924e8-bf51-4972-a042-1b414dac8e2d",
   "metadata": {},
   "outputs": [
    {
     "name": "stdout",
     "output_type": "stream",
     "text": [
      "x: 4343955696, y: 4343955728\n"
     ]
    }
   ],
   "source": [
    "x = 1\n",
    "y = x + 1\n",
    "\n",
    "print(f\"x: {id(x)}, y: {id(y)}\")"
   ]
  },
  {
   "cell_type": "code",
   "execution_count": 17,
   "id": "63c0c4c3-9867-4bf0-a80e-c4b6b5f38cb5",
   "metadata": {},
   "outputs": [
    {
     "name": "stdout",
     "output_type": "stream",
     "text": [
      "1: 4343955696, 2: 4343955728\n"
     ]
    }
   ],
   "source": [
    "print(f\"1: {id(1)}, 2: {id(2)}\")"
   ]
  },
  {
   "cell_type": "markdown",
   "id": "b21da8af-3ee3-429f-9c69-7a7abe9cc222",
   "metadata": {},
   "source": [
    "Since the mathematical operation requires `y` to have the value `2`, `y` now gets bound to object `2`. This happens because the value of object `1` **cannot be changed**, so the binding is changed instead."
   ]
  },
  {
   "cell_type": "markdown",
   "id": "ca232904-2279-42f1-b0d9-4f0d9bc21ae9",
   "metadata": {},
   "source": [
    "Objects such as `1` whose values **cannot** be changed are called **immutabl**e. Other such immutable types are `str`(i.e., letters), `float`, `bool`."
   ]
  },
  {
   "cell_type": "markdown",
   "id": "67a658c8-097e-4589-baea-116d78bd942d",
   "metadata": {},
   "source": [
    "There are also objects whose values **can** be changed. These types are called **mutable** and include `lists` and `dictionaries` and instances of classes. These behave differently, as highlighted in the problem above."
   ]
  },
  {
   "cell_type": "code",
   "execution_count": 18,
   "id": "33dab1ec-b84e-4d77-8494-7c0d93a23044",
   "metadata": {},
   "outputs": [],
   "source": [
    "# x is bound to a list object with a value [1 ,2]\n",
    "x = [1, 2]\n",
    "\n",
    "# y is bound to the SAME list object with a value [1 ,2]\n",
    "y = x\n",
    "\n",
    "# y is used to change the value of the object from  [1, 2] to [1, 2, 3]\n",
    "y.append(3)"
   ]
  },
  {
   "cell_type": "markdown",
   "id": "7f7fbe98-a4a2-47af-8ee7-f92cdece6879",
   "metadata": {},
   "source": [
    "**Summary**:\n",
    "- mutable type: values can be changed\n",
    "- immutable type: values cannot be changed"
   ]
  },
  {
   "attachments": {},
   "cell_type": "markdown",
   "id": "c644d227",
   "metadata": {},
   "source": [
    "## 6.3 A solution"
   ]
  },
  {
   "cell_type": "markdown",
   "id": "b1475883-31a8-4d75-9fdd-f15ac577c878",
   "metadata": {},
   "source": [
    "To make `y` have an independent copy of `x`, use the `copy()` function:"
   ]
  },
  {
   "cell_type": "code",
   "execution_count": 20,
   "id": "6817e12c-2463-46d8-8032-8e425bed5da4",
   "metadata": {},
   "outputs": [],
   "source": [
    "y = x.copy()"
   ]
  },
  {
   "cell_type": "code",
   "execution_count": 24,
   "id": "257ea269-fca2-4320-9da0-eca67960e669",
   "metadata": {},
   "outputs": [
    {
     "name": "stdout",
     "output_type": "stream",
     "text": [
      "x: [1, 2], y: [1, 2]\n"
     ]
    }
   ],
   "source": [
    "x = [1, 2]\n",
    "y = x.copy()\n",
    "\n",
    "print(f\"x: {x}, y: {y}\")"
   ]
  },
  {
   "cell_type": "markdown",
   "id": "49dd7086-7233-4190-b620-0b1bbab5527e",
   "metadata": {},
   "source": [
    "The `copy()` method returns a copy of the specified list."
   ]
  },
  {
   "attachments": {},
   "cell_type": "markdown",
   "id": "237abedf",
   "metadata": {},
   "source": [
    "# 7 == is not the same as is"
   ]
  },
  {
   "cell_type": "markdown",
   "id": "d0b48bd8-6554-4e5f-a869-f027690184b5",
   "metadata": {},
   "source": [
    "`x is y`: **checks for identity**. i. e., it asks if `x` and `y` are **bound to the same object** by comparing the ID.\n",
    "\n",
    "`x == y`: **checks for equality** by **running a function** that checks for equality (such as `_eq_` of a class). You will understand more of this as we develop the idea of classes in later chapters."
   ]
  },
  {
   "attachments": {},
   "cell_type": "markdown",
   "id": "468d20f0",
   "metadata": {},
   "source": [
    "## Footnotes"
   ]
  }
 ],
 "metadata": {
  "kernelspec": {
   "display_name": "Python 3 (ipykernel)",
   "language": "python",
   "name": "python3"
  },
  "language_info": {
   "codemirror_mode": {
    "name": "ipython",
    "version": 3
   },
   "file_extension": ".py",
   "mimetype": "text/x-python",
   "name": "python",
   "nbconvert_exporter": "python",
   "pygments_lexer": "ipython3",
   "version": "3.10.9"
  },
  "toc": {
   "base_numbering": 1,
   "nav_menu": {},
   "number_sections": true,
   "sideBar": true,
   "skip_h1_title": false,
   "title_cell": "Table of Contents",
   "title_sidebar": "Contents",
   "toc_cell": false,
   "toc_position": {},
   "toc_section_display": true,
   "toc_window_display": false
  },
  "vscode": {
   "interpreter": {
    "hash": "31f2aee4e71d21fbe5cf8b01ff0e069b9275f58929596ceb00d14d90e3e16cd6"
   }
  }
 },
 "nbformat": 4,
 "nbformat_minor": 5
}
