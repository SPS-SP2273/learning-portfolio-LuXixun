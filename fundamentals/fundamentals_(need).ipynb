{
 "cells": [
  {
   "cell_type": "markdown",
   "id": "123456",
   "metadata": {},
   "source": [
    "<div style=\"text-align:left;font-size:2em\"><span style=\"font-weight:bolder;font-size:1.25em\">SP2273 | Learning Portfolio</span><br><br><span style=\"font-weight:bold;color:darkred\">Fundamentals (Need)</span></div>"
   ]
  },
  {
   "cell_type": "markdown",
   "id": "f716174e-6623-40cc-ab19-43d651ca0944",
   "metadata": {},
   "source": [
    "# 1 Functions"
   ]
  },
  {
   "cell_type": "markdown",
   "id": "81b54eef-f31b-4fb4-ad3a-f0480f76d2c2",
   "metadata": {},
   "source": [
    "Python goes **line by line** since it is an interpreter language as opposed to a compiler language such as C++ which executes codes in one go. Hence python is slower compared to compiler language."
   ]
  },
  {
   "cell_type": "code",
   "execution_count": 1,
   "id": "a04339a2-b5f0-4523-8ece-f616dcd23e20",
   "metadata": {},
   "outputs": [
    {
     "name": "stdout",
     "output_type": "stream",
     "text": [
      "Hello World!\n"
     ]
    }
   ],
   "source": [
    "print('Hello World!')"
   ]
  },
  {
   "cell_type": "markdown",
   "id": "b119a712-14c1-4d7f-8d91-a1ce89a3736a",
   "metadata": {},
   "source": [
    "# 2 Python is interpreted"
   ]
  },
  {
   "cell_type": "code",
   "execution_count": 3,
   "id": "026f4c3c-24e3-4b6a-9603-e8624e0065a7",
   "metadata": {},
   "outputs": [
    {
     "name": "stdout",
     "output_type": "stream",
     "text": [
      "Hello World!\n",
      "Hello World again 2\n",
      "Hello World hahah\n",
      "Hellow World again 3\n"
     ]
    }
   ],
   "source": [
    "print('Hello World!')\n",
    "print('Hello World again 2')\n",
    "print('Hello World hahah')\n",
    "print('Hellow World again 3')"
   ]
  },
  {
   "cell_type": "markdown",
   "id": "c6625927-edda-4394-afc3-894f920d08d2",
   "metadata": {},
   "source": [
    "The interpreter stops and complains if there is an error in the command it is currently executing. "
   ]
  },
  {
   "cell_type": "markdown",
   "id": "4771be1c",
   "metadata": {},
   "source": [
    "# 3 Python is sensitive."
   ]
  },
  {
   "cell_type": "markdown",
   "id": "e2047a84-bce9-44cd-a936-020cf473e7ac",
   "metadata": {},
   "source": [
    "Python is case-sensitive, so `Print()` is different from `print()`."
   ]
  },
  {
   "cell_type": "code",
   "execution_count": 2,
   "id": "c62fa15f-0fd2-4b16-b3c6-75bf99931fd9",
   "metadata": {},
   "outputs": [
    {
     "name": "stdout",
     "output_type": "stream",
     "text": [
      "Hello World\n"
     ]
    },
    {
     "ename": "NameError",
     "evalue": "name 'Print' is not defined",
     "output_type": "error",
     "traceback": [
      "\u001b[0;31m---------------------------------------------------------------------------\u001b[0m",
      "\u001b[0;31mNameError\u001b[0m                                 Traceback (most recent call last)",
      "Cell \u001b[0;32mIn[2], line 2\u001b[0m\n\u001b[1;32m      1\u001b[0m \u001b[38;5;28mprint\u001b[39m(\u001b[38;5;124m'\u001b[39m\u001b[38;5;124mHello World\u001b[39m\u001b[38;5;124m'\u001b[39m)      \u001b[38;5;66;03m# This WILL work\u001b[39;00m\n\u001b[0;32m----> 2\u001b[0m \u001b[43mPrint\u001b[49m(\u001b[38;5;124m'\u001b[39m\u001b[38;5;124mHello World\u001b[39m\u001b[38;5;124m'\u001b[39m)\n",
      "\u001b[0;31mNameError\u001b[0m: name 'Print' is not defined"
     ]
    }
   ],
   "source": [
    "print('Hello World')      # This WILL work\n",
    "Print('Hello World')      # This will NOT work"
   ]
  },
  {
   "cell_type": "markdown",
   "id": "c5c174d2",
   "metadata": {},
   "source": [
    "# 4 Comments"
   ]
  },
  {
   "cell_type": "markdown",
   "id": "9812f27a-aad0-4ea2-bba7-aec5454fe0a1",
   "metadata": {},
   "source": [
    "- `#` is the comment in Python. \n",
    "- Python skips the comments\n",
    "- use comments to emphasize the purpose of the code"
   ]
  },
  {
   "cell_type": "code",
   "execution_count": 3,
   "id": "fb1b1834-d5b6-46d6-82e6-f3e6e7483e04",
   "metadata": {},
   "outputs": [
    {
     "name": "stdout",
     "output_type": "stream",
     "text": [
      "One\n",
      "Three\n"
     ]
    }
   ],
   "source": [
    "# This is a comment\n",
    "print('One')              # This is a comment.\n",
    "# print('Two')            # The interpreter ignores this line.\n",
    "print('Three')            # This is\n",
    "                          # also a way to\n",
    "                          # write comments"
   ]
  },
  {
   "cell_type": "markdown",
   "id": "e9bc7043",
   "metadata": {},
   "source": [
    "# 5 = is not the same as =="
   ]
  },
  {
   "cell_type": "markdown",
   "id": "e182a620-1dc7-4286-9b64-6c89921ed21b",
   "metadata": {},
   "source": [
    "- `=` is used to **set** something equal."
   ]
  },
  {
   "cell_type": "code",
   "execution_count": null,
   "id": "a9499332-93db-41e0-98a0-1bc8b1d81cb1",
   "metadata": {},
   "outputs": [],
   "source": [
    "name = 'Batman' # Make name carry 'Batman'"
   ]
  },
  {
   "cell_type": "markdown",
   "id": "98c4369b-9ada-43d7-8c08-e81a2e0ab7f3",
   "metadata": {},
   "source": [
    "- `==` is used to **check** to check if something is equal."
   ]
  },
  {
   "cell_type": "code",
   "execution_count": 5,
   "id": "1390da6c-1ec1-431d-9516-9ea25689ca8d",
   "metadata": {},
   "outputs": [
    {
     "data": {
      "text/plain": [
       "True"
      ]
     },
     "execution_count": 5,
     "metadata": {},
     "output_type": "execute_result"
    }
   ],
   "source": [
    "name == 'Batman' # Tell me if name is euqal to 'Batman'?\n",
    "                 # Answer: True or False"
   ]
  },
  {
   "cell_type": "markdown",
   "id": "43f8acf3",
   "metadata": {},
   "source": [
    "# Use if to make decisions"
   ]
  },
  {
   "cell_type": "markdown",
   "id": "f5979cb2-20b9-4b1f-a462-1104ed82b8d6",
   "metadata": {},
   "source": [
    "`if` can be used to branch the flow of the program."
   ]
  },
  {
   "cell_type": "code",
   "execution_count": 6,
   "id": "82b033dc-8522-4773-b4eb-5fb7520b6ea7",
   "metadata": {},
   "outputs": [
    {
     "name": "stdout",
     "output_type": "stream",
     "text": [
      "Hello Batman!\n"
     ]
    }
   ],
   "source": [
    "name = 'Batman'\n",
    "\n",
    "if name == 'Batman':\n",
    "    print('Hello Batman!')\n",
    "else:\n",
    "    print('Hello World!')"
   ]
  },
  {
   "cell_type": "code",
   "execution_count": 7,
   "id": "4ee53846-6143-46d8-a0f5-f9ba6042a9ba",
   "metadata": {},
   "outputs": [
    {
     "name": "stdout",
     "output_type": "stream",
     "text": [
      "Hello World!\n"
     ]
    }
   ],
   "source": [
    "name = 'Me'\n",
    "\n",
    "if name == 'Batman':\n",
    "    print('Hello Batman!')\n",
    "else:\n",
    "    print('Hello World!')"
   ]
  },
  {
   "cell_type": "code",
   "execution_count": 10,
   "id": "d0e0297e-6fa3-4d03-a586-d502c60628bd",
   "metadata": {},
   "outputs": [
    {
     "name": "stdout",
     "output_type": "stream",
     "text": [
      "Hello Batman!\n",
      "Hello Batman!\n",
      "Hello Batman!\n",
      "Hello Batman!\n",
      "Hello Batman!\n"
     ]
    }
   ],
   "source": [
    "name = 'Batman' # shortcut for comment: command + /\n",
    "\n",
    "if name == 'Batman':\n",
    "    print('Hello Batman!') # identify the block of code using indentations\n",
    "    print('Hello Batman!')\n",
    "    print('Hello Batman!')\n",
    "    print('Hello Batman!')\n",
    "    print('Hello Batman!')\n",
    "else:\n",
    "    print('Hello World!')\n",
    "    print('Hello World!')\n",
    "    print('Hello World!')\n",
    "    print('Hello World!')\n"
   ]
  },
  {
   "cell_type": "markdown",
   "id": "49ddfecd-a127-47e1-a7c0-5fceb0c19783",
   "metadata": {},
   "source": [
    "`:` and <font color=orange> indentations <font color=black> to define what to do if the answer is `True` and what to do if the answer if `Flase`\n",
    "Python uses an indentation to separate the `True` and `False` ‘blocks’. "
   ]
  },
  {
   "cell_type": "markdown",
   "id": "645640ad",
   "metadata": {},
   "source": [
    "# 7 Indentations (spaces) are sooo IMPORTANT!"
   ]
  },
  {
   "cell_type": "markdown",
   "id": "b8782df4-e233-49a2-b3c9-00776780e274",
   "metadata": {},
   "source": [
    "With Python, this code **will** work:"
   ]
  },
  {
   "cell_type": "code",
   "execution_count": 12,
   "id": "d3ace61b-78a9-4700-ba65-83147463a4be",
   "metadata": {},
   "outputs": [
    {
     "name": "stdout",
     "output_type": "stream",
     "text": [
      "10\n"
     ]
    }
   ],
   "source": [
    "x = 10\n",
    "print(x)"
   ]
  },
  {
   "cell_type": "markdown",
   "id": "92ee7d9c-84e8-4918-bc9b-c7ad955cb660",
   "metadata": {},
   "source": [
    "However, the following will **not** work:"
   ]
  },
  {
   "cell_type": "code",
   "execution_count": 13,
   "id": "ced20eae-b736-4d12-9713-c28bdeb95a97",
   "metadata": {},
   "outputs": [
    {
     "ename": "IndentationError",
     "evalue": "unexpected indent (2703623731.py, line 2)",
     "output_type": "error",
     "traceback": [
      "\u001b[0;36m  Cell \u001b[0;32mIn[13], line 2\u001b[0;36m\u001b[0m\n\u001b[0;31m    print(x)\u001b[0m\n\u001b[0m    ^\u001b[0m\n\u001b[0;31mIndentationError\u001b[0m\u001b[0;31m:\u001b[0m unexpected indent\n"
     ]
    }
   ],
   "source": [
    "x = 10\n",
    "    print(x)"
   ]
  },
  {
   "cell_type": "code",
   "execution_count": 14,
   "id": "58d111e3-8f8d-4d14-8f93-a9b337b9ec41",
   "metadata": {},
   "outputs": [
    {
     "ename": "NameError",
     "evalue": "name 'age' is not defined",
     "output_type": "error",
     "traceback": [
      "\u001b[0;31m---------------------------------------------------------------------------\u001b[0m",
      "\u001b[0;31mNameError\u001b[0m                                 Traceback (most recent call last)",
      "Cell \u001b[0;32mIn[14], line 1\u001b[0m\n\u001b[0;32m----> 1\u001b[0m \u001b[38;5;28mprint\u001b[39m(\u001b[43mage\u001b[49m)\n\u001b[1;32m      2\u001b[0m \u001b[38;5;28mprint\u001b[39m(\u001b[38;5;124m'\u001b[39m\u001b[38;5;124mage\u001b[39m\u001b[38;5;124m'\u001b[39m, age)\n\u001b[1;32m      3\u001b[0m \u001b[38;5;28mprint\u001b[39m(\u001b[38;5;124m'\u001b[39m\u001b[38;5;124mage\u001b[39m\u001b[38;5;124m'\u001b[39m)\n",
      "\u001b[0;31mNameError\u001b[0m: name 'age' is not defined"
     ]
    }
   ],
   "source": [
    "print(age)\n",
    "print('age', age)\n",
    "print('age')"
   ]
  },
  {
   "cell_type": "code",
   "execution_count": 15,
   "id": "ff7f5fac-1660-44c7-bc37-101afd2fc135",
   "metadata": {},
   "outputs": [
    {
     "name": "stdout",
     "output_type": "stream",
     "text": [
      "10000\n",
      "age 10000\n",
      "age\n"
     ]
    }
   ],
   "source": [
    "age = 10000\n",
    "print(age) # print the value of the variable age \n",
    "print('age', age) #print the English word 'age'\n",
    "print('age')"
   ]
  },
  {
   "cell_type": "markdown",
   "id": "6ba6128f",
   "metadata": {},
   "source": [
    "# 8 ‘age’ is English, age is a variable."
   ]
  },
  {
   "cell_type": "code",
   "execution_count": 16,
   "id": "78a3c5b1-5c16-48f5-aa38-e091c845ed5d",
   "metadata": {},
   "outputs": [],
   "source": [
    "student_age = 10000\n",
    "x = 10000"
   ]
  },
  {
   "cell_type": "code",
   "execution_count": 17,
   "id": "b18ada73-7897-4a14-948c-8a96bf2f0377",
   "metadata": {},
   "outputs": [
    {
     "name": "stdout",
     "output_type": "stream",
     "text": [
      "10000\n",
      "age\n"
     ]
    }
   ],
   "source": [
    "print(age)       # Print the value of the variable age\n",
    "print(\"age\")     # Print the English word 'age'"
   ]
  },
  {
   "cell_type": "code",
   "execution_count": 21,
   "id": "1918815f-21cb-484e-b7e0-365319bb99cd",
   "metadata": {},
   "outputs": [],
   "source": [
    "print = 'PRINT' # cannot set print as the variable"
   ]
  },
  {
   "cell_type": "code",
   "execution_count": 22,
   "id": "888c156b-562a-4dc8-a114-ab5909e981dd",
   "metadata": {},
   "outputs": [
    {
     "ename": "SyntaxError",
     "evalue": "invalid syntax (3963200833.py, line 1)",
     "output_type": "error",
     "traceback": [
      "\u001b[0;36m  Cell \u001b[0;32mIn[22], line 1\u001b[0;36m\u001b[0m\n\u001b[0;31m    if=10\u001b[0m\n\u001b[0m      ^\u001b[0m\n\u001b[0;31mSyntaxError\u001b[0m\u001b[0;31m:\u001b[0m invalid syntax\n"
     ]
    }
   ],
   "source": [
    "if=10 # cannot use the keywords as the variable "
   ]
  },
  {
   "cell_type": "code",
   "execution_count": 24,
   "id": "dba3c712-7310-4b7d-8702-fe4d81b42708",
   "metadata": {},
   "outputs": [
    {
     "ename": "SyntaxError",
     "evalue": "cannot assign to literal here. Maybe you meant '==' instead of '='? (2330543146.py, line 1)",
     "output_type": "error",
     "traceback": [
      "\u001b[0;36m  Cell \u001b[0;32mIn[24], line 1\u001b[0;36m\u001b[0m\n\u001b[0;31m    22=10000 # cannot use numbers as the variable\u001b[0m\n\u001b[0m    ^\u001b[0m\n\u001b[0;31mSyntaxError\u001b[0m\u001b[0;31m:\u001b[0m cannot assign to literal here. Maybe you meant '==' instead of '='?\n"
     ]
    }
   ],
   "source": [
    "22=10000 # cannot use numbers as the variable "
   ]
  },
  {
   "cell_type": "markdown",
   "id": "4bcf245e-316f-4467-8fe2-9afe343eac19",
   "metadata": {},
   "source": [
    "Either matching pairs of ```` or `\"\"` can be used. \n",
    "- better to be consistent\n",
    "- cases where it is good to use both:"
   ]
  },
  {
   "cell_type": "code",
   "execution_count": 4,
   "id": "7b0e4647-c157-47eb-9a58-28514af9caf8",
   "metadata": {},
   "outputs": [
    {
     "name": "stdout",
     "output_type": "stream",
     "text": [
      "You're twenty years old.\n"
     ]
    }
   ],
   "source": [
    "print(\"You're twenty years old.\")"
   ]
  },
  {
   "cell_type": "markdown",
   "id": "09f44936",
   "metadata": {},
   "source": [
    "# Brackets"
   ]
  },
  {
   "cell_type": "markdown",
   "id": "cad46f3a-ddca-40de-a95d-28cc2b22d448",
   "metadata": {},
   "source": [
    "<font color=gray> Example 1 <br><font color=black> `()`: calls to function"
   ]
  },
  {
   "cell_type": "code",
   "execution_count": 6,
   "id": "60ef8366-03ca-49f5-9503-e63eed63ee84",
   "metadata": {},
   "outputs": [
    {
     "name": "stdout",
     "output_type": "stream",
     "text": [
      "Hello!\n"
     ]
    }
   ],
   "source": [
    "print('Hello!')             # In functions"
   ]
  },
  {
   "cell_type": "markdown",
   "id": "c5c7e9bb-d734-4c8c-81a9-4c841ce08252",
   "metadata": {},
   "source": [
    "<font color=gray> Example 2 <br><font color=black> `()`: used for mathematics"
   ]
  },
  {
   "cell_type": "code",
   "execution_count": 9,
   "id": "8a1f5d2b-5cd1-4147-8661-a37806918856",
   "metadata": {},
   "outputs": [
    {
     "ename": "TypeError",
     "evalue": "unsupported operand type(s) for +: 'int' and 'list'",
     "output_type": "error",
     "traceback": [
      "\u001b[0;31m---------------------------------------------------------------------------\u001b[0m",
      "\u001b[0;31mTypeError\u001b[0m                                 Traceback (most recent call last)",
      "Cell \u001b[0;32mIn[9], line 2\u001b[0m\n\u001b[1;32m      1\u001b[0m (\u001b[38;5;241m1\u001b[39m \u001b[38;5;241m+\u001b[39m \u001b[38;5;241m2\u001b[39m) \u001b[38;5;241m*\u001b[39m \u001b[38;5;241m5\u001b[39m                 \u001b[38;5;66;03m# For math \u001b[39;00m\n\u001b[0;32m----> 2\u001b[0m (\u001b[38;5;241;43m1\u001b[39;49m\u001b[43m \u001b[49m\u001b[38;5;241;43m+\u001b[39;49m\u001b[43m \u001b[49m\u001b[43m[\u001b[49m\u001b[38;5;241;43m3\u001b[39;49m\u001b[38;5;241;43m*\u001b[39;49m\u001b[38;5;241;43m5\u001b[39;49m\u001b[43m]\u001b[49m) \u001b[38;5;241m*\u001b[39m \u001b[38;5;241m5\u001b[39m\n",
      "\u001b[0;31mTypeError\u001b[0m: unsupported operand type(s) for +: 'int' and 'list'"
     ]
    }
   ],
   "source": [
    "(1 + 2) * 5                 # For math \n",
    "(1 + [3*5]) * 5             # don't do this"
   ]
  },
  {
   "cell_type": "markdown",
   "id": "f7341f75-1b1d-4f76-93e6-8af92ae575e1",
   "metadata": {},
   "source": [
    "<font color=gray> Example 3 <br><font color=black> `[]`: for lists of data "
   ]
  },
  {
   "cell_type": "code",
   "execution_count": 11,
   "id": "157f4f2f-1529-4023-a6b3-26936330ed8a",
   "metadata": {},
   "outputs": [],
   "source": [
    "py_list = [1, 'age', 3, 4, 5]   # A 1D list\n",
    "\n",
    "py_list_2 = [               # A 2D list\n",
    "                [1, \"A\"],      \n",
    "                [2, \"B\"],\n",
    "                [3, \"C\"],\n",
    "                [4, \"D\"],\n",
    "                [5, \"E\"]\n",
    "            ]"
   ]
  },
  {
   "cell_type": "markdown",
   "id": "df8d3e1c-88d4-4266-951b-8a2324b612dc",
   "metadata": {},
   "source": [
    "- ixed data type is allowed in the same list!"
   ]
  },
  {
   "cell_type": "markdown",
   "id": "d761e9f4-c2f8-4802-8d0b-8b71d59b2b79",
   "metadata": {},
   "source": [
    "<font color=gray> Example 4 <br><font color=black> `{}`:"
   ]
  },
  {
   "cell_type": "code",
   "execution_count": 3,
   "id": "5b4cd77d-f02c-4c45-86bd-feb9651b0ccf",
   "metadata": {},
   "outputs": [],
   "source": [
    "personal_info = {\n",
    "    'Names': 'Batman',\n",
    "    'Real Name': 'Bruce Wayne',\n",
    "    'Age': 55,\n",
    "    'Affiliation': 'Justice League',\n",
    "    'Universe': 'DC'\n",
    "}"
   ]
  },
  {
   "cell_type": "markdown",
   "id": "212f815c-01fc-4540-a065-897c8bceff3e",
   "metadata": {},
   "source": [
    "Here `'Batman'` is the data and `'Names'` is the key.<br> \n",
    "Dictionary is used to extract information. See the following example:"
   ]
  },
  {
   "cell_type": "code",
   "execution_count": 4,
   "id": "aa3151f6-f15e-4cad-9659-655156c9ace5",
   "metadata": {},
   "outputs": [
    {
     "data": {
      "text/plain": [
       "'Batman'"
      ]
     },
     "execution_count": 4,
     "metadata": {},
     "output_type": "execute_result"
    }
   ],
   "source": [
    "personal_info['Names']"
   ]
  },
  {
   "cell_type": "code",
   "execution_count": 7,
   "id": "5f68e387-2c16-4d45-8ab0-0aa1ca423647",
   "metadata": {},
   "outputs": [],
   "source": [
    "personal_info['Names'] = 'Hahaha' # chaneg the data assigned to the key"
   ]
  },
  {
   "cell_type": "code",
   "execution_count": 6,
   "id": "a7adbf2f-2fd0-495a-b4d4-52b3de99dad8",
   "metadata": {},
   "outputs": [
    {
     "data": {
      "text/plain": [
       "{'Names': 'Hahaha',\n",
       " 'Real Name': 'Bruce Wayne',\n",
       " 'Age': 55,\n",
       " 'Affiliation': 'Justice League',\n",
       " 'Universe': 'DC'}"
      ]
     },
     "execution_count": 6,
     "metadata": {},
     "output_type": "execute_result"
    }
   ],
   "source": [
    "personal_info"
   ]
  },
  {
   "cell_type": "markdown",
   "id": "1c0d55ea",
   "metadata": {},
   "source": [
    "# 10 Giving Python superpowers with Packages"
   ]
  },
  {
   "cell_type": "markdown",
   "id": "1c4015f6",
   "metadata": {},
   "source": [
    "## 10.1 Some Context"
   ]
  },
  {
   "cell_type": "code",
   "execution_count": 8,
   "id": "f245fdad-a1c5-4bc4-b981-ef98b30647e0",
   "metadata": {},
   "outputs": [
    {
     "ename": "NameError",
     "evalue": "name 'sqrt' is not defined",
     "output_type": "error",
     "traceback": [
      "\u001b[0;31m---------------------------------------------------------------------------\u001b[0m",
      "\u001b[0;31mNameError\u001b[0m                                 Traceback (most recent call last)",
      "Cell \u001b[0;32mIn[8], line 1\u001b[0m\n\u001b[0;32m----> 1\u001b[0m \u001b[43msqrt\u001b[49m(\u001b[38;5;241m4\u001b[39m)\n",
      "\u001b[0;31mNameError\u001b[0m: name 'sqrt' is not defined"
     ]
    }
   ],
   "source": [
    "sqrt(4) # this will not work. Need to import packagers/modules."
   ]
  },
  {
   "cell_type": "markdown",
   "id": "0adc1d5d",
   "metadata": {},
   "source": [
    "## 10.2 Importing the math package"
   ]
  },
  {
   "cell_type": "code",
   "execution_count": 11,
   "id": "6802fc77-a49f-4738-bd8f-873ecc5fc4c6",
   "metadata": {},
   "outputs": [],
   "source": [
    "import math # teach Python how to do math"
   ]
  },
  {
   "cell_type": "code",
   "execution_count": 10,
   "id": "94d184c9-1608-4c04-802a-7d2090939612",
   "metadata": {},
   "outputs": [
    {
     "data": {
      "text/plain": [
       "2.0"
      ]
     },
     "execution_count": 10,
     "metadata": {},
     "output_type": "execute_result"
    }
   ],
   "source": [
    "math.sqrt(4)"
   ]
  },
  {
   "cell_type": "code",
   "execution_count": 14,
   "id": "b0f82cdc-757d-497b-8713-0e064fedbf9d",
   "metadata": {},
   "outputs": [
    {
     "ename": "TypeError",
     "evalue": "must be real number, not list",
     "output_type": "error",
     "traceback": [
      "\u001b[0;31m---------------------------------------------------------------------------\u001b[0m",
      "\u001b[0;31mTypeError\u001b[0m                                 Traceback (most recent call last)",
      "Cell \u001b[0;32mIn[14], line 1\u001b[0m\n\u001b[0;32m----> 1\u001b[0m \u001b[43mmath\u001b[49m\u001b[38;5;241;43m.\u001b[39;49m\u001b[43msqrt\u001b[49m\u001b[43m(\u001b[49m\u001b[43m[\u001b[49m\u001b[38;5;241;43m4\u001b[39;49m\u001b[43m,\u001b[49m\u001b[38;5;241;43m9\u001b[39;49m\u001b[43m,\u001b[49m\u001b[38;5;241;43m16\u001b[39;49m\u001b[43m]\u001b[49m\u001b[43m)\u001b[49m\n",
      "\u001b[0;31mTypeError\u001b[0m: must be real number, not list"
     ]
    }
   ],
   "source": [
    "math.sqrt([4,9,16]) #math package cannot do this"
   ]
  },
  {
   "cell_type": "markdown",
   "id": "81f8304d",
   "metadata": {},
   "source": [
    "## 10.3 Importing the numpy package"
   ]
  },
  {
   "cell_type": "code",
   "execution_count": 12,
   "id": "5e08fc7b-221e-472c-8fce-e5437927e4d6",
   "metadata": {},
   "outputs": [],
   "source": [
    "import numpy"
   ]
  },
  {
   "cell_type": "code",
   "execution_count": 15,
   "id": "0195ea3e-1556-4585-9406-b153e5132179",
   "metadata": {},
   "outputs": [
    {
     "data": {
      "text/plain": [
       "array([2., 3., 4.])"
      ]
     },
     "execution_count": 15,
     "metadata": {},
     "output_type": "execute_result"
    }
   ],
   "source": [
    "numpy.sqrt([4,9,16]) # while the numpy package can"
   ]
  },
  {
   "cell_type": "markdown",
   "id": "56ebdeff",
   "metadata": {},
   "source": [
    "## 10.4 Why so many packages?"
   ]
  },
  {
   "cell_type": "code",
   "execution_count": 16,
   "id": "3ed0d807-f8a5-471d-9480-5306121c491c",
   "metadata": {},
   "outputs": [],
   "source": [
    "import numpy as np   # give the numpy package a abbreviation"
   ]
  },
  {
   "cell_type": "code",
   "execution_count": 17,
   "id": "ae5ed36f-9ba5-494c-8526-bed50d10c324",
   "metadata": {},
   "outputs": [
    {
     "data": {
      "text/plain": [
       "10.0"
      ]
     },
     "execution_count": 17,
     "metadata": {},
     "output_type": "execute_result"
    }
   ],
   "source": [
    "np.sqrt(100)"
   ]
  },
  {
   "cell_type": "markdown",
   "id": "032cfeb5",
   "metadata": {},
   "source": [
    "# 11 The dot (.)"
   ]
  },
  {
   "cell_type": "markdown",
   "id": "c0688fd2-c5f5-452a-86f0-b58825cc630f",
   "metadata": {},
   "source": [
    "\"`.`\" is used to indicate **ownership**, and what it can access depends on the context!"
   ]
  },
  {
   "cell_type": "code",
   "execution_count": 18,
   "id": "5849a5ee-b6b5-4269-bbb1-669ae57db3cf",
   "metadata": {},
   "outputs": [
    {
     "data": {
      "text/plain": [
       "'APPLE'"
      ]
     },
     "execution_count": 18,
     "metadata": {},
     "output_type": "execute_result"
    }
   ],
   "source": [
    "'apple'.upper()   # there's a function upper belongs to 'apple'"
   ]
  },
  {
   "cell_type": "code",
   "execution_count": 21,
   "id": "412c12d2-78af-47d1-b7e8-07ed6f25f42a",
   "metadata": {},
   "outputs": [],
   "source": [
    "x = 1j + 10  # create a complex number"
   ]
  },
  {
   "cell_type": "code",
   "execution_count": 22,
   "id": "7371bb2d-2721-470f-b85a-9a2305857af4",
   "metadata": {},
   "outputs": [
    {
     "data": {
      "text/plain": [
       "10.0"
      ]
     },
     "execution_count": 22,
     "metadata": {},
     "output_type": "execute_result"
    }
   ],
   "source": [
    "x.real   # function \"real\" belongs to x"
   ]
  },
  {
   "cell_type": "code",
   "execution_count": 24,
   "id": "07502384-1ed1-4bab-a78d-c217d0b2460d",
   "metadata": {},
   "outputs": [
    {
     "data": {
      "text/plain": [
       "1.0"
      ]
     },
     "execution_count": 24,
     "metadata": {},
     "output_type": "execute_result"
    }
   ],
   "source": [
    "x.imag   # funciton \"imag\" belongs to x"
   ]
  },
  {
   "cell_type": "code",
   "execution_count": 25,
   "id": "74e963ef-c6ed-4841-b7e7-82ecd43373d3",
   "metadata": {},
   "outputs": [
    {
     "data": {
      "text/plain": [
       "['I', 'am', 'Batman']"
      ]
     },
     "execution_count": 25,
     "metadata": {},
     "output_type": "execute_result"
    }
   ],
   "source": [
    "\"I am Batman\".split()"
   ]
  },
  {
   "cell_type": "code",
   "execution_count": 26,
   "id": "420a967b-b8b4-4ca4-a675-d938f6ba240d",
   "metadata": {},
   "outputs": [
    {
     "ename": "SyntaxError",
     "evalue": "invalid decimal literal (685541500.py, line 1)",
     "output_type": "error",
     "traceback": [
      "\u001b[0;36m  Cell \u001b[0;32mIn[26], line 1\u001b[0;36m\u001b[0m\n\u001b[0;31m    1234.split()   # this will not work since numbers cannot be split\u001b[0m\n\u001b[0m        ^\u001b[0m\n\u001b[0;31mSyntaxError\u001b[0m\u001b[0;31m:\u001b[0m invalid decimal literal\n"
     ]
    }
   ],
   "source": [
    "1234.split()   # this will not work since numbers cannot be split"
   ]
  }
 ],
 "metadata": {
  "kernelspec": {
   "display_name": "Python 3 (ipykernel)",
   "language": "python",
   "name": "python3"
  },
  "language_info": {
   "codemirror_mode": {
    "name": "ipython",
    "version": 3
   },
   "file_extension": ".py",
   "mimetype": "text/x-python",
   "name": "python",
   "nbconvert_exporter": "python",
   "pygments_lexer": "ipython3",
   "version": "3.10.9"
  },
  "toc": {
   "base_numbering": 1,
   "nav_menu": {},
   "number_sections": true,
   "sideBar": true,
   "skip_h1_title": false,
   "title_cell": "Table of Contents",
   "title_sidebar": "Contents",
   "toc_cell": false,
   "toc_position": {},
   "toc_section_display": true,
   "toc_window_display": false
  },
  "vscode": {
   "interpreter": {
    "hash": "31f2aee4e71d21fbe5cf8b01ff0e069b9275f58929596ceb00d14d90e3e16cd6"
   }
  }
 },
 "nbformat": 4,
 "nbformat_minor": 5
}
