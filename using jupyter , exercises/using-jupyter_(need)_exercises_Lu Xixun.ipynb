{
 "cells": [
  {
   "cell_type": "markdown",
   "id": "78dd3358",
   "metadata": {},
   "source": [
    "<div style=\"text-align:left;font-size:2em\"><span style=\"font-weight:bolder;font-size:1.25em\">SP2273 | Learning Portfolio</span><br><br><span style=\"font-weight:bold;color:darkred\">Using Jupyter (Need), Exercises</span></div>"
   ]
  },
  {
   "cell_type": "markdown",
   "id": "2f320d0a",
   "metadata": {},
   "source": [
    "# <font color=maroon>Exercise 1\n",
    "\n",
    "*Task: Use a Markdown cell to reproduce the short introduction to quadratic equations presented in the **Result** tab.*\n",
    "\n",
    "## Quadratic Equations\n",
    "***\n",
    "\n",
    "### Introduction\n",
    "\n",
    "![](https://upload.wikimedia.org/wikipedia/commons/f/f8/Polynomialdeg2.svg)\n",
    "*(Image from the [Wikipedia page on Quadratic equations](https://en.wikipedia.org/wiki/Quadratic_equation))*\n",
    "The general form of a quadratic equation is:\n",
    "$$\n",
    "ax^2+bx+c=0\n",
    "$$\n",
    "\n",
    "### Solutions\n",
    "\n",
    "Provided $a\\neq 0$, we can use an elementary algebraic method called [completing the square](https://en.wikipedia.org/wiki/Completing_the_square) to show that a quadractic equation has the following solution:\n",
    "$$\n",
    "x=\\frac{-b\\pm \\sqrt{b^2-4ac}}{2a}\n",
    "$$\n",
    "\n",
    "### Discriminant\n",
    "\n",
    "The quantity $\\vartriangle = b^2-4ac$ is called the **discriminant** of the equation an ddecides the nature of its solutions. The table below shows the various possibilities.\n",
    "| **Discriminant**             | **Roots**                           |\n",
    "|:------------------------------:|:------------------------------------|\n",
    "| $$\\vartriangle = b^2-4ac = 0$$ | A single solution of $-b/(2a)$      |\n",
    "| $$\\vartriangle = b^2-4ac > 0$$ | two distinct solutions              |\n",
    "| $$\\vartriangle = b^2-4ac < 0$$ | No real solutions; both are complex |"
   ]
  },
  {
   "cell_type": "markdown",
   "id": "7ab0db02",
   "metadata": {},
   "source": [
    "# <font color=maroon> Exercise 2 <font color=black>(In your own words)"
   ]
  },
  {
   "cell_type": "markdown",
   "id": "3597d9b1",
   "metadata": {},
   "source": [
    "1. What is a Git **repository**?\n",
    "<br><font color=blue> *A Git repository is like a storage room with an inventory where all the files and their revision history are recorded and stored.*\n",
    "2. Git keeps tracks of () in the files in our repository.\n",
    "<br><font color=blue> *The Git references (e.g. HEAD, config, objects, refs. etc.) that helps the user to track each historical version of the file*\n",
    "3. What is a **commit**?\n",
    "<br><font color=blue> *A commit is like a snapshot of a branch of a project at a certain instant of time.*\n",
    "4. What is a **push**?\n",
    "<br><font color=blue> *Push is used to upload files in the local repository to a remote repository. *\n",
    "5. What is a **pull**?\n",
    "<br><font color=blue> *Pull is used to fetch and download content from a remote repository and immediately update the local repository to match that content.\n",
    "6. What is the difference between **GitHub** and **GitHub Desktop**?\n",
    "<br><font color=blue> GitHub is a cloud-based hosting platform that enables developers to manage their Git repositories. GitHub Desktop is an application that lets users interact better with GitHub through a GUI."
   ]
  },
  {
   "cell_type": "markdown",
   "id": "ec32d8d7",
   "metadata": {},
   "source": [
    "# <font color=maroon>Using Jupyter (Need) - Lecture Notes"
   ]
  },
  {
   "cell_type": "markdown",
   "id": "3666c7e0",
   "metadata": {},
   "source": [
    "# 1  Getting Started with Jupyter"
   ]
  },
  {
   "cell_type": "markdown",
   "id": "ae5055c4",
   "metadata": {},
   "source": [
    "## 1.1 It is all about running cells"
   ]
  },
  {
   "cell_type": "code",
   "execution_count": 9,
   "id": "db127ce7",
   "metadata": {},
   "outputs": [
    {
     "name": "stdout",
     "output_type": "stream",
     "text": [
      "6\n"
     ]
    }
   ],
   "source": [
    "a = 4\n",
    "b = 2\n",
    "c = a + b\n",
    "print (c) #code cell"
   ]
  },
  {
   "cell_type": "code",
   "execution_count": 2,
   "id": "de1ad64f",
   "metadata": {},
   "outputs": [
    {
     "name": "stdout",
     "output_type": "stream",
     "text": [
      "Hello World!\n"
     ]
    }
   ],
   "source": [
    "print('Hello World!')"
   ]
  },
  {
   "cell_type": "markdown",
   "id": "4e927c16",
   "metadata": {},
   "source": [
    "# 2  All About Markdown"
   ]
  },
  {
   "cell_type": "markdown",
   "id": "62286070",
   "metadata": {},
   "source": [
    "## 2.1 Basic Sytax\n",
    "***\n",
    "\n",
    "The ships hung in the sky in much the same way that bricks don’t\n",
    "\n",
    "The ships *hung in the sky* in much the same way that **bricks don’t**\n",
    "\n",
    "The ships <sub>hung in the sky</sub> in much the same way that <sup>bricks don’t</sup>\n",
    "\n",
    "The ships hung in the sky in much <ins> the same way </ins> that bricks don’t"
   ]
  },
  {
   "cell_type": "markdown",
   "id": "0351f195",
   "metadata": {},
   "source": [
    "## 2.2 Headings\n",
    "***\n",
    "\n",
    "\\# The largest heading\n",
    "<br>\\## The second-largest heading\n",
    "<br>\\### The third-largest heading\n",
    "<br>\\#### The smallest heading"
   ]
  },
  {
   "cell_type": "markdown",
   "id": "150b0b35",
   "metadata": {},
   "source": [
    "## 2.3 Displaying code\n",
    "***"
   ]
  },
  {
   "cell_type": "markdown",
   "id": "215c7ef2",
   "metadata": {},
   "source": [
    "`\n",
    "print ('Hello World!')\n",
    "`"
   ]
  },
  {
   "cell_type": "markdown",
   "id": "73a05410",
   "metadata": {},
   "source": [
    "```python\n",
    "print('Hello World!')\n",
    "a = 2 \n",
    "``` \n",
    "<font color=darkgreen># different languages have different coloring schemes."
   ]
  },
  {
   "cell_type": "markdown",
   "id": "e1910596",
   "metadata": {},
   "source": [
    "```\n",
    "print('Hello World!')\n",
    "a = 2\n",
    "``` "
   ]
  },
  {
   "cell_type": "markdown",
   "id": "c1d4af9b",
   "metadata": {},
   "source": [
    "## 2.4 Links\n",
    "***\n",
    "\n",
    "[SP2273 Website](https://sps.nus.edu.sg/sp2273)"
   ]
  },
  {
   "cell_type": "markdown",
   "id": "769fbc6d",
   "metadata": {},
   "source": [
    "## 2.5 Images\n",
    "***\n",
    "\n",
    "![](https://nus.edu.sg/images/default-source/base/logo.png)\n",
    "\n",
    "You can also similarly include images on your computer. Just put the filename instead of the address. Again, you need to give enough information (full or relative path, see chapter os) for Jupyter to be able to find the file."
   ]
  },
  {
   "cell_type": "markdown",
   "id": "4871b133",
   "metadata": {},
   "source": [
    "## 2.6 Tables\n",
    "***\n",
    "\n",
    "Markdown following syntax to create tables:\n",
    "\n",
    "| A    |  B   |    C |\n",
    "| :--- | :--: | ---: |\n",
    "| a1   |  b1  |   c1 |\n",
    "| a2   |  b2  |   c2 |\n",
    "| a3   |  b3  |   c3 | \n",
    "<font color=darkgreen> # :--- means aligns to the left, :--: means centered, ---: means aligns to the right. The number of dashes does not matter. \n"
   ]
  },
  {
   "cell_type": "markdown",
   "id": "5d5d75f5",
   "metadata": {},
   "source": [
    "## 2.7 Lists\n",
    "***\n",
    "\n",
    "1. A\n",
    "    - a\n",
    "    - aa\n",
    "2. B\n",
    "    1. b\n",
    "    2. bb\n",
    "3. C\n",
    "\n",
    "<font color=darkgreen># multiple curser: command + click"
   ]
  },
  {
   "cell_type": "markdown",
   "id": "652db771",
   "metadata": {},
   "source": [
    "## 2.8 Equations\n",
    "***\n",
    "inline: $a^2$\n",
    "\n",
    "block equation:\n",
    "\n",
    "$$\n",
    "x = \\dfrac{-b \\pm \\sqrt{b^2-4ac}}{2a}\n",
    "$$"
   ]
  },
  {
   "cell_type": "markdown",
   "id": "91ff1ba3",
   "metadata": {},
   "source": [
    "## 2.9 Footnotes\n",
    "***\n",
    "\n",
    "this is a^[footnote]. \n",
    "<br><font color=darkgreen> # This creates a footnote."
   ]
  }
 ],
 "metadata": {
  "kernelspec": {
   "display_name": "Python 3 (ipykernel)",
   "language": "python",
   "name": "python3"
  },
  "language_info": {
   "codemirror_mode": {
    "name": "ipython",
    "version": 3
   },
   "file_extension": ".py",
   "mimetype": "text/x-python",
   "name": "python",
   "nbconvert_exporter": "python",
   "pygments_lexer": "ipython3",
   "version": "3.10.9"
  }
 },
 "nbformat": 4,
 "nbformat_minor": 5
}
