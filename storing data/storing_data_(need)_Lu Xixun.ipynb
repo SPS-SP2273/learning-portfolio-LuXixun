{
 "cells": [
  {
   "attachments": {},
   "cell_type": "markdown",
   "id": "123456",
   "metadata": {},
   "source": [
    "<div style=\"text-align:left;font-size:2em\"><span style=\"font-weight:bolder;font-size:1.25em\">SP2273 | Learning Portfolio</span><br><br><span style=\"font-weight:bold;color:darkred\">Storing Data (Need)</span></div>"
   ]
  },
  {
   "cell_type": "markdown",
   "id": "ee16ed28-d860-4dfd-bcb2-eea1321377ea",
   "metadata": {},
   "source": [
    "**Ways to store data**:\n",
    "1. Lists\n",
    "2. Numpy arrays\n",
    "3. Dictionaries\n",
    "4. Tuples\n",
    "5. Dataframes\n",
    "6. Classes"
   ]
  },
  {
   "cell_type": "code",
   "execution_count": 4,
   "id": "09d06294-f374-42a4-b282-7729148dc616",
   "metadata": {},
   "outputs": [],
   "source": [
    "import numpy as np"
   ]
  },
  {
   "attachments": {},
   "cell_type": "markdown",
   "id": "6822d87b",
   "metadata": {},
   "source": [
    "# 1 Lists, Arrays & Dictionaries"
   ]
  },
  {
   "attachments": {},
   "cell_type": "markdown",
   "id": "6f8fd806",
   "metadata": {},
   "source": [
    "## 1.1 Let’s compare"
   ]
  },
  {
   "cell_type": "markdown",
   "id": "126bf3f7-93c0-4918-b26f-6df560ee8094",
   "metadata": {},
   "source": [
    "**Python Lists**"
   ]
  },
  {
   "cell_type": "code",
   "execution_count": 1,
   "id": "14f184e6-fbe4-44c0-8a09-c97549e13269",
   "metadata": {},
   "outputs": [],
   "source": [
    "py_super_names = [\"Black Widow\", \"Iron Man\", \"Doctor Strange\"]\n",
    "py_real_names = [\"Natasha Romanoff\", \"Tony Stark\", \"Stephen Strange\"]"
   ]
  },
  {
   "cell_type": "markdown",
   "id": "3121c4a6-e372-4ae4-806e-ae9953f090ab",
   "metadata": {},
   "source": [
    "**Numpy Arrays**"
   ]
  },
  {
   "cell_type": "code",
   "execution_count": 5,
   "id": "46758b24-924c-440f-a552-89306029a039",
   "metadata": {},
   "outputs": [],
   "source": [
    "np_super_names = np.array([\"Black Widow\", \"Iron Man\", \"Doctor Strange\"])\n",
    "np_real_names = np.array([\"Natasha Romanoff\", \"Tony Stark\", \"Stephen Strange\"])"
   ]
  },
  {
   "cell_type": "markdown",
   "id": "4a5f5409-a876-43d6-b73f-d3d2b22f96c7",
   "metadata": {},
   "source": [
    "**Dictionary**"
   ]
  },
  {
   "cell_type": "code",
   "execution_count": 3,
   "id": "ecb73056-3c3d-47f3-a267-bc792a342a0f",
   "metadata": {},
   "outputs": [],
   "source": [
    "superhero_info = {\n",
    "    \"Natasha Romanoff\": \"Black Widow\",\n",
    "    \"Tony Stark\": \"Iron Man\",\n",
    "    \"Stephen Strange\": \"Doctor Strange\"\n",
    "}"
   ]
  },
  {
   "cell_type": "markdown",
   "id": "6bbede49-836f-4f29-b51d-ac4007649794",
   "metadata": {},
   "source": [
    "Notice:\n",
    "\n",
    "- Dictionaries use a key and an associated value separated by a `:`\n",
    "- The dictionary very elegantly holds the real and superhero names in one structure while we need two lists (or arrays) for the same data.\n",
    "- For lists and arrays, the order matters. I.e. ‘Iron Man’ must be in the same position as ‘Tony Stark’ for things to work."
   ]
  },
  {
   "attachments": {},
   "cell_type": "markdown",
   "id": "04e6d2b0",
   "metadata": {},
   "source": [
    "## 1.2 Accessing data from a list (or array)"
   ]
  },
  {
   "cell_type": "markdown",
   "id": "908f1a20-befa-425a-9d74-8413b5895977",
   "metadata": {},
   "source": [
    "Python is a zero index language:"
   ]
  },
  {
   "cell_type": "markdown",
   "id": "b433b959-e0a5-48f4-a719-f8b69d84e6fd",
   "metadata": {},
   "source": [
    "![](https://phyweb.physics.nus.edu.sg/~chammika/sp2273/docs/python_basics/03_storing-data/python-zero-indexed-counting.png)"
   ]
  },
  {
   "cell_type": "markdown",
   "id": "e934a847-eaf3-4ee9-ad74-bb6ad167acf4",
   "metadata": {},
   "source": [
    "to access a particular element in the list (or array), you need to specify the relevant index starting from zero. "
   ]
  },
  {
   "cell_type": "code",
   "execution_count": 2,
   "id": "bddc6721-04f8-4c48-8f1e-1f79dfc381c7",
   "metadata": {},
   "outputs": [],
   "source": [
    "py_super_names = [\"Black Widow\", \"Iron Man\", \"Doctor Strange\"]\n",
    "py_real_names = [\"Natasha Romanoff\", \"Tony Stark\", \"Stephen Strange\"]"
   ]
  },
  {
   "cell_type": "markdown",
   "id": "0d100eff-17a0-45d8-b8e8-638aca0300c2",
   "metadata": {},
   "source": [
    "**Example 1**:"
   ]
  },
  {
   "cell_type": "code",
   "execution_count": 7,
   "id": "7e08e2c7-bd85-4e2f-96cf-c46525bbbb35",
   "metadata": {},
   "outputs": [
    {
     "data": {
      "text/plain": [
       "'Natasha Romanoff'"
      ]
     },
     "execution_count": 7,
     "metadata": {},
     "output_type": "execute_result"
    }
   ],
   "source": [
    "py_real_names[0]"
   ]
  },
  {
   "cell_type": "markdown",
   "id": "47f1475a-3b5d-456a-91bc-435bb73a7874",
   "metadata": {},
   "source": [
    "**Example 2**:"
   ]
  },
  {
   "cell_type": "code",
   "execution_count": 8,
   "id": "b62a23a9-08d5-4b5a-9a61-04ba491cf0d8",
   "metadata": {},
   "outputs": [
    {
     "data": {
      "text/plain": [
       "'Black Widow'"
      ]
     },
     "execution_count": 8,
     "metadata": {},
     "output_type": "execute_result"
    }
   ],
   "source": [
    "py_super_names[0]"
   ]
  },
  {
   "cell_type": "code",
   "execution_count": 9,
   "id": "2a9df556-5d1d-4738-871a-8023bcb6632e",
   "metadata": {},
   "outputs": [
    {
     "name": "stdout",
     "output_type": "stream",
     "text": [
      "Stephen Strange is Doctor Strange\n"
     ]
    }
   ],
   "source": [
    "i = 2\n",
    "print(py_real_names[i], 'is', py_super_names[i])"
   ]
  },
  {
   "cell_type": "markdown",
   "id": "6f6c3786-fbd1-4afe-b8bd-e34081b11c5c",
   "metadata": {},
   "source": [
    "**Example 3**:"
   ]
  },
  {
   "cell_type": "code",
   "execution_count": 3,
   "id": "28f83a40-a0c5-45c6-8a24-6e58a94ae6de",
   "metadata": {},
   "outputs": [
    {
     "data": {
      "text/plain": [
       "'Doctor Strange'"
      ]
     },
     "execution_count": 3,
     "metadata": {},
     "output_type": "execute_result"
    }
   ],
   "source": [
    "py_super_names[2]    # Forward indexing \n",
    "                     # We need to know the size \n",
    "                     # beforehand for this to work."
   ]
  },
  {
   "cell_type": "code",
   "execution_count": 4,
   "id": "76576d27-6826-4541-af48-b75cbd421b9c",
   "metadata": {},
   "outputs": [
    {
     "data": {
      "text/plain": [
       "'Doctor Strange'"
      ]
     },
     "execution_count": 4,
     "metadata": {},
     "output_type": "execute_result"
    }
   ],
   "source": [
    "py_super_names[-1]   # Reverse indexing"
   ]
  },
  {
   "attachments": {},
   "cell_type": "markdown",
   "id": "112d55e8",
   "metadata": {},
   "source": [
    "## 1.3 Accessing data from a dictionary"
   ]
  },
  {
   "cell_type": "markdown",
   "id": "16c2019a-cf5a-48b2-81e1-8e7c7b884a58",
   "metadata": {},
   "source": [
    "Dictionaries hold data (values) paired with a key. i.e. you can access the value (in this case, the superhero name) using the real name as a key. \n",
    "<br>Dictionaries has a **key-value** structure."
   ]
  },
  {
   "cell_type": "code",
   "execution_count": 5,
   "id": "c64c4e3d-61e5-48a5-8bb3-b918fdd75253",
   "metadata": {},
   "outputs": [],
   "source": [
    "superhero_info = {\n",
    "    \"Natasha Romanoff\": \"Black Widow\",\n",
    "    \"Tony Stark\": \"Iron Man\",\n",
    "    \"Stephen Strange\": \"Doctor Strange\"\n",
    "}                  "
   ]
  },
  {
   "cell_type": "code",
   "execution_count": 6,
   "id": "d743b41b-b065-42d1-84f0-aabd31d246db",
   "metadata": {},
   "outputs": [
    {
     "data": {
      "text/plain": [
       "'Black Widow'"
      ]
     },
     "execution_count": 6,
     "metadata": {},
     "output_type": "execute_result"
    }
   ],
   "source": [
    "superhero_info[\"Natasha Romanoff\"]"
   ]
  },
  {
   "attachments": {},
   "cell_type": "markdown",
   "id": "186a4481",
   "metadata": {},
   "source": [
    "## 1.4 Higher dimensional lists"
   ]
  },
  {
   "cell_type": "markdown",
   "id": "e6b5f0e8-4b8c-4568-a728-9e27ca8e8b0b",
   "metadata": {},
   "source": [
    "We can use two lists to store the corresponding real and superhero names. To achieve this, we can use a 2D list (array) as follows:"
   ]
  },
  {
   "cell_type": "code",
   "execution_count": 8,
   "id": "fb375549-1f45-43d8-9f0e-e57ceff00e4a",
   "metadata": {},
   "outputs": [],
   "source": [
    "py_superhero_info  = [['Natasha Romanoff', 'Black Widow'],\n",
    "                     ['Tony Stark', 'Iron Man'],\n",
    "                     ['Stephen Strange', 'Doctor Strange']]"
   ]
  },
  {
   "attachments": {},
   "cell_type": "markdown",
   "id": "78b0cce7",
   "metadata": {},
   "source": [
    "# 2 Lists vs. Arrays"
   ]
  },
  {
   "attachments": {},
   "cell_type": "markdown",
   "id": "88c6b066",
   "metadata": {},
   "source": [
    "## 2.1 Size"
   ]
  },
  {
   "cell_type": "code",
   "execution_count": 12,
   "id": "f12d8eec-dfa8-449e-82fe-686ba996dcc4",
   "metadata": {},
   "outputs": [],
   "source": [
    "import numpy as np"
   ]
  },
  {
   "cell_type": "code",
   "execution_count": 13,
   "id": "154600f8-84fa-4b79-987f-11ee9a46f8ed",
   "metadata": {},
   "outputs": [],
   "source": [
    "py_list_2d = [[1, \"A\"], [2, \"B\"], [3, \"C\"], [4, \"D\"],\n",
    "              [5, \"E\"], [6, \"F\"], [7, \"G\"], [8, \"H\"],\n",
    "              [9, \"I\"], [10, \"J\"]]\n",
    "\n",
    "np_array_2d = np.array(py_list_2d)      # Reusing the Python list \n",
    "                                        # to create a NEW\n",
    "                                        # NumPy array"
   ]
  },
  {
   "cell_type": "code",
   "execution_count": 14,
   "id": "5c69c3f5-c10b-40a8-8162-d2c6c3c487be",
   "metadata": {},
   "outputs": [
    {
     "data": {
      "text/plain": [
       "10"
      ]
     },
     "execution_count": 14,
     "metadata": {},
     "output_type": "execute_result"
    }
   ],
   "source": [
    "# lists  \n",
    "len(py_list_2d)"
   ]
  },
  {
   "cell_type": "code",
   "execution_count": 16,
   "id": "29821eb5-776f-436a-abf5-209349662087",
   "metadata": {},
   "outputs": [
    {
     "data": {
      "text/plain": [
       "10"
      ]
     },
     "execution_count": 16,
     "metadata": {},
     "output_type": "execute_result"
    }
   ],
   "source": [
    "# Arrays\n",
    "len(np_array_2d)"
   ]
  },
  {
   "cell_type": "code",
   "execution_count": 17,
   "id": "24ca08cf-0c0d-4b20-80bf-e9aa6bc41f4c",
   "metadata": {},
   "outputs": [
    {
     "data": {
      "text/plain": [
       "(10, 2)"
      ]
     },
     "execution_count": 17,
     "metadata": {},
     "output_type": "execute_result"
    }
   ],
   "source": [
    "# Shape is not a fucntion. It is a property or attribute of the Numoy array.\n",
    "np_array_2d.shape"
   ]
  },
  {
   "attachments": {},
   "cell_type": "markdown",
   "id": "879e788c",
   "metadata": {},
   "source": [
    "# 2.2 Arrays are fussy about type"
   ]
  },
  {
   "cell_type": "markdown",
   "id": "e753d453-a030-4632-90aa-1a6b03c52ba2",
   "metadata": {},
   "source": [
    "While we can have multiple data types in lists, array will convert all data types into a single type."
   ]
  },
  {
   "cell_type": "code",
   "execution_count": 18,
   "id": "7559fb89-59d4-4976-a3ae-7919c1564852",
   "metadata": {},
   "outputs": [],
   "source": [
    "py_list = [1, 1.5, 'A']\n",
    "np_array = np.array(py_list)"
   ]
  },
  {
   "cell_type": "code",
   "execution_count": 20,
   "id": "38a669ee-9028-4c09-84f1-1a86e166233f",
   "metadata": {},
   "outputs": [
    {
     "data": {
      "text/plain": [
       "[1, 1.5, 'A']"
      ]
     },
     "execution_count": 20,
     "metadata": {},
     "output_type": "execute_result"
    }
   ],
   "source": [
    "# Lists\n",
    "py_list"
   ]
  },
  {
   "cell_type": "code",
   "execution_count": 21,
   "id": "d7cc8817-c704-40b5-a731-912b07d8a560",
   "metadata": {},
   "outputs": [
    {
     "data": {
      "text/plain": [
       "array(['1', '1.5', 'A'], dtype='<U32')"
      ]
     },
     "execution_count": 21,
     "metadata": {},
     "output_type": "execute_result"
    }
   ],
   "source": [
    "# Arrays\n",
    "np_array   # Notice how the numbers are converted into strings."
   ]
  },
  {
   "attachments": {},
   "cell_type": "markdown",
   "id": "de15036d",
   "metadata": {},
   "source": [
    "## 2.3 Adding a number"
   ]
  },
  {
   "cell_type": "code",
   "execution_count": 22,
   "id": "a81a2bad-9dcb-4c6d-abec-4f984f7a5000",
   "metadata": {},
   "outputs": [],
   "source": [
    "py_list = [1, 2, 3, 4, 5]\n",
    "np_array = np.array(py_list)         # Reusing the Python list\n",
    "                                     # to create a NEW\n",
    "                                     # NumPy array"
   ]
  },
  {
   "cell_type": "code",
   "execution_count": 23,
   "id": "1739217f-b628-4b81-9e5a-2def7efc9816",
   "metadata": {},
   "outputs": [
    {
     "ename": "TypeError",
     "evalue": "can only concatenate list (not \"int\") to list",
     "output_type": "error",
     "traceback": [
      "\u001b[0;31m---------------------------------------------------------------------------\u001b[0m",
      "\u001b[0;31mTypeError\u001b[0m                                 Traceback (most recent call last)",
      "Cell \u001b[0;32mIn[23], line 2\u001b[0m\n\u001b[1;32m      1\u001b[0m \u001b[38;5;66;03m# Lists\u001b[39;00m\n\u001b[0;32m----> 2\u001b[0m \u001b[43mpy_list\u001b[49m\u001b[43m \u001b[49m\u001b[38;5;241;43m+\u001b[39;49m\u001b[43m \u001b[49m\u001b[38;5;241;43m10\u001b[39;49m\n",
      "\u001b[0;31mTypeError\u001b[0m: can only concatenate list (not \"int\") to list"
     ]
    }
   ],
   "source": [
    "# Lists\n",
    "py_list + 10        # Won't work!"
   ]
  },
  {
   "cell_type": "code",
   "execution_count": 25,
   "id": "ac2367b4-7c48-493a-998b-5578ffa6ed02",
   "metadata": {},
   "outputs": [
    {
     "data": {
      "text/plain": [
       "array([11, 12, 13, 14, 15])"
      ]
     },
     "execution_count": 25,
     "metadata": {},
     "output_type": "execute_result"
    }
   ],
   "source": [
    "# Arrays\n",
    "np_array + 10"
   ]
  },
  {
   "attachments": {},
   "cell_type": "markdown",
   "id": "88c1691f",
   "metadata": {},
   "source": [
    "## 2.4 Adding another list"
   ]
  },
  {
   "cell_type": "markdown",
   "id": "619c36c6-f410-408d-bf9c-5450856ebdd0",
   "metadata": {},
   "source": [
    "Adding lists cause the list to grow into a larger set, while adding arrays will lead to element-wise operation."
   ]
  },
  {
   "cell_type": "code",
   "execution_count": 26,
   "id": "620f7e93-f62e-489e-9a59-5c1273c80184",
   "metadata": {},
   "outputs": [],
   "source": [
    "py_list_1 = [1, 2, 3, 4, 5]\n",
    "py_list_2 = [10, 20, 30, 40, 50]\n",
    "\n",
    "np_array_1 = np.array(py_list_1)\n",
    "np_array_2 = np.array(py_list_2)"
   ]
  },
  {
   "cell_type": "code",
   "execution_count": 27,
   "id": "103aae29-e8c1-4249-aa46-f64e8fbc2ded",
   "metadata": {},
   "outputs": [
    {
     "data": {
      "text/plain": [
       "[1, 2, 3, 4, 5, 10, 20, 30, 40, 50]"
      ]
     },
     "execution_count": 27,
     "metadata": {},
     "output_type": "execute_result"
    }
   ],
   "source": [
    "# Lists\n",
    "py_list_1 + py_list_2"
   ]
  },
  {
   "cell_type": "code",
   "execution_count": 28,
   "id": "3a1258d7-f1da-4333-ba1a-0efe87cf9cc4",
   "metadata": {},
   "outputs": [
    {
     "data": {
      "text/plain": [
       "array([11, 22, 33, 44, 55])"
      ]
     },
     "execution_count": 28,
     "metadata": {},
     "output_type": "execute_result"
    }
   ],
   "source": [
    "# Array\n",
    "np_array_1 + np_array_2"
   ]
  },
  {
   "attachments": {},
   "cell_type": "markdown",
   "id": "5a464cf7",
   "metadata": {},
   "source": [
    "## 2.5 Multiplying by a Number"
   ]
  },
  {
   "cell_type": "markdown",
   "id": "55e69c1a-c9a2-4c52-9291-94dbaced7dfd",
   "metadata": {},
   "source": [
    "Again, multiplying by a number makes a list grow, whereas an array multiplies its elements by the number."
   ]
  },
  {
   "cell_type": "markdown",
   "id": "7762861f-6fb6-48dd-a1c1-2af0aa0fdfbe",
   "metadata": {},
   "source": []
  },
  {
   "cell_type": "code",
   "execution_count": 29,
   "id": "2ae82b22-bf31-418d-a832-687f7d703e86",
   "metadata": {},
   "outputs": [],
   "source": [
    "py_list = [1, 2, 3, 4, 5]\n",
    "np_array = np.array(py_list)         "
   ]
  },
  {
   "cell_type": "code",
   "execution_count": 30,
   "id": "aac0fd88-b82f-48be-8254-25c678ce6a59",
   "metadata": {},
   "outputs": [
    {
     "data": {
      "text/plain": [
       "[1, 2, 3, 4, 5, 1, 2, 3, 4, 5]"
      ]
     },
     "execution_count": 30,
     "metadata": {},
     "output_type": "execute_result"
    }
   ],
   "source": [
    "# Lists\n",
    "py_list*2"
   ]
  },
  {
   "cell_type": "code",
   "execution_count": 31,
   "id": "2759adfa-3cf8-49fa-b89b-65a0782064ab",
   "metadata": {},
   "outputs": [
    {
     "data": {
      "text/plain": [
       "array([ 2,  4,  6,  8, 10])"
      ]
     },
     "execution_count": 31,
     "metadata": {},
     "output_type": "execute_result"
    }
   ],
   "source": [
    "# Arrays\n",
    "np_array*2"
   ]
  },
  {
   "attachments": {},
   "cell_type": "markdown",
   "id": "bf7704a8",
   "metadata": {},
   "source": [
    "## 2.6 Squaring"
   ]
  },
  {
   "cell_type": "code",
   "execution_count": 32,
   "id": "2056f43d-01e8-4ea0-b054-7917ab0e66f9",
   "metadata": {},
   "outputs": [],
   "source": [
    "py_list = [1, 2, 3, 4, 5]\n",
    "np_array = np.array(py_list)"
   ]
  },
  {
   "cell_type": "code",
   "execution_count": 33,
   "id": "9402bc19-d38c-4e73-96a6-3b220ff608b1",
   "metadata": {},
   "outputs": [
    {
     "ename": "TypeError",
     "evalue": "unsupported operand type(s) for ** or pow(): 'list' and 'int'",
     "output_type": "error",
     "traceback": [
      "\u001b[0;31m---------------------------------------------------------------------------\u001b[0m",
      "\u001b[0;31mTypeError\u001b[0m                                 Traceback (most recent call last)",
      "Cell \u001b[0;32mIn[33], line 2\u001b[0m\n\u001b[1;32m      1\u001b[0m \u001b[38;5;66;03m# Lists\u001b[39;00m\n\u001b[0;32m----> 2\u001b[0m \u001b[43mpy_list\u001b[49m\u001b[38;5;241;43m*\u001b[39;49m\u001b[38;5;241;43m*\u001b[39;49m\u001b[38;5;241;43m2\u001b[39;49m\n",
      "\u001b[0;31mTypeError\u001b[0m: unsupported operand type(s) for ** or pow(): 'list' and 'int'"
     ]
    }
   ],
   "source": [
    "# Lists\n",
    "py_list**2                      # Won't work!  "
   ]
  },
  {
   "cell_type": "code",
   "execution_count": 34,
   "id": "34a66ffe-d198-4e9d-81b0-8be79a6365a3",
   "metadata": {},
   "outputs": [
    {
     "data": {
      "text/plain": [
       "array([ 1,  4,  9, 16, 25])"
      ]
     },
     "execution_count": 34,
     "metadata": {},
     "output_type": "execute_result"
    }
   ],
   "source": [
    "# Arrays\n",
    "np_array**2"
   ]
  },
  {
   "attachments": {},
   "cell_type": "markdown",
   "id": "c90f44e6",
   "metadata": {},
   "source": [
    "## 2.7 Asking questions"
   ]
  },
  {
   "cell_type": "code",
   "execution_count": 35,
   "id": "3e15fb63-2bd5-4bb5-8b74-0515e221edf0",
   "metadata": {},
   "outputs": [],
   "source": [
    "py_list = [1, 2, 3, 4, 5]\n",
    "np_array = np.array(py_list)         \n"
   ]
  },
  {
   "cell_type": "code",
   "execution_count": 36,
   "id": "ea2c0ac9-f3ac-4ad1-8162-6a6c7e1cee7b",
   "metadata": {},
   "outputs": [
    {
     "data": {
      "text/plain": [
       "False"
      ]
     },
     "execution_count": 36,
     "metadata": {},
     "output_type": "execute_result"
    }
   ],
   "source": [
    "# Lists_Example_1\n",
    "py_list == 3     # Works, but what IS the question?"
   ]
  },
  {
   "cell_type": "code",
   "execution_count": 37,
   "id": "2580ff01-dff0-467b-9349-b4b020a84b07",
   "metadata": {},
   "outputs": [
    {
     "ename": "TypeError",
     "evalue": "'>' not supported between instances of 'list' and 'int'",
     "output_type": "error",
     "traceback": [
      "\u001b[0;31m---------------------------------------------------------------------------\u001b[0m",
      "\u001b[0;31mTypeError\u001b[0m                                 Traceback (most recent call last)",
      "Cell \u001b[0;32mIn[37], line 2\u001b[0m\n\u001b[1;32m      1\u001b[0m \u001b[38;5;66;03m# Lists\u001b[39;00m\n\u001b[0;32m----> 2\u001b[0m \u001b[43mpy_list\u001b[49m\u001b[43m \u001b[49m\u001b[38;5;241;43m>\u001b[39;49m\u001b[43m \u001b[49m\u001b[38;5;241;43m3\u001b[39;49m\n",
      "\u001b[0;31mTypeError\u001b[0m: '>' not supported between instances of 'list' and 'int'"
     ]
    }
   ],
   "source": [
    "# Lists_Example_2\n",
    "py_list > 3      # Won't work!"
   ]
  },
  {
   "cell_type": "code",
   "execution_count": 38,
   "id": "81a6b7b0-a25c-4d22-97d1-561365ab0cfa",
   "metadata": {},
   "outputs": [
    {
     "data": {
      "text/plain": [
       "array([False, False,  True, False, False])"
      ]
     },
     "execution_count": 38,
     "metadata": {},
     "output_type": "execute_result"
    }
   ],
   "source": [
    "# Arrays_Example_1\n",
    "np_array == 3  "
   ]
  },
  {
   "cell_type": "code",
   "execution_count": 39,
   "id": "6c3af25c-6852-45ee-ab9c-67a718d10adc",
   "metadata": {},
   "outputs": [
    {
     "data": {
      "text/plain": [
       "array([False, False, False,  True,  True])"
      ]
     },
     "execution_count": 39,
     "metadata": {},
     "output_type": "execute_result"
    }
   ],
   "source": [
    "# Arrays_Example_2\n",
    "np_array > 3  "
   ]
  },
  {
   "attachments": {},
   "cell_type": "markdown",
   "id": "73c85991",
   "metadata": {},
   "source": [
    "## 2.8 Mathematics"
   ]
  },
  {
   "cell_type": "code",
   "execution_count": 40,
   "id": "ce9ae4b4-bae2-4b1d-b965-9e12dbd29582",
   "metadata": {},
   "outputs": [],
   "source": [
    "py_list = [1, 2, 3, 4, 5]\n",
    "np_array = np.array(py_list)         "
   ]
  },
  {
   "cell_type": "code",
   "execution_count": 41,
   "id": "6540a449-4586-4f40-99c7-c60c2994c5aa",
   "metadata": {},
   "outputs": [
    {
     "data": {
      "text/plain": [
       "15"
      ]
     },
     "execution_count": 41,
     "metadata": {},
     "output_type": "execute_result"
    }
   ],
   "source": [
    "# Lists_Example_1\n",
    "sum(py_list)     # sum() is a base Python function"
   ]
  },
  {
   "cell_type": "code",
   "execution_count": 43,
   "id": "36025b86-7dc9-447e-8515-7ce04ec51ac4",
   "metadata": {},
   "outputs": [
    {
     "data": {
      "text/plain": [
       "5"
      ]
     },
     "execution_count": 43,
     "metadata": {},
     "output_type": "execute_result"
    }
   ],
   "source": [
    "# Lists_Example_2\n",
    "max(py_list)     # max() is a base Python function"
   ]
  },
  {
   "cell_type": "code",
   "execution_count": 44,
   "id": "4687d329-bfe9-4851-8cb5-7dfc0bb3a350",
   "metadata": {},
   "outputs": [
    {
     "data": {
      "text/plain": [
       "1"
      ]
     },
     "execution_count": 44,
     "metadata": {},
     "output_type": "execute_result"
    }
   ],
   "source": [
    "# Lists_Example_3\n",
    "min(py_list)     # min() is a base Python function"
   ]
  },
  {
   "cell_type": "code",
   "execution_count": 45,
   "id": "f57355fe-d6fd-4c85-b6fd-358fc94ca0cd",
   "metadata": {},
   "outputs": [
    {
     "ename": "AttributeError",
     "evalue": "'list' object has no attribute 'sum'",
     "output_type": "error",
     "traceback": [
      "\u001b[0;31m---------------------------------------------------------------------------\u001b[0m",
      "\u001b[0;31mAttributeError\u001b[0m                            Traceback (most recent call last)",
      "Cell \u001b[0;32mIn[45], line 2\u001b[0m\n\u001b[1;32m      1\u001b[0m \u001b[38;5;66;03m# Lists_Example_4\u001b[39;00m\n\u001b[0;32m----> 2\u001b[0m \u001b[43mpy_list\u001b[49m\u001b[38;5;241;43m.\u001b[39;49m\u001b[43msum\u001b[49m()\n",
      "\u001b[0;31mAttributeError\u001b[0m: 'list' object has no attribute 'sum'"
     ]
    }
   ],
   "source": [
    "# Lists_Example_4\n",
    "py_list.sum()   # Won't work!"
   ]
  },
  {
   "cell_type": "code",
   "execution_count": 46,
   "id": "d13d3bc2-7bd2-4785-aadb-c0cd669af0bf",
   "metadata": {},
   "outputs": [
    {
     "data": {
      "text/plain": [
       "15"
      ]
     },
     "execution_count": 46,
     "metadata": {},
     "output_type": "execute_result"
    }
   ],
   "source": [
    "# Arrays_Example_1\n",
    "np_array.sum()"
   ]
  },
  {
   "cell_type": "code",
   "execution_count": 47,
   "id": "0b63e430-afaf-434b-a67c-ed3383301b82",
   "metadata": {},
   "outputs": [
    {
     "data": {
      "text/plain": [
       "5"
      ]
     },
     "execution_count": 47,
     "metadata": {},
     "output_type": "execute_result"
    }
   ],
   "source": [
    "# Arrays_Example_2\n",
    "np_array.max()"
   ]
  },
  {
   "cell_type": "code",
   "execution_count": 48,
   "id": "70d09652-9eee-4a0c-9bc9-1ae0d819ae46",
   "metadata": {},
   "outputs": [
    {
     "data": {
      "text/plain": [
       "1"
      ]
     },
     "execution_count": 48,
     "metadata": {},
     "output_type": "execute_result"
    }
   ],
   "source": [
    "# Arrays_Example_3\n",
    "np_array.min()"
   ]
  },
  {
   "cell_type": "code",
   "execution_count": 50,
   "id": "0b46f4cb-5e3e-41a1-ad91-307c8405b6df",
   "metadata": {},
   "outputs": [
    {
     "data": {
      "text/plain": [
       "3.0"
      ]
     },
     "execution_count": 50,
     "metadata": {},
     "output_type": "execute_result"
    }
   ],
   "source": [
    "# Arrays_Example_4\n",
    "np_array.mean()"
   ]
  },
  {
   "cell_type": "code",
   "execution_count": 52,
   "id": "157e7ad5-f22d-4522-a38f-2a8e91394995",
   "metadata": {},
   "outputs": [
    {
     "data": {
      "text/plain": [
       "1.4142135623730951"
      ]
     },
     "execution_count": 52,
     "metadata": {},
     "output_type": "execute_result"
    }
   ],
   "source": [
    "# Arrays_Example_5\n",
    "np_array.std()"
   ]
  },
  {
   "cell_type": "markdown",
   "id": "949106c1-3336-4159-81e7-9a8c32cd1610",
   "metadata": {},
   "source": [
    "In general, an operation on a list works on the entire list while an operation on an array works on the individual elements of the array,"
   ]
  }
 ],
 "metadata": {
  "kernelspec": {
   "display_name": "Python 3 (ipykernel)",
   "language": "python",
   "name": "python3"
  },
  "language_info": {
   "codemirror_mode": {
    "name": "ipython",
    "version": 3
   },
   "file_extension": ".py",
   "mimetype": "text/x-python",
   "name": "python",
   "nbconvert_exporter": "python",
   "pygments_lexer": "ipython3",
   "version": "3.10.9"
  },
  "toc": {
   "base_numbering": 1,
   "nav_menu": {},
   "number_sections": true,
   "sideBar": true,
   "skip_h1_title": false,
   "title_cell": "Table of Contents",
   "title_sidebar": "Contents",
   "toc_cell": false,
   "toc_position": {},
   "toc_section_display": true,
   "toc_window_display": false
  },
  "vscode": {
   "interpreter": {
    "hash": "31f2aee4e71d21fbe5cf8b01ff0e069b9275f58929596ceb00d14d90e3e16cd6"
   }
  }
 },
 "nbformat": 4,
 "nbformat_minor": 5
}
