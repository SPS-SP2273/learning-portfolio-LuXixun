{
 "cells": [
  {
   "attachments": {},
   "cell_type": "markdown",
   "id": "123456",
   "metadata": {},
   "source": [
    "<div style=\"text-align:left;font-size:2em\"><span style=\"font-weight:bolder;font-size:1.25em\">SP2273 | Learning Portfolio</span><br><br><span style=\"font-weight:bold;color:darkred\">Storing Data (Good)</span></div>"
   ]
  },
  {
   "cell_type": "code",
   "execution_count": 3,
   "id": "56a5f3d0-718a-411e-9bd9-d1f3022929ac",
   "metadata": {},
   "outputs": [],
   "source": [
    "import numpy as np"
   ]
  },
  {
   "attachments": {},
   "cell_type": "markdown",
   "id": "efc738d3",
   "metadata": {},
   "source": [
    "# 1 Subsetting: Indexing and Slicing"
   ]
  },
  {
   "cell_type": "markdown",
   "id": "c5b10142-0061-4a79-985e-846a6b9cad8a",
   "metadata": {},
   "source": [
    "Three ways to select a subset of data:\n",
    "1. Subsetting: select\n",
    "2. indexing:selecting one element\n",
    "3. slicing: selecting a range of elements"
   ]
  },
  {
   "attachments": {},
   "cell_type": "markdown",
   "id": "d6aed782",
   "metadata": {},
   "source": [
    "## 1.1 Lists & Arrays in 1D | Subsetting & Indexing"
   ]
  },
  {
   "cell_type": "code",
   "execution_count": null,
   "id": "737bf72d-5065-4f3c-80a5-2b740a6c573e",
   "metadata": {},
   "outputs": [],
   "source": []
  },
  {
   "cell_type": "code",
   "execution_count": 5,
   "id": "232e052c-22a9-4b22-8ff6-015be22f5e49",
   "metadata": {},
   "outputs": [],
   "source": [
    "py_list=[\"a1\", \"b2\", \"c3\", \"d4\", \"e5\",\n",
    "         \"f6\", \"g7\", \"h8\", \"i9\", \"j10\"]\n",
    "np_array=np.array(py_list)\n",
    "\n",
    "# Pick one\n",
    "x = py_list  # OR\n",
    "x = np_array"
   ]
  },
  {
   "cell_type": "markdown",
   "id": "c6455b30-869d-441a-9a2e-fa022fe92b1b",
   "metadata": {},
   "source": [
    "|**Syntax**|**Result**|**Note**|\n",
    "|:--|:--|:--|\n",
    "|`x[0]`|First element`a1`||\n",
    "|`x[-1]`|Last element`j10`||\n",
    "|`x[0:3]`|Index 0 to 2`['a1','b2','c3']`|Gives 3−0=3 elements|\n",
    "|`x[1:6]`|Index 1 to 5\t`['b2','c3','d4','e5','f6']`|Gives 6-1=5 elements|\n",
    "|`x[1:6:2]`|Index 1 to 5 in steps of 2\t`['b2','d4','f6']`|Gives every other of 6-1=5 elements|\n",
    "|`x[5:]`|\tIndex 5 to the end\t`['f6','g7','h8','i9','j10']`|Gives `len(x)`- 5 =5 elements|\n",
    "|`x[:5]`|Index 0 to 5\t`['a1','b2','c3','d4','e5']`|Give 5-0 = 5 elements|\n",
    "|`x[5:2:-1]`|Index 5 to 3 (i.e., in reverse)`['f6','e5','d4']`|Gives 5-2 = 3 elements|\n",
    "|`x[::-1]`|Reverses the list\t`['j10','i9','h8',...,'b2','a1']`||"
   ]
  },
  {
   "cell_type": "markdown",
   "id": "b0bd2074-97ad-4aee-9f9a-242b5b247a5d",
   "metadata": {},
   "source": [
    "In Python, If you slice with `[i:j]`, the slice will start at `i` and end at `j-1`, giving you a total of `j-i` elements."
   ]
  },
  {
   "attachments": {},
   "cell_type": "markdown",
   "id": "a3e055d7",
   "metadata": {},
   "source": [
    "## 1.2 Arrays only | Subsetting by masking"
   ]
  },
  {
   "cell_type": "code",
   "execution_count": 7,
   "id": "cebdc749-7ade-47f2-8f21-268474792963",
   "metadata": {},
   "outputs": [
    {
     "data": {
      "text/plain": [
       "array([False, False, False,  True,  True,  True,  True,  True,  True,\n",
       "        True])"
      ]
     },
     "execution_count": 7,
     "metadata": {},
     "output_type": "execute_result"
    }
   ],
   "source": [
    "np_array = np.array([1, 2, 3, 4, 5, 6, 7, 8, 9, 10])\n",
    "my_mask = np_array > 3\n",
    "my_mask"
   ]
  },
  {
   "cell_type": "markdown",
   "id": "bd33dab3-5c07-48e4-aabc-33d785be3629",
   "metadata": {},
   "source": [
    "We can ask NumPy to **show me only those that are `True`** by:"
   ]
  },
  {
   "cell_type": "code",
   "execution_count": 9,
   "id": "d8bb6e62-3637-4f1e-8310-812a6a02163e",
   "metadata": {},
   "outputs": [
    {
     "data": {
      "text/plain": [
       "array([ 4,  5,  6,  7,  8,  9, 10])"
      ]
     },
     "execution_count": 9,
     "metadata": {},
     "output_type": "execute_result"
    }
   ],
   "source": [
    "np_array[my_mask]"
   ]
  },
  {
   "cell_type": "markdown",
   "id": "02f8c8ca-5d21-41b9-b51b-6b474bae1c21",
   "metadata": {},
   "source": [
    "Hence, the `True/False` answer acts like a mask allowing only the True subset to be seen."
   ]
  },
  {
   "cell_type": "markdown",
   "id": "45297d17-df4d-4fa0-998d-6bf6433af3fe",
   "metadata": {},
   "source": [
    "Instead of creating another variable, we can also do this:"
   ]
  },
  {
   "cell_type": "code",
   "execution_count": 10,
   "id": "3c17e90e-c946-4e20-aac1-abe554a45ec5",
   "metadata": {},
   "outputs": [
    {
     "data": {
      "text/plain": [
       "array([ 4,  5,  6,  7,  8,  9, 10])"
      ]
     },
     "execution_count": 10,
     "metadata": {},
     "output_type": "execute_result"
    }
   ],
   "source": [
    "np_array[np_array > 3]"
   ]
  },
  {
   "cell_type": "markdown",
   "id": "27032830-b734-411e-8291-7a916c71ee41",
   "metadata": {},
   "source": [
    "**Example 1**\n",
    "<br> We can invert our mask by using the `~`.\n",
    "<br>`~`  is called the Bitwise Not operator."
   ]
  },
  {
   "cell_type": "code",
   "execution_count": 12,
   "id": "b13929b2-2300-4cc1-b54f-7aeeac7a815c",
   "metadata": {},
   "outputs": [
    {
     "data": {
      "text/plain": [
       "array([1, 2, 3])"
      ]
     },
     "execution_count": 12,
     "metadata": {},
     "output_type": "execute_result"
    }
   ],
   "source": [
    "np_array[~(np_array > 3)]                 # '~' means 'NOT'"
   ]
  },
  {
   "cell_type": "markdown",
   "id": "e344a0c8-864e-420f-872a-1d21f2f8669b",
   "metadata": {},
   "source": [
    "**Example 2**\n",
    "<br> We can combine one mask **AND** another mask.\n",
    "<br>(AND will show something only if both masks are true.)"
   ]
  },
  {
   "cell_type": "code",
   "execution_count": 13,
   "id": "52e477ed-aa10-4ad5-a08e-1c1394b2ba97",
   "metadata": {},
   "outputs": [
    {
     "data": {
      "text/plain": [
       "array([4, 5, 6, 7])"
      ]
     },
     "execution_count": 13,
     "metadata": {},
     "output_type": "execute_result"
    }
   ],
   "source": [
    "np_array[(np_array > 3) & (np_array < 8)] # '&' means 'AND'"
   ]
  },
  {
   "cell_type": "markdown",
   "id": "184a7ff3-57ad-4c0c-b35e-abb5857fbdff",
   "metadata": {},
   "source": [
    "**Example 3**\n",
    "<br>We can combine one mask **OR** another mask.\n",
    "<br>(OR will show something if either mask is true.)"
   ]
  },
  {
   "cell_type": "code",
   "execution_count": 11,
   "id": "50164d37-e499-47ff-a267-92eb9d4e9883",
   "metadata": {},
   "outputs": [
    {
     "data": {
      "text/plain": [
       "array([ 1,  2,  9, 10])"
      ]
     },
     "execution_count": 11,
     "metadata": {},
     "output_type": "execute_result"
    }
   ],
   "source": [
    "np_array[(np_array < 3) | (np_array > 8)] # '|' means 'OR'"
   ]
  },
  {
   "cell_type": "markdown",
   "id": "fbed7b25-d2f8-4dc7-a5c8-54eb09b7f849",
   "metadata": {},
   "source": [
    "**Take note:**\n",
    "<br> \n",
    "* Always use the Bitwise NOT(~), Bitwise OR(|) and Bitwise AND(&) when combining masks with NumPy.\n",
    "* Always use brackets to clarify what you are asking the mask to d"
   ]
  },
  {
   "attachments": {},
   "cell_type": "markdown",
   "id": "5f76a577",
   "metadata": {},
   "source": [
    "## 1.3 Lists & Arrays in 2D | Indexing & Slicing"
   ]
  },
  {
   "cell_type": "markdown",
   "id": "61e8d2a7-2420-47c6-b5da-7a7d63ddb7e9",
   "metadata": {},
   "source": [
    "The differences between lists and arrays become more apparent with higher dimensional lists and arrays."
   ]
  },
  {
   "cell_type": "code",
   "execution_count": 14,
   "id": "ff3a86f5-7c66-4dbd-b8a9-17d6a934a929",
   "metadata": {},
   "outputs": [],
   "source": [
    "# 2D list:\n",
    "py_list_2d = [[1, \"A\"], [2, \"B\"], [3, \"C\"], [4, \"D\"],\n",
    "              [5, \"E\"], [6, \"F\"], [7, \"G\"], [8, \"H\"],\n",
    "              [9, \"I\"], [10, \"J\"]]\n",
    "\n",
    "np_array_2d = np.array(py_list_2d)"
   ]
  },
  {
   "cell_type": "markdown",
   "id": "7bfbace0-6353-41d3-bc6d-9e61ab45fa34",
   "metadata": {},
   "source": [
    "**Example 1**\n",
    "<br> What is at position 4 (index 3)?"
   ]
  },
  {
   "cell_type": "code",
   "execution_count": 15,
   "id": "7771f504-ef19-412e-9566-57c3c12b6bec",
   "metadata": {},
   "outputs": [
    {
     "data": {
      "text/plain": [
       "[4, 'D']"
      ]
     },
     "execution_count": 15,
     "metadata": {},
     "output_type": "execute_result"
    }
   ],
   "source": [
    "py_list_2d[3]"
   ]
  },
  {
   "cell_type": "code",
   "execution_count": 16,
   "id": "85035c22-4053-4a72-b8c5-201176be70db",
   "metadata": {},
   "outputs": [
    {
     "data": {
      "text/plain": [
       "array(['4', 'D'], dtype='<U21')"
      ]
     },
     "execution_count": 16,
     "metadata": {},
     "output_type": "execute_result"
    }
   ],
   "source": [
    "np_array_2d[3]"
   ]
  },
  {
   "cell_type": "markdown",
   "id": "f417b060-8d7f-4680-bc81-e8213388817e",
   "metadata": {},
   "source": [
    "**Example 2**\n",
    "<br> What is the FIRST element at position 4 (index 3)"
   ]
  },
  {
   "cell_type": "code",
   "execution_count": 17,
   "id": "4dd763a4-082c-4c91-a533-135f644eab98",
   "metadata": {},
   "outputs": [
    {
     "data": {
      "text/plain": [
       "4"
      ]
     },
     "execution_count": 17,
     "metadata": {},
     "output_type": "execute_result"
    }
   ],
   "source": [
    "py_list_2d[3][0]"
   ]
  },
  {
   "cell_type": "code",
   "execution_count": 18,
   "id": "c61e3da2-4998-4e48-ad41-56ae91be88e6",
   "metadata": {},
   "outputs": [
    {
     "data": {
      "text/plain": [
       "'4'"
      ]
     },
     "execution_count": 18,
     "metadata": {},
     "output_type": "execute_result"
    }
   ],
   "source": [
    "np_array_2d[3, 0]"
   ]
  },
  {
   "cell_type": "markdown",
   "id": "b9fcf279-770c-4356-acdc-5d4dc82832ea",
   "metadata": {},
   "source": [
    "**Example 3**\n",
    "<br> What are the first three elements?"
   ]
  },
  {
   "cell_type": "code",
   "execution_count": 19,
   "id": "251d13cb-2d0d-4c87-86bf-4289ed11a026",
   "metadata": {},
   "outputs": [
    {
     "data": {
      "text/plain": [
       "[[1, 'A'], [2, 'B'], [3, 'C']]"
      ]
     },
     "execution_count": 19,
     "metadata": {},
     "output_type": "execute_result"
    }
   ],
   "source": [
    "py_list_2d[:3]"
   ]
  },
  {
   "cell_type": "code",
   "execution_count": 20,
   "id": "63a92f88-6d03-4fcb-8208-6f088e2173d2",
   "metadata": {},
   "outputs": [
    {
     "data": {
      "text/plain": [
       "array([['1', 'A'],\n",
       "       ['2', 'B'],\n",
       "       ['3', 'C']], dtype='<U21')"
      ]
     },
     "execution_count": 20,
     "metadata": {},
     "output_type": "execute_result"
    }
   ],
   "source": [
    "np_array_2d[:3]"
   ]
  },
  {
   "cell_type": "markdown",
   "id": "6aa9644f-820e-4daf-ad0b-46d6b198f6ff",
   "metadata": {},
   "source": [
    "**Example 4**"
   ]
  },
  {
   "cell_type": "code",
   "execution_count": 21,
   "id": "87407dcc-5810-4449-adf0-58567909398c",
   "metadata": {},
   "outputs": [
    {
     "data": {
      "text/plain": [
       "[1, 'A']"
      ]
     },
     "execution_count": 21,
     "metadata": {},
     "output_type": "execute_result"
    }
   ],
   "source": [
    "py_list_2d[:3][0]  # it gives the first of the list you get from py_list_2d[:3]."
   ]
  },
  {
   "cell_type": "code",
   "execution_count": 24,
   "id": "d2f6cef6-cc12-461b-9cd1-9519e4d2518e",
   "metadata": {},
   "outputs": [
    {
     "data": {
      "text/plain": [
       "array(['1', '2', '3'], dtype='<U21')"
      ]
     },
     "execution_count": 24,
     "metadata": {},
     "output_type": "execute_result"
    }
   ],
   "source": [
    "np_array_2d[:3, 0]  # notice this yields the first elements (i.e., [1, 2, 3]) of all the sub-lists up to index 2."
   ]
  },
  {
   "cell_type": "markdown",
   "id": "132377e3-a47d-4465-a89a-0aa9a5a218ef",
   "metadata": {},
   "source": [
    "**Example 5**"
   ]
  },
  {
   "cell_type": "code",
   "execution_count": 25,
   "id": "52755c7d-102b-4bf3-a1cb-c1f234c6d9ff",
   "metadata": {},
   "outputs": [
    {
     "data": {
      "text/plain": [
       "[4, 'D']"
      ]
     },
     "execution_count": 25,
     "metadata": {},
     "output_type": "execute_result"
    }
   ],
   "source": [
    "py_list_2d[3:6][0]"
   ]
  },
  {
   "cell_type": "code",
   "execution_count": 26,
   "id": "27119208-7491-4c6e-b502-ee05575a2d39",
   "metadata": {},
   "outputs": [
    {
     "data": {
      "text/plain": [
       "array(['4', '5', '6'], dtype='<U21')"
      ]
     },
     "execution_count": 26,
     "metadata": {},
     "output_type": "execute_result"
    }
   ],
   "source": [
    "np_array_2d[3:6, 0]"
   ]
  },
  {
   "cell_type": "code",
   "execution_count": 27,
   "id": "0b59f69d-456a-4678-a3fd-5d02dabd5fef",
   "metadata": {},
   "outputs": [
    {
     "data": {
      "text/plain": [
       "array(['1', '2', '3', '4', '5', '6', '7', '8', '9', '10'], dtype='<U21')"
      ]
     },
     "execution_count": 27,
     "metadata": {},
     "output_type": "execute_result"
    }
   ],
   "source": [
    "np_array_2d[:, 0]"
   ]
  },
  {
   "attachments": {},
   "cell_type": "markdown",
   "id": "0d25b5c6",
   "metadata": {},
   "source": [
    "## 1.4 Growing lists"
   ]
  },
  {
   "cell_type": "markdown",
   "id": "1c6d1461-0006-40be-bbe4-7688bb11f20d",
   "metadata": {},
   "source": [
    "* Lists: ease and efficiency in growing\n",
    "* Numpy arrays: fast math operations provided you do not change their size."
   ]
  },
  {
   "cell_type": "markdown",
   "id": "7145844a-e06a-479d-bd50-cc09b489beac",
   "metadata": {},
   "source": [
    "How to grow a list:"
   ]
  },
  {
   "cell_type": "markdown",
   "id": "bd7fea59-7913-41a1-bef6-4a2361582a95",
   "metadata": {},
   "source": [
    "**Example 1**\n",
    "<br> Creating a larger list from a smaller one"
   ]
  },
  {
   "cell_type": "code",
   "execution_count": 29,
   "id": "b59ff2d5-b3f7-4dc5-a358-b09af88e76b7",
   "metadata": {},
   "outputs": [
    {
     "data": {
      "text/plain": [
       "[1, 2, 1, 2, 1, 2, 1, 2, 1, 2]"
      ]
     },
     "execution_count": 29,
     "metadata": {},
     "output_type": "execute_result"
    }
   ],
   "source": [
    "x=[1, 2]*5\n",
    "x"
   ]
  },
  {
   "cell_type": "markdown",
   "id": "4d111767-0ab8-4254-88d7-02e09b0bf0c0",
   "metadata": {},
   "source": [
    "**Example 2**\n",
    "<br> Three ways to grow a list by appending one element at a time"
   ]
  },
  {
   "cell_type": "code",
   "execution_count": 30,
   "id": "144a70e3-f02b-47da-843e-d1e1c160bc9e",
   "metadata": {},
   "outputs": [
    {
     "data": {
      "text/plain": [
       "[1, 2, 3, 4]"
      ]
     },
     "execution_count": 30,
     "metadata": {},
     "output_type": "execute_result"
    }
   ],
   "source": [
    "x=[1]\n",
    "x= x + [2]\n",
    "x= x + [3]\n",
    "x= x + [4]\n",
    "x"
   ]
  },
  {
   "cell_type": "code",
   "execution_count": 31,
   "id": "7dcf8501-08d9-4ab7-972b-d3021bb74d49",
   "metadata": {},
   "outputs": [
    {
     "data": {
      "text/plain": [
       "[1, 2, 3, 4]"
      ]
     },
     "execution_count": 31,
     "metadata": {},
     "output_type": "execute_result"
    }
   ],
   "source": [
    "x=[1]\n",
    "x+= [2]\n",
    "x+= [3]\n",
    "x+= [4]\n",
    "x"
   ]
  },
  {
   "cell_type": "code",
   "execution_count": 32,
   "id": "9c254f21-7098-409f-a685-9bef72a9ea28",
   "metadata": {},
   "outputs": [
    {
     "data": {
      "text/plain": [
       "[1, 2, 3, 4]"
      ]
     },
     "execution_count": 32,
     "metadata": {},
     "output_type": "execute_result"
    }
   ],
   "source": [
    "x=[1]\n",
    "x.append(2)\n",
    "x.append(3)\n",
    "x.append(4)\n",
    "x"
   ]
  },
  {
   "cell_type": "markdown",
   "id": "2bcf04c1-7832-41a0-a9bd-29936cd6f7e3",
   "metadata": {},
   "source": [
    "The execution speeds of the above three methods are different; the version with append() runs about 1.5 times faster than the rest!"
   ]
  },
  {
   "cell_type": "markdown",
   "id": "cb512972-4d77-4e95-b094-5b58c7d97e87",
   "metadata": {},
   "source": [
    "**Example 3**\n",
    "<br> Here are three ways of incorporating multiple elements.\n",
    "<br> Notice the difference between the effects of `extend()` and `append()`."
   ]
  },
  {
   "cell_type": "code",
   "execution_count": 33,
   "id": "8bb1af57-6f45-474a-85e2-c30183d6ba4a",
   "metadata": {},
   "outputs": [
    {
     "data": {
      "text/plain": [
       "[1, 2, 3, 4, 5, 6]"
      ]
     },
     "execution_count": 33,
     "metadata": {},
     "output_type": "execute_result"
    }
   ],
   "source": [
    "x = [1, 2, 3]\n",
    "x += [4, 5, 6]\n",
    "x"
   ]
  },
  {
   "cell_type": "code",
   "execution_count": 34,
   "id": "92a14a0e-d502-4071-b887-7f7e08e6ac8e",
   "metadata": {},
   "outputs": [
    {
     "data": {
      "text/plain": [
       "[1, 2, 3, 4, 5, 6]"
      ]
     },
     "execution_count": 34,
     "metadata": {},
     "output_type": "execute_result"
    }
   ],
   "source": [
    "x=[1, 2, 3]\n",
    "x.extend([4, 5, 6])\n",
    "x"
   ]
  },
  {
   "cell_type": "code",
   "execution_count": 35,
   "id": "da32b69b-85f3-4d1f-a32a-3cc4f41d2cde",
   "metadata": {},
   "outputs": [
    {
     "data": {
      "text/plain": [
       "[1, 2, 3, [4, 5, 6]]"
      ]
     },
     "execution_count": 35,
     "metadata": {},
     "output_type": "execute_result"
    }
   ],
   "source": [
    "x=[1, 2, 3]\n",
    "x.append([4, 5, 6])\n",
    "x"
   ]
  },
  {
   "attachments": {},
   "cell_type": "markdown",
   "id": "5494c60a",
   "metadata": {},
   "source": [
    "# Some loose ends"
   ]
  },
  {
   "attachments": {},
   "cell_type": "markdown",
   "id": "be2266c7",
   "metadata": {},
   "source": [
    "## 1.5 Tuples"
   ]
  },
  {
   "cell_type": "markdown",
   "id": "8228a267-48ab-4464-a318-86fa7b483a2e",
   "metadata": {},
   "source": [
    "Another data storage structure: **tuple**. \n",
    "<br> Tuples are similar to lists, except they use `( )` and cannot be changed after creation (i.e., they are immutable)."
   ]
  },
  {
   "cell_type": "code",
   "execution_count": 36,
   "id": "fcfdd3d9-41ba-400e-a914-18706a0531bf",
   "metadata": {},
   "outputs": [],
   "source": [
    "a=(1, 2, 3)     # Define tuple"
   ]
  },
  {
   "cell_type": "code",
   "execution_count": 37,
   "id": "8ddd783c-1860-4628-a5e5-c08801871ecc",
   "metadata": {},
   "outputs": [
    {
     "name": "stdout",
     "output_type": "stream",
     "text": [
      "1\n"
     ]
    }
   ],
   "source": [
    "print(a[0])    # Access data"
   ]
  },
  {
   "cell_type": "code",
   "execution_count": 39,
   "id": "c84db2b8-692d-450e-9e0e-11ce3ad28a9d",
   "metadata": {},
   "outputs": [
    {
     "ename": "TypeError",
     "evalue": "'tuple' object does not support item assignment",
     "output_type": "error",
     "traceback": [
      "\u001b[0;31m---------------------------------------------------------------------------\u001b[0m",
      "\u001b[0;31mTypeError\u001b[0m                                 Traceback (most recent call last)",
      "Cell \u001b[0;32mIn[39], line 2\u001b[0m\n\u001b[1;32m      1\u001b[0m \u001b[38;5;66;03m# The following will NOT work because we cannot change the data of a tuple\u001b[39;00m\n\u001b[0;32m----> 2\u001b[0m a[\u001b[38;5;241m0\u001b[39m]\u001b[38;5;241m=\u001b[39m\u001b[38;5;241m-\u001b[39m\u001b[38;5;241m1\u001b[39m  \n\u001b[1;32m      3\u001b[0m a[\u001b[38;5;241m0\u001b[39m]\u001b[38;5;241m+\u001b[39m\u001b[38;5;241m=\u001b[39m [\u001b[38;5;241m10\u001b[39m]\n",
      "\u001b[0;31mTypeError\u001b[0m: 'tuple' object does not support item assignment"
     ]
    }
   ],
   "source": [
    "# The following will NOT work because we cannot change the data of a tuple\n",
    "a[0]=-1  \n",
    "a[0]+= [10]"
   ]
  },
  {
   "attachments": {},
   "cell_type": "markdown",
   "id": "375cf4f0",
   "metadata": {},
   "source": [
    "## 1.6 Be VERY careful when copying"
   ]
  },
  {
   "cell_type": "markdown",
   "id": "1920ed0d-95d5-40bf-b365-bf8b4aa7704a",
   "metadata": {},
   "source": [
    "Be careful when copying lists and arrays."
   ]
  },
  {
   "cell_type": "markdown",
   "id": "90443a17-c82b-490b-a70e-69c57182c494",
   "metadata": {},
   "source": [
    "For example, if you want to copy a list, you might be tempted to do the following; PLEASE DON’T!"
   ]
  },
  {
   "cell_type": "code",
   "execution_count": 40,
   "id": "7822a88d-eed7-4be4-91d2-4cb89ce8f458",
   "metadata": {},
   "outputs": [],
   "source": [
    "x=[1, 2, 3]\n",
    "y=x           # DON'T do this!\n",
    "z=x           # DON'T do this!"
   ]
  },
  {
   "cell_type": "markdown",
   "id": "9be9e9fd-fd07-4e9c-ae4f-256156d3854f",
   "metadata": {},
   "source": [
    "The correct way to do this is as follows:"
   ]
  },
  {
   "cell_type": "code",
   "execution_count": 44,
   "id": "11c1b508-e524-4498-a3cd-fe840e8c6392",
   "metadata": {},
   "outputs": [],
   "source": [
    "x=[1, 2, 3]\n",
    "y=x.copy()\n",
    "z=x.copy()\n",
    "z=x.copy()"
   ]
  },
  {
   "cell_type": "markdown",
   "id": "a44305c6-f0a2-4907-bfae-bf77311cfc9f",
   "metadata": {},
   "source": [
    "must use `copy()` to be safe. reason: [mutable and immutable objects](https://phyweb.physics.nus.edu.sg/~chammika/sp2273/docs/python_basics/03_storing-data/2_storing-data_good.html#sec-python-variables)"
   ]
  }
 ],
 "metadata": {
  "kernelspec": {
   "display_name": "Python 3 (ipykernel)",
   "language": "python",
   "name": "python3"
  },
  "language_info": {
   "codemirror_mode": {
    "name": "ipython",
    "version": 3
   },
   "file_extension": ".py",
   "mimetype": "text/x-python",
   "name": "python",
   "nbconvert_exporter": "python",
   "pygments_lexer": "ipython3",
   "version": "3.10.9"
  },
  "toc": {
   "base_numbering": 1,
   "nav_menu": {},
   "number_sections": true,
   "sideBar": true,
   "skip_h1_title": false,
   "title_cell": "Table of Contents",
   "title_sidebar": "Contents",
   "toc_cell": false,
   "toc_position": {},
   "toc_section_display": true,
   "toc_window_display": false
  },
  "vscode": {
   "interpreter": {
    "hash": "31f2aee4e71d21fbe5cf8b01ff0e069b9275f58929596ceb00d14d90e3e16cd6"
   }
  }
 },
 "nbformat": 4,
 "nbformat_minor": 5
}
