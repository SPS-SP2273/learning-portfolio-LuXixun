{
 "cells": [
  {
   "attachments": {},
   "cell_type": "markdown",
   "id": "123456",
   "metadata": {},
   "source": [
    "<div style=\"text-align:left;font-size:2em\"><span style=\"font-weight:bolder;font-size:1.25em\">SP2273 | Learning Portfolio</span><br><br><span style=\"font-weight:bold;color:darkred\">Fundamentals (Need) Exercises</span></div>"
   ]
  },
  {
   "cell_type": "markdown",
   "id": "ca81581f-19a9-4c4d-acd7-222760220712",
   "metadata": {},
   "source": [
    "## Exercise 1 (total recall?)"
   ]
  },
  {
   "cell_type": "markdown",
   "id": "09f6ee11-6ac5-4db9-afbb-fcbdddb5736f",
   "metadata": {},
   "source": [
    "1. **Purely from memory**, list as many of the basic Python features I mentioned in my notes as you remember. \n",
    "2. Now, visit the notes and complete the list with the ones you missed.\n",
    "Indicate those you missed by putting them in *italics*.\n",
    "\n",
    "Use a Markdown cell for this list.\n",
    "- Functions\n",
    "- Python is case-sensitive\n",
    "- Python is interpreted line-by-line\n",
    "- differences between different brackets (){}[]\n",
    "    - (): call a function/math\n",
    "    - {}: dictionary\n",
    "    - []: for lists of data\n",
    "- comments in Python is written as #\n",
    "- packages\n",
    "- indentation matters in Python\n",
    "- = means assign a value to a variable while == means checking whether the left entry is the same as the right entry \n",
    "- *the dot(.) is used to indicate ownership*\n",
    "- *if esle statement is used to make decisions*\n",
    "\n",
    "\n",
    "\n",
    "\n"
   ]
  },
  {
   "cell_type": "markdown",
   "id": "b4be79ad-f08f-4916-8ed1-b86868d05f61",
   "metadata": {},
   "source": [
    "## Exercise 2 (Debug me)"
   ]
  },
  {
   "cell_type": "markdown",
   "id": "66088327-1f67-4e70-a098-cb7c0d3fba5f",
   "metadata": {},
   "source": [
    "Fix (debug) the following code to create a Pythagorean triple 3, 4, 5 "
   ]
  },
  {
   "cell_type": "code",
   "execution_count": null,
   "id": "d6819f10-80f8-4282-befb-9f86600321bd",
   "metadata": {},
   "outputs": [],
   "source": [
    "# original code\n",
    "x, y = 3, 4\n",
    "        z = sqrt(x*2 + y**2)\n",
    "    Print(x, y, z)"
   ]
  },
  {
   "cell_type": "code",
   "execution_count": 8,
   "id": "27ff6d98-30ea-4b14-9496-584ac4c8849a",
   "metadata": {},
   "outputs": [
    {
     "name": "stdout",
     "output_type": "stream",
     "text": [
      "3 4 5.0\n"
     ]
    }
   ],
   "source": [
    "#fixed code:\n",
    "import math\n",
    "\n",
    "x, y = 3, 4\n",
    "z = math.sqrt(x**2 + y**2)\n",
    "print(x, y, z)"
   ]
  },
  {
   "cell_type": "markdown",
   "id": "bb388f73-ee6d-43c3-848d-1b5cb8404dd3",
   "metadata": {},
   "source": [
    "## Exercise 3 (In your own words)"
   ]
  },
  {
   "cell_type": "markdown",
   "id": "73a53c37-73e5-4223-87af-b548addee7ff",
   "metadata": {},
   "source": [
    "Using your own words, write a **single** sentence to describe what each of the following means or the role they serve in Python.\n",
    "\n",
    "Please use a Markdown table for this."
   ]
  },
  {
   "cell_type": "markdown",
   "id": "3a28ad96-a733-4f39-94f1-80c2842b62af",
   "metadata": {},
   "source": [
    "|#    | **Term** | **Description**|\n",
    "|:--: | :-------:| :-------------:|\n",
    "| 1   | Function | Function take an input and give an output following certain instructions |\n",
    "| 2   | Arguments| an argument is an input; i.e. it is a value that is sent to a function when it is called |\n",
    "| 3   | Comments | comments are text that are not run by Python but used to remind people using the code about certain information |\n",
    "| 4   | Indentations | indentations are spaces used to separate `True` blocks from `Flase| blocks in Python\n",
    "| 5   | Packages |packages contain pre-set functions that can be imported to a Python file to be used directly |\n",
    "| 6   |`.`| dot is used to indicate ownership (A.B means A owns B)|\n",
    "| 7   |`:`| : is used to assign a value to a key or to start a function | `#???`\n",
    "| 8   |`[]`| [] is used for lists of data|\n",
    "| 9   | `[[[]]]`| used to assess entries in three lists | `#???`\n",
    "| 10  |`{}`|{} is used to store data in a dictionary where values are mapped to keys |"
   ]
  },
  {
   "cell_type": "markdown",
   "id": "cb9f20a2-6280-4e2f-bc0a-fc8f1751f1f6",
   "metadata": {},
   "source": [
    "## Exercise 4"
   ]
  },
  {
   "cell_type": "markdown",
   "id": "6afc087e-3295-42aa-8847-262879a4de98",
   "metadata": {},
   "source": [
    "Programming languages usually offer multiple options for dividing one number by another. Shown below are three such options. Either by observation (i.e., trial and error), Googling or discussing with a friend, figure out what each one does.\n",
    "I recommended the trial and error approach first so that you get a feel for how to use Python.\n",
    "Indicate your answer by writing a comment."
   ]
  },
  {
   "cell_type": "code",
   "execution_count": null,
   "id": "2d277e95-dfdd-4f28-9cfb-2ab946372056",
   "metadata": {},
   "outputs": [],
   "source": [
    "5/2           # What do I do?"
   ]
  },
  {
   "cell_type": "markdown",
   "id": "80f22d51-612f-478d-bee6-5948928d0f26",
   "metadata": {},
   "source": [
    "^ this means division "
   ]
  },
  {
   "cell_type": "code",
   "execution_count": null,
   "id": "0f7cca2c-f860-4cc8-9353-d4fd76c86ff1",
   "metadata": {},
   "outputs": [],
   "source": [
    "5//2          # What do I do?"
   ]
  },
  {
   "cell_type": "markdown",
   "id": "33df2c6f-cb2c-488a-a902-4e306d56def0",
   "metadata": {},
   "source": [
    "^ this means floor division"
   ]
  },
  {
   "cell_type": "code",
   "execution_count": null,
   "id": "17c43eb7-8990-47a3-bc71-6ca467f2ee83",
   "metadata": {},
   "outputs": [],
   "source": [
    "5%2           # What do I do?"
   ]
  },
  {
   "cell_type": "markdown",
   "id": "98f94e51-13ea-408f-b28b-24a9e03a9a6e",
   "metadata": {},
   "source": [
    "^ "
   ]
  }
 ],
 "metadata": {
  "kernelspec": {
   "display_name": "Python 3 (ipykernel)",
   "language": "python",
   "name": "python3"
  },
  "language_info": {
   "codemirror_mode": {
    "name": "ipython",
    "version": 3
   },
   "file_extension": ".py",
   "mimetype": "text/x-python",
   "name": "python",
   "nbconvert_exporter": "python",
   "pygments_lexer": "ipython3",
   "version": "3.10.9"
  },
  "toc": {
   "base_numbering": 1,
   "nav_menu": {},
   "number_sections": true,
   "sideBar": true,
   "skip_h1_title": false,
   "title_cell": "Table of Contents",
   "title_sidebar": "Contents",
   "toc_cell": false,
   "toc_position": {},
   "toc_section_display": true,
   "toc_window_display": false
  },
  "vscode": {
   "interpreter": {
    "hash": "31f2aee4e71d21fbe5cf8b01ff0e069b9275f58929596ceb00d14d90e3e16cd6"
   }
  }
 },
 "nbformat": 4,
 "nbformat_minor": 5
}
