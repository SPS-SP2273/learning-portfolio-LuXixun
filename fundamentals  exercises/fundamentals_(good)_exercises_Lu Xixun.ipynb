{
 "cells": [
  {
   "attachments": {},
   "cell_type": "markdown",
   "id": "123456",
   "metadata": {},
   "source": [
    "<div style=\"text-align:left;font-size:2em\"><span style=\"font-weight:bolder;font-size:1.25em\">SP2273 | Learning Portfolio</span><br><br><span style=\"font-weight:bold;color:darkred\">Fundamentals (Good) Exercises</span></div>"
   ]
  },
  {
   "cell_type": "markdown",
   "id": "07dfd70b-1d3b-4c24-a456-91e6709f13f1",
   "metadata": {},
   "source": [
    "Python allows you to solicit information from the user.\n",
    "One way to do this is using the `input()` function. Here is an example of how to use it."
   ]
  },
  {
   "cell_type": "code",
   "execution_count": 1,
   "id": "99beceb8-e6e3-4b33-94c6-a74cf88dcf0f",
   "metadata": {},
   "outputs": [
    {
     "name": "stdin",
     "output_type": "stream",
     "text": [
      "Give me a number? 2\n"
     ]
    },
    {
     "name": "stdout",
     "output_type": "stream",
     "text": [
      "You entered 2\n"
     ]
    }
   ],
   "source": [
    "user_input = input('Give me a number?')\n",
    "print('You entered', user_input)"
   ]
  },
  {
   "cell_type": "code",
   "execution_count": 2,
   "id": "46125295-1979-40eb-9aff-18a2a8589137",
   "metadata": {},
   "outputs": [
    {
     "name": "stdin",
     "output_type": "stream",
     "text": [
      "Give me a number? a\n"
     ]
    },
    {
     "name": "stdout",
     "output_type": "stream",
     "text": [
      "You entered a\n"
     ]
    }
   ],
   "source": [
    "user_input = input('Give me a number?')\n",
    "print('You entered', user_input)"
   ]
  },
  {
   "cell_type": "markdown",
   "id": "5d0025e6-945e-4ac1-8128-d36fb96bcd8e",
   "metadata": {},
   "source": [
    "**TASK**: Write a Python program that takes a numerical grade (0-100) as input and outputs the corresponding letter grade based on the following criteria:\n",
    "<br>\n",
    "|**Grade**|**Score Range**|\n",
    "|:---|:---|\n",
    "|A|70-100|\n",
    "|B|50-69|\n",
    "|C|35-49|\n",
    "|Fail|0-34|\n",
    "<br>\n",
    "\n",
    "**Note:**\n",
    "\n",
    "- Here is an example of the type of exchange expected.\n",
    "\n",
    "    `Enter the student's score: 85\n",
    "    The student's letter grade is: A`\n",
    "- Ensure your program handles unexpected inputs gracefully and displays a relevant error message."
   ]
  },
  {
   "cell_type": "code",
   "execution_count": 36,
   "id": "21ace222-43aa-40cf-94db-112298a3d5fa",
   "metadata": {},
   "outputs": [
    {
     "name": "stdin",
     "output_type": "stream",
     "text": [
      "Enter the student's score: 50\n"
     ]
    },
    {
     "name": "stdout",
     "output_type": "stream",
     "text": [
      "The student's letter grade is: B\n"
     ]
    }
   ],
   "source": [
    "user_input = input('Enter the student\\'s score:')\n",
    "def grade(user_input):\n",
    "    if 70 <= user_input <=100:\n",
    "        return 'A'\n",
    "    elif 50 <= user_input <=69:\n",
    "        return 'B'\n",
    "    elif 35 <= user_input <= 49:\n",
    "        return 'C'\n",
    "    elif 0 <= user_input <= 34:\n",
    "        return 'Fail'\n",
    "    else:  \n",
    "        return 'Error'\n",
    "print('The student\\'s letter grade is:', grade(int(user_input)))\n",
    "\n"
   ]
  }
 ],
 "metadata": {
  "kernelspec": {
   "display_name": "Python 3 (ipykernel)",
   "language": "python",
   "name": "python3"
  },
  "language_info": {
   "codemirror_mode": {
    "name": "ipython",
    "version": 3
   },
   "file_extension": ".py",
   "mimetype": "text/x-python",
   "name": "python",
   "nbconvert_exporter": "python",
   "pygments_lexer": "ipython3",
   "version": "3.10.9"
  },
  "toc": {
   "base_numbering": 1,
   "nav_menu": {},
   "number_sections": true,
   "sideBar": true,
   "skip_h1_title": false,
   "title_cell": "Table of Contents",
   "title_sidebar": "Contents",
   "toc_cell": false,
   "toc_position": {},
   "toc_section_display": true,
   "toc_window_display": false
  },
  "vscode": {
   "interpreter": {
    "hash": "31f2aee4e71d21fbe5cf8b01ff0e069b9275f58929596ceb00d14d90e3e16cd6"
   }
  }
 },
 "nbformat": 4,
 "nbformat_minor": 5
}
