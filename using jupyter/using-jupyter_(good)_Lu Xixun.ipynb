{
 "cells": [
  {
   "cell_type": "markdown",
   "id": "eda0a34d",
   "metadata": {},
   "source": [
    "<div style=\"text-align:left;font-size:2em\"><span style=\"font-weight:bolder;font-size:1.25em\">SP2273 | Learning Portfolio</span><br><br><span style=\"font-weight:bold;color:darkred\">Using Jupyter (Good)</span></div>"
   ]
  },
  {
   "cell_type": "markdown",
   "id": "39352cab",
   "metadata": {},
   "source": [
    "# 1 Some tips and tricks"
   ]
  },
  {
   "cell_type": "markdown",
   "id": "9282c013",
   "metadata": {},
   "source": [
    "## 1.1 Keyoard Shortcuts¶\n",
    "\n",
    "esc A: create a new cell above\n",
    "\n",
    "esc B: create a new cell below\n",
    "\n",
    "esc C: copy a cell\n",
    "\n",
    "esc V: paste a cell\n",
    "\n",
    "esc Z: undo cell deletion\n",
    "\n",
    "esc Y: convert cell to code cell\n",
    "\n",
    "esc M: convert cell to markdown cell\n",
    "\n",
    "esc + shift + M: merge cell\n",
    "\n",
    "esc H: show shortcuts"
   ]
  },
  {
   "cell_type": "code",
   "execution_count": 7,
   "id": "f3782be5",
   "metadata": {},
   "outputs": [
    {
     "name": "stdout",
     "output_type": "stream",
     "text": [
      "HahaHahaHahaHahaHahaHahaHahaHahaHahaHaha\n"
     ]
    }
   ],
   "source": [
    "print('Haha'*10)"
   ]
  },
  {
   "cell_type": "code",
   "execution_count": 11,
   "id": "f05b65eb",
   "metadata": {},
   "outputs": [
    {
     "name": "stdout",
     "output_type": "stream",
     "text": [
      "woowoowoowoowoowoowoowoowoowoo\n"
     ]
    }
   ],
   "source": [
    "print(\"woo\"*10)"
   ]
  },
  {
   "cell_type": "code",
   "execution_count": 9,
   "id": "ffa229e9",
   "metadata": {},
   "outputs": [
    {
     "name": "stdout",
     "output_type": "stream",
     "text": [
      "Haha\n"
     ]
    }
   ],
   "source": [
    "print('Haha')"
   ]
  },
  {
   "cell_type": "code",
   "execution_count": 10,
   "id": "0bcf9f40",
   "metadata": {},
   "outputs": [
    {
     "name": "stdout",
     "output_type": "stream",
     "text": [
      "zsh:1: command not found: Is\r\n"
     ]
    }
   ],
   "source": [
    "!Is"
   ]
  },
  {
   "cell_type": "markdown",
   "id": "929f4d19",
   "metadata": {},
   "source": [
    "## 1.2 Shell commands\n",
    "\n",
    "You can run ‘terminal’ commands (called <font color=orange> shell commands <font color=black>) from Jupyter without switching to the terminal. The only thing you need to do is to add a `! `in front of the command."
   ]
  },
  {
   "cell_type": "code",
   "execution_count": 12,
   "id": "20b95f97",
   "metadata": {},
   "outputs": [
    {
     "name": "stdout",
     "output_type": "stream",
     "text": [
      "/Users/xixunlu\r\n"
     ]
    }
   ],
   "source": [
    "!pwd #This will print the current working directory"
   ]
  },
  {
   "cell_type": "code",
   "execution_count": 13,
   "id": "0b61be5f",
   "metadata": {},
   "outputs": [
    {
     "name": "stdout",
     "output_type": "stream",
     "text": [
      "\u001b[34mApplications\u001b[m\u001b[m\r\n",
      "\u001b[34mDesktop\u001b[m\u001b[m\r\n",
      "\u001b[34mDocuments\u001b[m\u001b[m\r\n",
      "\u001b[34mDownloads\u001b[m\u001b[m\r\n",
      "\u001b[34mLibrary\u001b[m\u001b[m\r\n",
      "\u001b[34mMovies\u001b[m\u001b[m\r\n",
      "\u001b[34mMusic\u001b[m\u001b[m\r\n",
      "\u001b[35mOneDrive - National University of Singapore\u001b[m\u001b[m\r\n",
      "\u001b[34mPictures\u001b[m\u001b[m\r\n",
      "\u001b[34mPublic\u001b[m\u001b[m\r\n",
      "\u001b[34mVS_Code\u001b[m\u001b[m\r\n",
      "\u001b[34mZotero\u001b[m\u001b[m\r\n",
      "\u001b[34manaconda3\u001b[m\u001b[m\r\n",
      "using-jupyter_good.ipynb\r\n",
      "using-jupyter_need.ipynb\r\n"
     ]
    }
   ],
   "source": [
    "!ls #This will sho wyo ua list of all the files in your folder"
   ]
  },
  {
   "cell_type": "markdown",
   "id": "f5f69f92",
   "metadata": {},
   "source": [
    "# 2 Install Notebook 7"
   ]
  },
  {
   "cell_type": "markdown",
   "id": "a8f8a6f5",
   "metadata": {},
   "source": [
    "1. Remove the extensions to avoid possible version conflicts."
   ]
  },
  {
   "cell_type": "code",
   "execution_count": 14,
   "id": "5be28d02",
   "metadata": {},
   "outputs": [
    {
     "name": "stdout",
     "output_type": "stream",
     "text": [
      "Collecting package metadata (repodata.json): done\n",
      "Solving environment: failed\n",
      "\n",
      "PackagesNotFoundError: The following packages are missing from the target environment:\n",
      "  - jupyter_contrib_nbextensions\n",
      "\n",
      "\n",
      "\n",
      "Note: you may need to restart the kernel to use updated packages.\n"
     ]
    }
   ],
   "source": [
    "conda remove jupyter_contrib_nbextensions"
   ]
  },
  {
   "cell_type": "markdown",
   "id": "6b565ee2",
   "metadata": {},
   "source": [
    "2. Install Notebook version 7"
   ]
  },
  {
   "cell_type": "code",
   "execution_count": null,
   "id": "45c08672",
   "metadata": {},
   "outputs": [
    {
     "name": "stdout",
     "output_type": "stream",
     "text": [
      "Collecting package metadata (current_repodata.json): / "
     ]
    }
   ],
   "source": [
    "conda install -c conda-forge notebook=7.0.6 -y"
   ]
  },
  {
   "cell_type": "markdown",
   "id": "48178e78",
   "metadata": {},
   "source": [
    "# 3 Shell Magic"
   ]
  },
  {
   "cell_type": "markdown",
   "id": "fcd99012",
   "metadata": {},
   "source": [
    "The following **line magic** tell you statistics on how long the command takes to execute. Line magic works only for a single line."
   ]
  },
  {
   "cell_type": "code",
   "execution_count": 1,
   "id": "0a925d0f",
   "metadata": {},
   "outputs": [
    {
     "name": "stdout",
     "output_type": "stream",
     "text": [
      "12.6 ns ± 0.253 ns per loop (mean ± std. dev. of 7 runs, 100,000,000 loops each)\n"
     ]
    }
   ],
   "source": [
    "%timeit x=10 "
   ]
  },
  {
   "cell_type": "markdown",
   "id": "983d903c",
   "metadata": {},
   "source": [
    "Below is the **cell magic** command. "
   ]
  },
  {
   "cell_type": "code",
   "execution_count": 4,
   "id": "900e9c31",
   "metadata": {},
   "outputs": [
    {
     "name": "stdout",
     "output_type": "stream",
     "text": [
      "22.3 ns ± 3.77 ns per loop (mean ± std. dev. of 7 runs, 10,000,000 loops each)\n"
     ]
    }
   ],
   "source": [
    "%%timeit\n",
    "x=10\n",
    "y=10\n",
    "z=10\n",
    "#cell magic"
   ]
  },
  {
   "cell_type": "markdown",
   "id": "5e2fdc4b",
   "metadata": {},
   "source": [
    "use `%lsmagic` to discover what else is available."
   ]
  },
  {
   "cell_type": "markdown",
   "id": "f4d9224d",
   "metadata": {},
   "source": [
    "# 4 The Kernel\n",
    "All the behind-the-scenes work of running a Jupyter Notebook is done by a sub-routine called the<font color=orange> Kernel <font color=black>.\n",
    "   \n",
    "You can interrupt, restart, or shut down the kernel using the Kernel button in the toolbar. As you start coding with Python, you will need to do these because Jupyter sometimes misbehaves, and you can make blunders that require a reset."
   ]
  },
  {
   "cell_type": "code",
   "execution_count": 5,
   "id": "832708f6",
   "metadata": {},
   "outputs": [
    {
     "ename": "NameError",
     "evalue": "name 'x' is not defined",
     "output_type": "error",
     "traceback": [
      "\u001b[0;31m---------------------------------------------------------------------------\u001b[0m",
      "\u001b[0;31mNameError\u001b[0m                                 Traceback (most recent call last)",
      "Cell \u001b[0;32mIn[5], line 1\u001b[0m\n\u001b[0;32m----> 1\u001b[0m \u001b[38;5;28mprint\u001b[39m (\u001b[43mx\u001b[49m)\n",
      "\u001b[0;31mNameError\u001b[0m: name 'x' is not defined"
     ]
    }
   ],
   "source": [
    "print (x)"
   ]
  },
  {
   "cell_type": "code",
   "execution_count": null,
   "id": "26166695",
   "metadata": {},
   "outputs": [],
   "source": []
  }
 ],
 "metadata": {
  "kernelspec": {
   "display_name": "Python 3 (ipykernel)",
   "language": "python",
   "name": "python3"
  },
  "language_info": {
   "codemirror_mode": {
    "name": "ipython",
    "version": 3
   },
   "file_extension": ".py",
   "mimetype": "text/x-python",
   "name": "python",
   "nbconvert_exporter": "python",
   "pygments_lexer": "ipython3",
   "version": "3.10.9"
  }
 },
 "nbformat": 4,
 "nbformat_minor": 5
}
