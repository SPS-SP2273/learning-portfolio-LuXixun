{
 "cells": [
  {
   "attachments": {},
   "cell_type": "markdown",
   "id": "123456",
   "metadata": {},
   "source": [
    "<div style=\"text-align:left;font-size:2em\"><span style=\"font-weight:bolder;font-size:1.25em\">SP2273 | Learning Portfolio</span><br><br><span style=\"font-weight:bold;color:darkred\">Loops (Nice)</span></div>"
   ]
  },
  {
   "attachments": {},
   "cell_type": "markdown",
   "id": "aeec605e",
   "metadata": {},
   "source": [
    "# 1 There is more to list comprehension"
   ]
  },
  {
   "cell_type": "markdown",
   "id": "303b2057-4962-444f-a7bc-e00e2778c058",
   "metadata": {},
   "source": [
    "**Example 1**:\n",
    "You can have more than one loop in a list comprehension."
   ]
  },
  {
   "cell_type": "code",
   "execution_count": 1,
   "id": "e66e7d22-649e-4b43-addf-70435dc0ba7e",
   "metadata": {},
   "outputs": [
    {
     "data": {
      "text/plain": [
       "[[0, 'A'],\n",
       " [0, 'B'],\n",
       " [0, 'C'],\n",
       " [1, 'A'],\n",
       " [1, 'B'],\n",
       " [1, 'C'],\n",
       " [2, 'A'],\n",
       " [2, 'B'],\n",
       " [2, 'C'],\n",
       " [3, 'A'],\n",
       " [3, 'B'],\n",
       " [3, 'C'],\n",
       " [4, 'A'],\n",
       " [4, 'B'],\n",
       " [4, 'C']]"
      ]
     },
     "execution_count": 1,
     "metadata": {},
     "output_type": "execute_result"
    }
   ],
   "source": [
    "[[a,b] for a in range(5) for b in ['A', 'B', 'C']]"
   ]
  },
  {
   "cell_type": "markdown",
   "id": "6b9ee163-97b0-4432-9d2a-74930605d1ab",
   "metadata": {},
   "source": [
    "**Example 2**:\n",
    "You can incorporate a condition in a list comprehension:"
   ]
  },
  {
   "cell_type": "code",
   "execution_count": 2,
   "id": "2e36e53d-048e-4e24-9442-31c90ea863ec",
   "metadata": {},
   "outputs": [
    {
     "data": {
      "text/plain": [
       "[[1, 'A'], [1, 'B'], [1, 'C'], [3, 'A'], [3, 'B'], [3, 'C']]"
      ]
     },
     "execution_count": 2,
     "metadata": {},
     "output_type": "execute_result"
    }
   ],
   "source": [
    "[[a,b] for a in range(5) for b in ['A', 'B', 'C'] if a % 2 != 0]"
   ]
  },
  {
   "cell_type": "markdown",
   "id": "a080099e-7766-444c-b1ab-59cd2965a8dc",
   "metadata": {},
   "source": [
    "**Example 3**:\n",
    "Use list comprehension to flattern a list"
   ]
  },
  {
   "cell_type": "code",
   "execution_count": 5,
   "id": "468ca726-2b38-45de-bbf1-01b6f1741c30",
   "metadata": {},
   "outputs": [
    {
     "data": {
      "text/plain": [
       "[1, 2, 3, 4, 5, 6, 7]"
      ]
     },
     "execution_count": 5,
     "metadata": {},
     "output_type": "execute_result"
    }
   ],
   "source": [
    "nested_list=[[1, 2, 3], [4, 5, 6, 7]]\n",
    "[y for x in nested_list for y in x]"
   ]
  },
  {
   "cell_type": "markdown",
   "id": "df74118d-964f-41b8-bef7-923aa4cabd08",
   "metadata": {},
   "source": [
    "This is the same as:"
   ]
  },
  {
   "cell_type": "code",
   "execution_count": 4,
   "id": "d1b994b9-18f9-4e77-ae2a-ff63b85801ae",
   "metadata": {},
   "outputs": [],
   "source": [
    "nested_list=[[1, 2, 3], [4, 5, 6, 7]]\n",
    "\n",
    "output =[]\n",
    "for x in nested_list:\n",
    "    for y in x:\n",
    "        output.append(y)"
   ]
  },
  {
   "attachments": {},
   "cell_type": "markdown",
   "id": "94b3af46",
   "metadata": {},
   "source": [
    "# 2 Zipping a dictionary"
   ]
  },
  {
   "cell_type": "markdown",
   "id": "958778c8-8437-4acf-ab1a-adde10c0faff",
   "metadata": {},
   "source": [
    "Combien two lists into a dictionary using `zip()`"
   ]
  },
  {
   "cell_type": "code",
   "execution_count": 6,
   "id": "9e33641a-d5ea-4b63-a9af-6c71889d9182",
   "metadata": {},
   "outputs": [
    {
     "data": {
      "text/plain": [
       "{'Natasha Romanoff': 'Black Widow',\n",
       " 'Tony Stark': 'Iron Man',\n",
       " 'Stephen Strange': 'Doctor Strange'}"
      ]
     },
     "execution_count": 6,
     "metadata": {},
     "output_type": "execute_result"
    }
   ],
   "source": [
    "super_names=[\"Black Widow\", \"Iron Man\", \"Doctor Strange\"]\n",
    "real_names=[\"Natasha Romanoff\", \"Tony Stark\", \"Stephen Strange\"]\n",
    "\n",
    "dict(zip(real_names, super_names))"
   ]
  },
  {
   "cell_type": "markdown",
   "id": "fa114d61-5471-44d6-b2c4-938313f41967",
   "metadata": {},
   "source": [
    "`dict()` is used to recast `zip()` into a dictionary."
   ]
  },
  {
   "attachments": {},
   "cell_type": "markdown",
   "id": "d94c1002",
   "metadata": {},
   "source": [
    "# 3 for and while has an else"
   ]
  },
  {
   "cell_type": "markdown",
   "id": "ea356bc9-5092-448b-92e9-10fd280f880a",
   "metadata": {},
   "source": [
    "* The `for` and `while` loops in Python come with an optional `else` statement\n",
    "* The code in the `else` block is executed **only if the loops are completed**.\n",
    "* The `else` code-block will not run if you exit the loop prematurely (e.g. by using break)."
   ]
  },
  {
   "cell_type": "code",
   "execution_count": 16,
   "id": "08cb14fc-b9f7-4f04-afc7-c0cc28fea470",
   "metadata": {},
   "outputs": [
    {
     "name": "stdout",
     "output_type": "stream",
     "text": [
      "No negative numbers in the list\n",
      "Negative numbers in the list\n"
     ]
    }
   ],
   "source": [
    "numbers=[0, 1, 2, 3, 4, 5, 6, 7, 8, 9]\n",
    "\n",
    "for i in numbers:\n",
    "    if i < 0: break\n",
    "else:\n",
    "    print('No negative numbers in the list')"
   ]
  },
  {
   "cell_type": "code",
   "execution_count": 17,
   "id": "e4fcfd90-a5a5-4c76-bb96-3837c002337e",
   "metadata": {},
   "outputs": [
    {
     "name": "stdout",
     "output_type": "stream",
     "text": [
      "Negative numbers in the list\n"
     ]
    }
   ],
   "source": [
    "numbers=[-1, 0, 1, 2, 3, 4, 5, 6, 7, 8, 9]\n",
    "\n",
    "for i in numbers:\n",
    "    if i < 0:\n",
    "        print('Negative numbers in the list')\n",
    "        break\n",
    "else:\n",
    "    print('No negative numbers in the list')"
   ]
  },
  {
   "attachments": {},
   "cell_type": "markdown",
   "id": "04437db1",
   "metadata": {},
   "source": [
    "# Exercises"
   ]
  },
  {
   "cell_type": "markdown",
   "id": "884ab9f2-8105-4dbe-8fa9-0eaf9a24b931",
   "metadata": {},
   "source": [
    "**Exercise 1**:\n",
    "We want a snippet of code based on a `for` loop to remove fruits starting with the letter ‘p’ from the following list."
   ]
  },
  {
   "cell_type": "code",
   "execution_count": 19,
   "id": "c9588068-a547-4885-ad55-062cb8f588c8",
   "metadata": {},
   "outputs": [],
   "source": [
    "fruits = [\"apple\", \"banana\", \"jackfruit\",\n",
    "          \"pineapple\", \"papaya\", \"watermelons\",\n",
    "          \"peaches\", \"durian\",  \"mangoes\",\n",
    "          \"strawberries\", \"passionfruit\"\n",
    "          ]"
   ]
  },
  {
   "cell_type": "markdown",
   "id": "3415a4b9-ed5f-453e-b123-16a04b5ef013",
   "metadata": {},
   "source": [
    "The following has been suggested as a solution. However, it does not work!"
   ]
  },
  {
   "cell_type": "code",
   "execution_count": 20,
   "id": "eb6ca235-9d3a-4e7d-8fb4-54bb1832ea74",
   "metadata": {},
   "outputs": [],
   "source": [
    "for fruit in fruits:\n",
    "    if fruit[0] == \"p\":\n",
    "        fruits.remove(fruit)"
   ]
  },
  {
   "cell_type": "markdown",
   "id": "3da871dd-ff2b-4461-a047-b2895b1475a3",
   "metadata": {},
   "source": [
    "Identify, understand and fix the error."
   ]
  },
  {
   "cell_type": "markdown",
   "id": "437ad9ff-d054-4886-9b5f-124039cf6a3c",
   "metadata": {},
   "source": [
    "**Solution**:\n",
    "<br>Although the above code is elegant it has a serious flaw which you can see by using pythontutor.com to [visualise](https://pythontutor.com/visualize.html#mode=display) the flow of the script.\n",
    "\n",
    "A safer solution is the following:"
   ]
  },
  {
   "cell_type": "code",
   "execution_count": 24,
   "id": "200ae285-5209-4994-9ba7-4acbd41d1125",
   "metadata": {},
   "outputs": [],
   "source": [
    "fruits = [\"apple\", \"banana\", \"jackfruit\",\n",
    "          \"pineapple\", \"papaya\", \"watermelons\",\n",
    "          \"peaches\", \"durian\",  \"mangoes\",\n",
    "          \"strawberries\", \"passionfruit\"\n",
    "          ]\n",
    "\n",
    "copy_of_fruits = fruits.copy()\n",
    "\n",
    "# Note that we are looping(iterating) over the copy\n",
    "for fruit in copy_of_fruits:\n",
    "    if fruit[0] == \"p\":\n",
    "        fruits.remove(fruit)"
   ]
  },
  {
   "cell_type": "markdown",
   "id": "4ce1127d-0306-4878-a5ef-8b03c8f6313c",
   "metadata": {},
   "source": [
    "or:"
   ]
  },
  {
   "cell_type": "code",
   "execution_count": 23,
   "id": "246bbfd0-4cbf-422b-885a-7ae92d345b4e",
   "metadata": {},
   "outputs": [
    {
     "data": {
      "text/plain": [
       "['apple',\n",
       " 'banana',\n",
       " 'jackfruit',\n",
       " 'watermelons',\n",
       " 'durian',\n",
       " 'mangoes',\n",
       " 'strawberries']"
      ]
     },
     "execution_count": 23,
     "metadata": {},
     "output_type": "execute_result"
    }
   ],
   "source": [
    "fruits = [\"apple\", \"banana\", \"jackfruit\",\n",
    "          \"pineapple\", \"papaya\", \"watermelons\",\n",
    "          \"peaches\", \"durian\",  \"mangoes\",\n",
    "          \"strawberries\", \"passionfruit\"\n",
    "          ]\n",
    "\n",
    "[fruit for fruit in fruits if fruit[0] != \"p\"]"
   ]
  },
  {
   "cell_type": "markdown",
   "id": "cb88e38e-fc9b-476e-819f-fb9d309c7a4a",
   "metadata": {},
   "source": [
    "**Exercise 2**:\n",
    "<br> The following code is an attempt t create a list [n, n^2, n^3] for several values of n. We can specify the maxium value of n by changing `maximm_n`"
   ]
  },
  {
   "cell_type": "code",
   "execution_count": 25,
   "id": "a315e27c-b570-45bc-af62-bd6107452fe8",
   "metadata": {},
   "outputs": [],
   "source": [
    "maximum_n = 5\n",
    "result = [[]] * maximum_n\n",
    "\n",
    "for n in range(1, maximum_n + 1):\n",
    "    result[n - 1].append(n)\n",
    "    result[n - 1].append(n**2)\n",
    "    result[n - 1].append(n**3)"
   ]
  },
  {
   "cell_type": "markdown",
   "id": "72205abf-3b3a-44e7-8c0a-0804d42c9fe2",
   "metadata": {},
   "source": [
    "For `maximum_n = 5` the content of result should be as shown below."
   ]
  },
  {
   "cell_type": "code",
   "execution_count": null,
   "id": "af5ce5d8-7824-4724-9547-896480aacdad",
   "metadata": {},
   "outputs": [],
   "source": [
    "[[1, 1, 1],\n",
    " [2, 4, 8],\n",
    " [3, 9, 27],\n",
    " [4, 16, 64],\n",
    " [5, 25, 125]]"
   ]
  },
  {
   "cell_type": "markdown",
   "id": "501584fa-1c54-4e30-a85e-e5720ff07837",
   "metadata": {},
   "source": [
    "However, the code does not produce this expected result!\n",
    "Identify, understand, explain and fix the bug."
   ]
  },
  {
   "cell_type": "markdown",
   "id": "423aa97a-f374-4e8d-a719-76b87986abb7",
   "metadata": {},
   "source": [
    "**Solution**:\n",
    "<br>`[[]] * 5` creates 5 references to the **same** empty list `[]`. \n",
    "<br>Running a list comprehension will create 5 different empty lists []"
   ]
  },
  {
   "cell_type": "code",
   "execution_count": 26,
   "id": "bafd488d-8d11-4b01-a3b4-fd31497ce109",
   "metadata": {},
   "outputs": [
    {
     "name": "stdout",
     "output_type": "stream",
     "text": [
      "0 4587484864\n",
      "1 4587484864\n",
      "2 4587484864\n",
      "3 4587484864\n",
      "4 4587484864\n"
     ]
    }
   ],
   "source": [
    "maximum_n = 5\n",
    "\n",
    "result = [[]] * maximum_n\n",
    "\n",
    "for count, element in enumerate(result):\n",
    "    print(count, id(element))"
   ]
  },
  {
   "cell_type": "code",
   "execution_count": 35,
   "id": "53e95338-12be-40a7-8117-2d596e92a3e1",
   "metadata": {},
   "outputs": [
    {
     "name": "stdout",
     "output_type": "stream",
     "text": [
      "0 4586344256\n",
      "1 4599162432\n",
      "2 4599159872\n",
      "3 4599415680\n",
      "4 4599316288\n"
     ]
    }
   ],
   "source": [
    "maximum_n = 5\n",
    "\n",
    "result = [[] for number in range(maximum_n)]\n",
    "\n",
    "for count, element in enumerate(result):\n",
    "    print(count, id(element))"
   ]
  },
  {
   "cell_type": "markdown",
   "id": "5487e49e-9c9e-4c27-9b06-e60f3a1a1d2c",
   "metadata": {},
   "source": [
    "**A Solution**:"
   ]
  },
  {
   "cell_type": "code",
   "execution_count": 40,
   "id": "b143e5d6-d984-4a8f-bfd5-b002e767fce2",
   "metadata": {},
   "outputs": [],
   "source": [
    "maximum_n = 5\n",
    "# result = [[]] * maximum_n\n",
    "result = [[] for _ in range(maximum_n)]\n",
    "\n",
    "for n in range(1, maximum_n + 1):\n",
    "    result[n - 1].append(n)\n",
    "    result[n - 1].append(n**2)\n",
    "    result[n - 1].append(n**3)"
   ]
  },
  {
   "cell_type": "markdown",
   "id": "f1dd2fe0-8fa8-4ea4-b883-895b1bac8dda",
   "metadata": {},
   "source": [
    "**Exercise 3**:\n",
    "<br>Use `%%timeit` to compare the execution speeds of the following:"
   ]
  },
  {
   "cell_type": "code",
   "execution_count": 41,
   "id": "9b2761ea-0fc3-4905-939b-29edb4701dac",
   "metadata": {},
   "outputs": [],
   "source": [
    "import timeit"
   ]
  },
  {
   "cell_type": "code",
   "execution_count": 109,
   "id": "e360a8a4-c6ce-4ca2-adc2-c590a798b623",
   "metadata": {},
   "outputs": [
    {
     "name": "stdout",
     "output_type": "stream",
     "text": [
      "0\n",
      "1\n",
      "4\n",
      "9\n",
      "16\n",
      "25\n",
      "0.00818150001578033\n"
     ]
    }
   ],
   "source": [
    "# Creating a list of squares with for loop\n",
    "for i in range(6):\n",
    "    n = i*i\n",
    "    print(n)\n",
    "print(timeit.timeit())"
   ]
  },
  {
   "cell_type": "code",
   "execution_count": 110,
   "id": "74e9a2d7-fc22-4cab-b7e1-e02a08ef8eea",
   "metadata": {},
   "outputs": [
    {
     "name": "stdout",
     "output_type": "stream",
     "text": [
      "1\n",
      "4\n",
      "9\n",
      "16\n",
      "25\n",
      "0.011403416050598025\n"
     ]
    }
   ],
   "source": [
    "# Creating a list of squares with while loop\n",
    "counter = 1\n",
    "while counter <= 5:\n",
    "    res = counter**2\n",
    "    counter += 1\n",
    "    print(res)\n",
    "print(timeit.timeit())"
   ]
  },
  {
   "cell_type": "code",
   "execution_count": 111,
   "id": "0a2687cf-2db3-41f4-80ce-adc9caf0c51b",
   "metadata": {},
   "outputs": [
    {
     "name": "stdout",
     "output_type": "stream",
     "text": [
      "0.011899166973307729\n"
     ]
    }
   ],
   "source": [
    "# Creating a list of squares with a list comprehension loop\n",
    "[number**2 for number in range(6)]\n",
    "print(timeit.timeit())"
   ]
  },
  {
   "cell_type": "code",
   "execution_count": 112,
   "id": "ce4b77b0-b1fd-4ffc-8bd8-20c3961491b7",
   "metadata": {},
   "outputs": [
    {
     "name": "stdout",
     "output_type": "stream",
     "text": [
      "[[0], [1], [4], [9], [16], [25]]\n",
      "0.01129462500102818\n"
     ]
    }
   ],
   "source": [
    "# Creating a list of squares using list append()\n",
    "square = [[] for i in range(6)]\n",
    "for i in range(6):\n",
    "    square[i].append(i**2)\n",
    "print(square)\n",
    "print(timeit.timeit())"
   ]
  },
  {
   "cell_type": "code",
   "execution_count": 113,
   "id": "c430f66d-220f-4fef-9fca-c7282d0777c0",
   "metadata": {},
   "outputs": [
    {
     "name": "stdout",
     "output_type": "stream",
     "text": [
      "[[0], [1], [4], [9], [16], [25]]\n",
      "0.012225833022966981\n"
     ]
    }
   ],
   "source": [
    "# Creating a list of squares using list +=\n",
    "square = [[] for i in range(6)]\n",
    "for i in range(6):\n",
    "    square[i] += [(i**2)]\n",
    "print(square)\n",
    "print(timeit.timeit())"
   ]
  },
  {
   "cell_type": "code",
   "execution_count": 114,
   "id": "e48b63f1-fd9b-4a00-9b6a-f5ff5de3b9a2",
   "metadata": {},
   "outputs": [
    {
     "name": "stdout",
     "output_type": "stream",
     "text": [
      "[array([0.]), array([1.]), array([4.]), array([9.]), array([16.]), array([25.])]\n",
      "0.011195624945685267\n"
     ]
    }
   ],
   "source": [
    "# Creating a list of squares usign append() of Numpy\n",
    "import numpy as np\n",
    "square = [[] for i in range(6)]\n",
    "for i in range(6):\n",
    "    square[i] = np.append([],[(i**2)])\n",
    "print(square)\n",
    "print(timeit.timeit())"
   ]
  }
 ],
 "metadata": {
  "kernelspec": {
   "display_name": "Python 3 (ipykernel)",
   "language": "python",
   "name": "python3"
  },
  "language_info": {
   "codemirror_mode": {
    "name": "ipython",
    "version": 3
   },
   "file_extension": ".py",
   "mimetype": "text/x-python",
   "name": "python",
   "nbconvert_exporter": "python",
   "pygments_lexer": "ipython3",
   "version": "3.10.9"
  },
  "toc": {
   "base_numbering": 1,
   "nav_menu": {},
   "number_sections": true,
   "sideBar": true,
   "skip_h1_title": false,
   "title_cell": "Table of Contents",
   "title_sidebar": "Contents",
   "toc_cell": false,
   "toc_position": {},
   "toc_section_display": true,
   "toc_window_display": false
  },
  "vscode": {
   "interpreter": {
    "hash": "31f2aee4e71d21fbe5cf8b01ff0e069b9275f58929596ceb00d14d90e3e16cd6"
   }
  }
 },
 "nbformat": 4,
 "nbformat_minor": 5
}
