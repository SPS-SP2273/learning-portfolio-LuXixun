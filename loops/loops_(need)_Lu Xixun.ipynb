{
 "cells": [
  {
   "attachments": {},
   "cell_type": "markdown",
   "id": "123456",
   "metadata": {},
   "source": [
    "<div style=\"text-align:left;font-size:2em\"><span style=\"font-weight:bolder;font-size:1.25em\">SP2273 | Learning Portfolio</span><br><br><span style=\"font-weight:bold;color:darkred\">Loops (Need)</span></div>"
   ]
  },
  {
   "attachments": {},
   "cell_type": "markdown",
   "id": "f8e7471c",
   "metadata": {},
   "source": [
    "# 1 The for iterator"
   ]
  },
  {
   "cell_type": "markdown",
   "id": "2565503a-3b8a-4a7d-ae69-c562f97916a8",
   "metadata": {},
   "source": [
    "Let’s say I want to print a message corresponding to every superhero in the following list."
   ]
  },
  {
   "cell_type": "code",
   "execution_count": 1,
   "id": "76c04c28-dea3-4c80-8efa-e05c043085ec",
   "metadata": {},
   "outputs": [],
   "source": [
    "real_names = [\"Natasha Romanoff\", \"Tony Stark\", \"Stephen Strange\"]"
   ]
  },
  {
   "cell_type": "markdown",
   "id": "82012248-ee17-4888-9ed6-ed4c581ba882",
   "metadata": {},
   "source": [
    "Here is one (poor) way of doing this."
   ]
  },
  {
   "cell_type": "code",
   "execution_count": 2,
   "id": "f0228757-1d3b-4046-90f0-5f13299b7779",
   "metadata": {},
   "outputs": [
    {
     "name": "stdout",
     "output_type": "stream",
     "text": [
      "Natasha Romanoff is a Marvel superhero!\n",
      "Tony Stark is a Marvel superhero!\n",
      "Stephen Strange is a Marvel superhero!\n"
     ]
    }
   ],
   "source": [
    "name=real_names[0]\n",
    "print(f\"{name} is a Marvel superhero!\")\n",
    "\n",
    "name=real_names[1]\n",
    "print(f\"{name} is a Marvel superhero!\")\n",
    "\n",
    "name=real_names[2]\n",
    "print(f\"{name} is a Marvel superhero!\")"
   ]
  },
  {
   "cell_type": "markdown",
   "id": "d54baf9c-52e4-44df-85f6-df8352d22846",
   "metadata": {},
   "source": [
    "This way of programming is not very good because:\n",
    "\n",
    "1. it does not scale very well (imagine if you have a 100 names!),\n",
    "2. it is cumbersome to make changes, you have to do it three times.\n",
    "3. it is highly error prone, since you need to type something new (even if you are copying and pasting most of it).\n"
   ]
  },
  {
   "attachments": {},
   "cell_type": "markdown",
   "id": "f528d983",
   "metadata": {},
   "source": [
    "## 1.1 for with a list"
   ]
  },
  {
   "cell_type": "markdown",
   "id": "e7a7dbcd-3099-4173-8757-5cdc46ba25e5",
   "metadata": {},
   "source": [
    "The same result can be achieved using a `for` loop:"
   ]
  },
  {
   "cell_type": "code",
   "execution_count": 3,
   "id": "c00fd0ca-55f7-47f5-b868-1ea85816ff57",
   "metadata": {},
   "outputs": [
    {
     "name": "stdout",
     "output_type": "stream",
     "text": [
      "Natasha Romanoff is a Marvel superhero!\n",
      "Tony Stark is a Marvel superhero!\n",
      "Stephen Strange is a Marvel superhero!\n"
     ]
    }
   ],
   "source": [
    "for name in real_names:\n",
    "    print(f\"{name} is a Marvel superhero!\")"
   ]
  },
  {
   "cell_type": "code",
   "execution_count": 4,
   "id": "513c772e-48fc-431d-8172-9e801b18a019",
   "metadata": {},
   "outputs": [
    {
     "name": "stdout",
     "output_type": "stream",
     "text": [
      "Natasha Romanoff is a Marvel superhero!\n",
      "Tony Stark is a Marvel superhero!\n",
      "Stephen Strange is a Marvel superhero!\n"
     ]
    }
   ],
   "source": [
    "for x in real_names:\n",
    "    print(f\"{x} is a Marvel superhero!\")"
   ]
  },
  {
   "attachments": {},
   "cell_type": "markdown",
   "id": "d8c122bd",
   "metadata": {},
   "source": [
    "## 1.2 for with enumerate"
   ]
  },
  {
   "cell_type": "code",
   "execution_count": 7,
   "id": "46e8a724-1e84-4a2c-95b2-45f0da17f4c6",
   "metadata": {},
   "outputs": [],
   "source": [
    "super_names = [\"Black Widow\", \"Iron Man\", \"Doctor Strange\"]\n",
    "real_names = [\"Natasha Romanoff\", \"Tony Stark\", \"Stephen Strange\"]"
   ]
  },
  {
   "cell_type": "markdown",
   "id": "1a744c4e-049a-4b37-a3f7-978cca342ccb",
   "metadata": {},
   "source": [
    "Since the `for` loop only accepts one list, we need to do something else to access the data in both lists. One option is to use `enumerate()`. "
   ]
  },
  {
   "cell_type": "code",
   "execution_count": 6,
   "id": "5adc994f-2b25-4bbe-995e-e07555a70bee",
   "metadata": {},
   "outputs": [
    {
     "name": "stdout",
     "output_type": "stream",
     "text": [
      "0: Natasha Romanoff is a Marvel superhero!\n",
      "1: Tony Stark is a Marvel superhero!\n",
      "2: Stephen Strange is a Marvel superhero!\n"
     ]
    }
   ],
   "source": [
    "for count, name in enumerate(real_names):\n",
    "    print(f'{count}: {name} is a Marvel superhero!')"
   ]
  },
  {
   "cell_type": "markdown",
   "id": "d4cf946c-80e8-424d-b5c2-5bc0f53cef3d",
   "metadata": {},
   "source": [
    "use the count given by `enumerate()` to index the other list:"
   ]
  },
  {
   "cell_type": "code",
   "execution_count": 8,
   "id": "91115dd0-1c80-4fca-9b86-f7818723bcae",
   "metadata": {},
   "outputs": [
    {
     "name": "stdout",
     "output_type": "stream",
     "text": [
      "Natasha Romanoff is Black Widow!\n",
      "Tony Stark is Iron Man!\n",
      "Stephen Strange is Doctor Strange!\n"
     ]
    }
   ],
   "source": [
    "for index, name in enumerate(real_names):\n",
    "    superhero_name = super_names[index]\n",
    "    print(f'{name} is {superhero_name}!')"
   ]
  },
  {
   "cell_type": "markdown",
   "id": "2d75c440-6525-4d1f-8237-03684d6483c4",
   "metadata": {},
   "source": [
    "**Remarks**:\n",
    "1. Change the variable name used with `enumerate()` to (`count` and `index`) to match their logical use. This makes it easy to imediately see what you are doing.\n",
    "2. Although by default, `enumerate()` starts counting from 0, we can easily change it to start at another value, say 100:"
   ]
  },
  {
   "cell_type": "code",
   "execution_count": 9,
   "id": "39be2287-3c71-49db-86bb-ba6930e8e1ac",
   "metadata": {},
   "outputs": [
    {
     "name": "stdout",
     "output_type": "stream",
     "text": [
      "100: Natasha Romanoff is a Marvel superhero!\n",
      "101: Tony Stark is a Marvel superhero!\n",
      "102: Stephen Strange is a Marvel superhero!\n"
     ]
    }
   ],
   "source": [
    "for count, name in enumerate(real_names, 100):\n",
    "    print(f'{count}: {name} is a Marvel superhero!')"
   ]
  },
  {
   "attachments": {},
   "cell_type": "markdown",
   "id": "2d95ed74",
   "metadata": {},
   "source": [
    "## 1.3 for with range"
   ]
  },
  {
   "cell_type": "markdown",
   "id": "0f57527d-1829-4e21-aefe-53295b9e8ae2",
   "metadata": {},
   "source": [
    "**Example 1**:\n",
    "<br> We can use `range()` to get the `for` loop to run a given number of loops (5 in this example)."
   ]
  },
  {
   "cell_type": "code",
   "execution_count": 10,
   "id": "a9c13a95-35fe-4ed1-b87c-9ec4525faa2d",
   "metadata": {},
   "outputs": [
    {
     "name": "stdout",
     "output_type": "stream",
     "text": [
      "0\n",
      "1\n",
      "2\n",
      "3\n",
      "4\n"
     ]
    }
   ],
   "source": [
    "for i in range(5):\n",
    "    print(i)"
   ]
  },
  {
   "cell_type": "markdown",
   "id": "3d26574a-e9dc-417e-a67f-c563f35b2fe9",
   "metadata": {},
   "source": [
    "**Example 2**:\n",
    "<br>We can tailor the starting and ending values:"
   ]
  },
  {
   "cell_type": "code",
   "execution_count": 11,
   "id": "734de2d1-fe24-4b5d-be33-f2d661886fb6",
   "metadata": {},
   "outputs": [
    {
     "name": "stdout",
     "output_type": "stream",
     "text": [
      "5\n",
      "6\n",
      "7\n",
      "8\n",
      "9\n"
     ]
    }
   ],
   "source": [
    "for i in range(5, 10):\n",
    "    print(i)"
   ]
  },
  {
   "cell_type": "markdown",
   "id": "20fe1f8e-85ee-4a32-b875-c93eb847a1da",
   "metadata": {},
   "source": [
    "**Example 3**:\n",
    "<br>We can even adjust the step size."
   ]
  },
  {
   "cell_type": "code",
   "execution_count": 12,
   "id": "b87e1471-5ca3-4bf8-9615-abeae9dce4fa",
   "metadata": {},
   "outputs": [
    {
     "name": "stdout",
     "output_type": "stream",
     "text": [
      "1\n",
      "4\n",
      "7\n"
     ]
    }
   ],
   "source": [
    "for i in range(1, 10, 3):\n",
    "    print(i)"
   ]
  },
  {
   "cell_type": "markdown",
   "id": "8069418b-8426-4e97-8725-43dad6e45b7a",
   "metadata": {},
   "source": [
    "**Remarks**:\n",
    "* Functions like `range()` and `enumerate()` only work with looping structures.\n",
    "* range() always ends excluding the ending number."
   ]
  },
  {
   "cell_type": "code",
   "execution_count": 13,
   "id": "9687604c-1067-4a32-a12c-6362ae5a0d2e",
   "metadata": {},
   "outputs": [
    {
     "name": "stdout",
     "output_type": "stream",
     "text": [
      "Natasha Romanoff is Marvel's Black Widow!\n",
      "Tony Stark is Marvel's Iron Man!\n",
      "Stephen Strange is Marvel's Doctor Strange!\n"
     ]
    }
   ],
   "source": [
    "for i in range(len(real_names)):\n",
    "    real_name = real_names[i]\n",
    "    super_name = super_names[i]        \n",
    "    print(f\"{real_name} is Marvel's {super_name}!\")"
   ]
  },
  {
   "cell_type": "code",
   "execution_count": null,
   "id": "c0e745a4-0c59-4e3d-8040-59907c89d98e",
   "metadata": {},
   "outputs": [],
   "source": []
  },
  {
   "attachments": {},
   "cell_type": "markdown",
   "id": "99dfb5ac",
   "metadata": {},
   "source": [
    "# 2 while"
   ]
  }
 ],
 "metadata": {
  "kernelspec": {
   "display_name": "Python 3 (ipykernel)",
   "language": "python",
   "name": "python3"
  },
  "language_info": {
   "codemirror_mode": {
    "name": "ipython",
    "version": 3
   },
   "file_extension": ".py",
   "mimetype": "text/x-python",
   "name": "python",
   "nbconvert_exporter": "python",
   "pygments_lexer": "ipython3",
   "version": "3.10.9"
  },
  "toc": {
   "base_numbering": 1,
   "nav_menu": {},
   "number_sections": true,
   "sideBar": true,
   "skip_h1_title": false,
   "title_cell": "Table of Contents",
   "title_sidebar": "Contents",
   "toc_cell": false,
   "toc_position": {},
   "toc_section_display": true,
   "toc_window_display": false
  },
  "vscode": {
   "interpreter": {
    "hash": "31f2aee4e71d21fbe5cf8b01ff0e069b9275f58929596ceb00d14d90e3e16cd6"
   }
  }
 },
 "nbformat": 4,
 "nbformat_minor": 5
}
