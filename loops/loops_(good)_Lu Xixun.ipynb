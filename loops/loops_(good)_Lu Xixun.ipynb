{
 "cells": [
  {
   "attachments": {},
   "cell_type": "markdown",
   "id": "123456",
   "metadata": {},
   "source": [
    "<div style=\"text-align:left;font-size:2em\"><span style=\"font-weight:bolder;font-size:1.25em\">SP2273 | Learning Portfolio</span><br><br><span style=\"font-weight:bold;color:darkred\">Loops (Good)</span></div>"
   ]
  },
  {
   "attachments": {},
   "cell_type": "markdown",
   "id": "e385a2a8",
   "metadata": {},
   "source": [
    "# 1 Interrupting the flow"
   ]
  },
  {
   "cell_type": "markdown",
   "id": "e39e9748-de56-4442-bb3f-f71c3f0b39b9",
   "metadata": {},
   "source": [
    "use `break` and `continue` to interrupt the flow of the loop."
   ]
  },
  {
   "cell_type": "markdown",
   "id": "ea7aa236-ea94-4643-9ca8-c74040e8ed99",
   "metadata": {},
   "source": [
    "`break` command:"
   ]
  },
  {
   "cell_type": "markdown",
   "id": "0e01d781-d8e0-4c7f-bfea-971037159915",
   "metadata": {},
   "source": [
    "**Example 1**: \n",
    "<br> We use `break` to break-out of the loop and terminate it.\n",
    "We typically use it with `if` so that we break out if a certain condition is met.\n",
    "This will also work with a `while` loop."
   ]
  },
  {
   "cell_type": "code",
   "execution_count": 5,
   "id": "a2cbb92b-37e5-41e3-adbb-3c6d15e28a63",
   "metadata": {},
   "outputs": [
    {
     "name": "stdout",
     "output_type": "stream",
     "text": [
      "0 1\n",
      "1 10\n",
      "2 100\n",
      "3 1000\n"
     ]
    }
   ],
   "source": [
    " for power in range(5):\n",
    "    number = 10**power\n",
    "    if number > 5000:\n",
    "        break\n",
    "    print(power, number)\n",
    "     "
   ]
  },
  {
   "cell_type": "markdown",
   "id": "4c2e7211-0c8b-4e20-89e1-39ada8976135",
   "metadata": {},
   "source": [
    "`continue` command:"
   ]
  },
  {
   "cell_type": "markdown",
   "id": "15af2508-babc-49d8-8d4e-80e3fde16504",
   "metadata": {},
   "source": [
    "**Example 2**:\n",
    "<br>Sometimes we want to skip an iteration and just move on to the next. `continue` allows us to do this by skipping everything after it.\n",
    "Notice how there is no printout for power = 3.\n",
    "`continue` too is typically used with if.\n",
    "This will also work with a `while` loop."
   ]
  },
  {
   "cell_type": "code",
   "execution_count": 2,
   "id": "3350c5ae-2abb-4425-bafe-e47b6ba0a99e",
   "metadata": {},
   "outputs": [
    {
     "name": "stdout",
     "output_type": "stream",
     "text": [
      "0 1\n",
      "1 10\n",
      "2 100\n",
      "4 10000\n"
     ]
    }
   ],
   "source": [
    "for power in range(5):\n",
    "    if power == 3:\n",
    "        continue        # Don't proceed further\n",
    "                        # IN THE CURRENT LOOP\n",
    "                        # if i == 3\n",
    "    number = 10**power\n",
    "    print(power, number)"
   ]
  },
  {
   "cell_type": "markdown",
   "id": "6d3e8f91-f6ff-4ebb-871b-526a787990a9",
   "metadata": {},
   "source": [
    "**Example 3**:"
   ]
  },
  {
   "cell_type": "code",
   "execution_count": 8,
   "id": "81b2af9f-b9e8-4c4d-b28f-56628ecf4c60",
   "metadata": {},
   "outputs": [
    {
     "name": "stdout",
     "output_type": "stream",
     "text": [
      "1\n",
      "3\n",
      "5\n",
      "7\n",
      "9\n"
     ]
    }
   ],
   "source": [
    "for x in range(10):\n",
    "    # Don't proceed if the remainder is zero\n",
    "    # I.e. if the number is even\n",
    "    if x % 2 == 0:\n",
    "        continue\n",
    "    print(x)"
   ]
  },
  {
   "cell_type": "markdown",
   "id": "78c6d835-f2f8-46ef-a767-b2371b0c997d",
   "metadata": {},
   "source": [
    "**Example 4**:\n",
    "<br>Let me redo the `while` example from the past chapter using `break`.\n",
    "Notice that I setup the loop to run forever1 and use `break` to stop it."
   ]
  },
  {
   "cell_type": "code",
   "execution_count": 4,
   "id": "3cee966c-d7df-4372-adfd-8339171f0528",
   "metadata": {},
   "outputs": [
    {
     "name": "stdout",
     "output_type": "stream",
     "text": [
      "0\n",
      "1\n",
      "2\n",
      "3\n",
      "4\n"
     ]
    }
   ],
   "source": [
    "number=0\n",
    "\n",
    "while True:\n",
    "    print(number)\n",
    "    number += 1\n",
    "    if number > 4: break"
   ]
  },
  {
   "attachments": {},
   "cell_type": "markdown",
   "id": "295345c9",
   "metadata": {},
   "source": [
    "# 2 List comprehension!"
   ]
  },
  {
   "cell_type": "markdown",
   "id": "31e51e89-34fb-488a-97a8-49dbc5fa5e97",
   "metadata": {},
   "source": [
    "Use list comprehension to create new lists from other lists."
   ]
  },
  {
   "attachments": {},
   "cell_type": "markdown",
   "id": "e3db36e0",
   "metadata": {},
   "source": [
    "## 2.1 Basic syntax"
   ]
  },
  {
   "cell_type": "code",
   "execution_count": null,
   "id": "b9ed6a1d-8ae4-4532-b9d5-edfb882c5a4a",
   "metadata": {},
   "outputs": [],
   "source": [
    "[number for number in range(5)]\n",
    "# [{output} for {orginal list} in range()]"
   ]
  },
  {
   "cell_type": "code",
   "execution_count": 6,
   "id": "48af30bb-0c76-4be4-945f-365dc2183001",
   "metadata": {},
   "outputs": [
    {
     "data": {
      "text/plain": [
       "[0, 2, 4, 6, 8]"
      ]
     },
     "execution_count": 6,
     "metadata": {},
     "output_type": "execute_result"
    }
   ],
   "source": [
    "[number for number in range(10) if number % 2 ==0]\n"
   ]
  },
  {
   "cell_type": "code",
   "execution_count": 7,
   "id": "e82873aa-7fc3-4cfa-b568-3773a57054da",
   "metadata": {},
   "outputs": [
    {
     "data": {
      "text/plain": [
       "[0, 1, 4, 9, 16]"
      ]
     },
     "execution_count": 7,
     "metadata": {},
     "output_type": "execute_result"
    }
   ],
   "source": [
    "[number**2 for number in range(5)] # a list of squares"
   ]
  },
  {
   "attachments": {},
   "cell_type": "markdown",
   "id": "f20f3a25",
   "metadata": {},
   "source": [
    "## 2.2 List comprehension with conditions"
   ]
  },
  {
   "cell_type": "markdown",
   "id": "fb0b3c3b-51a8-4056-bcbd-8c2976e4dece",
   "metadata": {},
   "source": [
    "Place the conditions after `if`:"
   ]
  },
  {
   "cell_type": "code",
   "execution_count": 9,
   "id": "e51b6063-d56b-4567-8488-b49c9cb0757a",
   "metadata": {},
   "outputs": [
    {
     "data": {
      "text/plain": [
       "[0, 2, 4, 6, 8]"
      ]
     },
     "execution_count": 9,
     "metadata": {},
     "output_type": "execute_result"
    }
   ],
   "source": [
    "[number for number in range(10) if number % 2 ==0]"
   ]
  },
  {
   "attachments": {},
   "cell_type": "markdown",
   "id": "cc25fded",
   "metadata": {},
   "source": [
    "# 3 Other useful stuff"
   ]
  },
  {
   "attachments": {},
   "cell_type": "markdown",
   "id": "0b5ab0f7",
   "metadata": {},
   "source": [
    "## 3.1 for with unpacking"
   ]
  },
  {
   "cell_type": "code",
   "execution_count": 10,
   "id": "366d14a1-fa22-43cb-b237-3927ae8986f3",
   "metadata": {},
   "outputs": [
    {
     "name": "stdout",
     "output_type": "stream",
     "text": [
      "x = 1, y = 2, z = 3\n"
     ]
    }
   ],
   "source": [
    "x, y, z=[1, 2, 3]\n",
    "print(f'x = {x}, y = {y}, z = {z}')"
   ]
  },
  {
   "cell_type": "markdown",
   "id": "93b1ad95-9cb2-4c8a-ad86-aef5b317fab9",
   "metadata": {},
   "source": [
    "Extract elements using `for` and 2D list:"
   ]
  },
  {
   "cell_type": "code",
   "execution_count": 11,
   "id": "77fe9d8d-0e40-442d-9b2e-10b53db17cfa",
   "metadata": {},
   "outputs": [
    {
     "name": "stdout",
     "output_type": "stream",
     "text": [
      "Natasha Romanoff is Marvel's Black Widow!\n",
      "Tony Stark is Marvel's Iron Man!\n",
      "Stephen Strange is Marvel's Doctor Strange!\n"
     ]
    }
   ],
   "source": [
    "py_superhero_info = [['Natasha Romanoff', 'Black Widow'],\n",
    "                     ['Tony Stark', 'Iron Man'],\n",
    "                     ['Stephen Strange', 'Doctor Strange']]\n",
    "\n",
    "for real_name, super_name in py_superhero_info:\n",
    "    print(f\"{real_name} is Marvel's {super_name}!\")"
   ]
  },
  {
   "attachments": {},
   "cell_type": "markdown",
   "id": "41c4c4eb",
   "metadata": {},
   "source": [
    "## 3.2 for with zip()"
   ]
  },
  {
   "cell_type": "markdown",
   "id": "a144088d-8594-4fe7-b2de-b21c209564f9",
   "metadata": {},
   "source": [
    "use `zip()` to combine two lists:"
   ]
  },
  {
   "cell_type": "code",
   "execution_count": 12,
   "id": "be445318-4297-490a-904b-540a523a8feb",
   "metadata": {},
   "outputs": [
    {
     "name": "stdout",
     "output_type": "stream",
     "text": [
      "Natasha Romanoff is Marvel's Black Widow!\n",
      "Tony Stark is Marvel's Iron Man!\n",
      "Stephen Strange is Marvel's Doctor Strange!\n"
     ]
    }
   ],
   "source": [
    "super_names = [\"Black Widow\", \"Iron Man\", \"Doctor Strange\"]\n",
    "real_names = [\"Natasha Romanoff\", \"Tony Stark\", \"Stephen Strange\"]\n",
    "\n",
    "for real_name, super_name in zip(real_names,super_names):\n",
    "    print(f\"{real_name} is Marvel's {super_name}!\")"
   ]
  },
  {
   "attachments": {},
   "cell_type": "markdown",
   "id": "563e4b2f",
   "metadata": {},
   "source": [
    "## 3.3 for with dictionaries"
   ]
  },
  {
   "cell_type": "code",
   "execution_count": 13,
   "id": "921a9682-a2eb-4461-a534-7e15e7825109",
   "metadata": {},
   "outputs": [
    {
     "name": "stdout",
     "output_type": "stream",
     "text": [
      "Natasha Romanoff is Marvel's Black Widow!\n",
      "Tony Stark is Marvel's Iron Man!\n",
      "Stephen Strange is Marvel's Doctor Strange!\n"
     ]
    }
   ],
   "source": [
    "superhero_info={\"Natasha Romanoff\": \"Black Widow\",\n",
    "                \"Tony Stark\": \"Iron Man\",\n",
    "                \"Stephen Strange\": \"Doctor Strange\"}\n",
    "\n",
    "for key, value in superhero_info.items():   #The ‘hidden’ function items() spits out both the key and the corresponding value.\n",
    "    print(f\"{key} is Marvel's {value}!\")"
   ]
  },
  {
   "cell_type": "markdown",
   "id": "fc79a80d-c8f6-42a6-b01c-ffb61436d66c",
   "metadata": {},
   "source": [
    "* syntax: `dictionary.items()`\n",
    "* `items()` returns a view object. The view object contains the key-value pairs of the dictionary, as tuples in a list."
   ]
  },
  {
   "cell_type": "code",
   "execution_count": 14,
   "id": "2dbf5b9f-67ce-467d-b184-dc8fcac1f3a1",
   "metadata": {},
   "outputs": [
    {
     "name": "stdout",
     "output_type": "stream",
     "text": [
      "Natasha Romanoff is Marvel's Black Widow!\n",
      "Tony Stark is Marvel's Iron Man!\n",
      "Stephen Strange is Marvel's Doctor Strange!\n"
     ]
    }
   ],
   "source": [
    "for key in superhero_info.keys():\n",
    "    value=superhero_info[key]\n",
    "    print(f\"{key} is Marvel's {value}!\")"
   ]
  },
  {
   "cell_type": "markdown",
   "id": "7e368bff-9158-4d91-9870-32c304c5a398",
   "metadata": {},
   "source": [
    "`keys()`: return the keys of the dictionary as a list"
   ]
  }
 ],
 "metadata": {
  "kernelspec": {
   "display_name": "Python 3 (ipykernel)",
   "language": "python",
   "name": "python3"
  },
  "language_info": {
   "codemirror_mode": {
    "name": "ipython",
    "version": 3
   },
   "file_extension": ".py",
   "mimetype": "text/x-python",
   "name": "python",
   "nbconvert_exporter": "python",
   "pygments_lexer": "ipython3",
   "version": "3.10.9"
  },
  "toc": {
   "base_numbering": 1,
   "nav_menu": {},
   "number_sections": true,
   "sideBar": true,
   "skip_h1_title": false,
   "title_cell": "Table of Contents",
   "title_sidebar": "Contents",
   "toc_cell": false,
   "toc_position": {},
   "toc_section_display": true,
   "toc_window_display": false
  },
  "vscode": {
   "interpreter": {
    "hash": "31f2aee4e71d21fbe5cf8b01ff0e069b9275f58929596ceb00d14d90e3e16cd6"
   }
  }
 },
 "nbformat": 4,
 "nbformat_minor": 5
}
