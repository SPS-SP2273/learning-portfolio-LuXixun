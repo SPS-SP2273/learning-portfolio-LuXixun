{
 "cells": [
  {
   "attachments": {},
   "cell_type": "markdown",
   "id": "123456",
   "metadata": {},
   "source": [
    "<div style=\"text-align:left;font-size:2em\"><span style=\"font-weight:bolder;font-size:1.25em\">SP2273 | Learning Portfolio</span><br><br><span style=\"font-weight:bold;color:darkred\">Functions (Need) Exercises</span></div>"
   ]
  },
  {
   "cell_type": "markdown",
   "id": "e216cc28-ec6b-4b48-932e-ff698ff133ed",
   "metadata": {},
   "source": [
    "**Exercise 1 (Do you know why?)**\n",
    "<br>The following code works as expected despite not having an else statement. Please use a Markdown cell to explain why?"
   ]
  },
  {
   "cell_type": "code",
   "execution_count": 1,
   "id": "0d703373-3b33-457a-900b-bb00a45ba086",
   "metadata": {},
   "outputs": [],
   "source": [
    "def greeting(name):\n",
    "    if name == 'Batman':\n",
    "        return 'Hello Batman! So, nice to meet you!'\n",
    "    return f'Hello {name}!'"
   ]
  },
  {
   "cell_type": "markdown",
   "id": "0bf32bff-01fe-41dc-bccf-13aeba4882b2",
   "metadata": {},
   "source": [
    "If the argument of function `greeting()` is not 'Batman', 'Hello{name}' will be returned and jump out of the function with the return value.\n",
    "If the argument of function `greeting()` is'Batman', name == 'Batman' becomes True, 'Hello Batman! So, nice to meet you!' will be returned and Python will jump out of the function."
   ]
  },
  {
   "cell_type": "markdown",
   "id": "827b3e54-a52d-43e2-8143-26f7127c68fb",
   "metadata": {},
   "source": [
    "**Exercise 2 (Chubby or not)**\n",
    "<br>Write a Python function named calculate_bmi.\n",
    "* The function should take two parameters:\n",
    "* weight (in kilograms) and height (in meters).\n",
    "* The function should calculate the BMI (Body Mass Index) using the formula BMI = weight / (height ** 2).\n",
    "* Based on the calculated BMI, the function should return a string indicating the BMI category based on the following criteria:\n",
    "|Category|\tBMI Range|\n",
    "|:--|:--|\n",
    "|Underweight|\tBMI less than 18.5|\n",
    "|Normal weight|\tBMI between 18.5 and 24.9|\n",
    "|Overweight\t|BMI between 25 and 29.9|\n",
    "|Obesity|\tBMI 30 or more|"
   ]
  },
  {
   "cell_type": "code",
   "execution_count": 3,
   "id": "91745f6c-e66a-4ca1-bc52-39090f6b2393",
   "metadata": {},
   "outputs": [
    {
     "name": "stdout",
     "output_type": "stream",
     "text": [
      "Underweight\n"
     ]
    }
   ],
   "source": [
    "def calculate_bmi(weight, height):\n",
    "    BMI = weight / (height ** 2)\n",
    "    if BMI < 18.5:\n",
    "        return 'Underweight'\n",
    "    if 18.5 <= BMI < 24.9:\n",
    "        return 'Normal weight'\n",
    "    if 24.9 <= BMI < 29.9:\n",
    "        return 'Overweight'\n",
    "    if BMI >= 30:\n",
    "        return 'Obesity'\n",
    "print(calculate_bmi(50, 165))"
   ]
  }
 ],
 "metadata": {
  "kernelspec": {
   "display_name": "Python 3 (ipykernel)",
   "language": "python",
   "name": "python3"
  },
  "language_info": {
   "codemirror_mode": {
    "name": "ipython",
    "version": 3
   },
   "file_extension": ".py",
   "mimetype": "text/x-python",
   "name": "python",
   "nbconvert_exporter": "python",
   "pygments_lexer": "ipython3",
   "version": "3.10.9"
  },
  "toc": {
   "base_numbering": 1,
   "nav_menu": {},
   "number_sections": true,
   "sideBar": true,
   "skip_h1_title": false,
   "title_cell": "Table of Contents",
   "title_sidebar": "Contents",
   "toc_cell": false,
   "toc_position": {},
   "toc_section_display": true,
   "toc_window_display": false
  },
  "vscode": {
   "interpreter": {
    "hash": "31f2aee4e71d21fbe5cf8b01ff0e069b9275f58929596ceb00d14d90e3e16cd6"
   }
  }
 },
 "nbformat": 4,
 "nbformat_minor": 5
}
