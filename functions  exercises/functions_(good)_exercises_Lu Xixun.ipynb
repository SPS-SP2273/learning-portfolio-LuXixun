{
 "cells": [
  {
   "attachments": {},
   "cell_type": "markdown",
   "id": "123456",
   "metadata": {},
   "source": [
    "<div style=\"text-align:left;font-size:2em\"><span style=\"font-weight:bolder;font-size:1.25em\">SP2273 | Learning Portfolio</span><br><br><span style=\"font-weight:bold;color:darkred\">Functions (Good) Exercises</span></div>"
   ]
  },
  {
   "cell_type": "markdown",
   "id": "4948d29f-352f-4800-8a1c-8b64a429288c",
   "metadata": {},
   "source": [
    "**Exercise 1 (Celsius to Fahrenheit or Kelvin)**\n",
    "<br> \n",
    "* Develop a function named `convert_celsius()` to convert temperatures from Celsius to either Fahrenheit or Kelvin.\n",
    "* The function should take two arguments:\n",
    "    * `temperature_celsius`: The temperature in Celsius.\n",
    "    * `target_scale (string)`: The target scale for conversion, with the default value set to `'Fahrenheit'`.\n",
    "* The function should return the temperature in Kelvin if `target_scale` is `'Kelvin'`; otherwise, it should return the temperature in Fahrenheit.\n"
   ]
  },
  {
   "cell_type": "code",
   "execution_count": 6,
   "id": "747e7a82-086d-4c97-beba-472c60abb7bf",
   "metadata": {},
   "outputs": [],
   "source": [
    "def convert_celsius(temperature_celsius, target_scale):\n",
    "    if target_scale == \"Kelvin\":\n",
    "        T_K = temperature_celsius + 273.15\n",
    "        return T_K\n",
    "    else:\n",
    "        T_F = temperature_celsius*(9/5) + 32\n",
    "        return T_F  "
   ]
  },
  {
   "cell_type": "markdown",
   "id": "74f6d762-d338-452d-ab1c-356558659827",
   "metadata": {},
   "source": [
    "**Exercise 2 (Fahrenheit to Celsius or Kelvin)**\n",
    "<br>\n",
    "* Develop a function called `convert_fahrenheit()` for converting temperatures from Fahrenheit to either Celsius or Kelvin.\n",
    "* The function should take two arguments:\n",
    "    * `temperature_fahrenheit`: The temperature in Fahrenheit.\n",
    "    * `target_scale` (string): The target scale for conversion, defaulting to '`Celsius`'.\n",
    "* The function should return the temperature in Kelvin if target_scale is 'Kelvin'; otherwise, return it in Celsius.\n"
   ]
  },
  {
   "cell_type": "code",
   "execution_count": 7,
   "id": "2f001539-27c3-4c6b-95ca-7ffaf2bb7cfc",
   "metadata": {},
   "outputs": [],
   "source": [
    "def convert_fahrenheit(temperature_fahrenheit, target_scale):\n",
    "    if target_scale == \"Kelvin\":\n",
    "        T_K = (temperature_fahrenheit - 32) * (5/9) + 273.15\n",
    "        return T_K\n",
    "    else:\n",
    "        T_C = (temperature_celsius - 32) * (5/9)\n",
    "        return T_C  "
   ]
  },
  {
   "cell_type": "markdown",
   "id": "ce3ec3b9-ead0-4722-adc1-7e3d491e40af",
   "metadata": {},
   "source": [
    "**Exercise 3 (General Temperature Conversion)**\n",
    "<br>\n",
    "* Implement a function named `convert_temperature()` to perform general temperature conversions.\n",
    "* The function should take three arguments:\n",
    "    * `temperature`: The temperature to be converted.\n",
    "    * `source_scale` (string): The scale of the input temperature (either `'Celsius', 'Fahrenheit', or 'Kelvin'`).\n",
    "    * `target_scale` (string): The desired scale for the output temperature.\n",
    "* Remember to reuse your previous functions!"
   ]
  },
  {
   "cell_type": "code",
   "execution_count": 9,
   "id": "c92fa114-6cdb-4ffb-a7cc-bd618a711543",
   "metadata": {},
   "outputs": [],
   "source": [
    "def convert_temperature(temperature, source_scale, target_scale):\n",
    "    if source_scale == \"Celsius\":\n",
    "        if target_scale == \"Celsius\":\n",
    "            return temperature\n",
    "        if target_scale == \"Fahrenheit\":\n",
    "            T_F = temperature*(9/5) + 32\n",
    "            return T_F\n",
    "        if target_scale == \"Kelvin\":\n",
    "            T_K = temperature + 273.15\n",
    "            return T_K\n",
    "    if source_scale == \"Fahrenheit\":\n",
    "        if target_scale == \"Fahrenheit\":\n",
    "            return temperature\n",
    "        if target_scale == \"Celsius\":\n",
    "            T_C = (temperature - 32) * (5/9)\n",
    "            return T_C \n",
    "        if target_scale == \"Kelvin\":\n",
    "            T_K = (temperature - 32) * (5/9) + 273.15\n",
    "            return T_K\n",
    "    if source_scale == \"Kelvin\":\n",
    "        if target_scale == \"Kelvin\":\n",
    "            return temperature\n",
    "        if target_scale == \"Celsius\":\n",
    "            T_C = temperature - 273.15\n",
    "            return T_C\n",
    "        if target_scale == \"Fahrenheit\":\n",
    "            T_F = (temperature - 273.15) * (9/5) + 32\n",
    "            return T_F\n",
    "            "
   ]
  }
 ],
 "metadata": {
  "kernelspec": {
   "display_name": "Python 3 (ipykernel)",
   "language": "python",
   "name": "python3"
  },
  "language_info": {
   "codemirror_mode": {
    "name": "ipython",
    "version": 3
   },
   "file_extension": ".py",
   "mimetype": "text/x-python",
   "name": "python",
   "nbconvert_exporter": "python",
   "pygments_lexer": "ipython3",
   "version": "3.10.9"
  },
  "toc": {
   "base_numbering": 1,
   "nav_menu": {},
   "number_sections": true,
   "sideBar": true,
   "skip_h1_title": false,
   "title_cell": "Table of Contents",
   "title_sidebar": "Contents",
   "toc_cell": false,
   "toc_position": {},
   "toc_section_display": true,
   "toc_window_display": false
  },
  "vscode": {
   "interpreter": {
    "hash": "31f2aee4e71d21fbe5cf8b01ff0e069b9275f58929596ceb00d14d90e3e16cd6"
   }
  }
 },
 "nbformat": 4,
 "nbformat_minor": 5
}
