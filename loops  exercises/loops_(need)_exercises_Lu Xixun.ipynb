{
 "cells": [
  {
   "attachments": {},
   "cell_type": "markdown",
   "id": "123456",
   "metadata": {},
   "source": [
    "<div style=\"text-align:left;font-size:2em\"><span style=\"font-weight:bolder;font-size:1.25em\">SP2273 | Learning Portfolio</span><br><br><span style=\"font-weight:bold;color:darkred\">Loops (Need) Exercises</span></div>"
   ]
  },
  {
   "cell_type": "markdown",
   "id": "7483a62b-a832-4e1b-aeac-ba98ea7aaeb0",
   "metadata": {},
   "source": [
    "**Exercise 1 (Celcius to Farenheit)**\n",
    "<br> You are provided with the following list of temperatures in Celsius. Write a quick Python snippet that converts each temperature to Fahrenheit and prints both temperatures."
   ]
  },
  {
   "cell_type": "code",
   "execution_count": 12,
   "id": "0c5e860b-7761-4476-ab99-f76e86c3364d",
   "metadata": {},
   "outputs": [],
   "source": [
    "import numpy as np\n",
    "temperatures_celsius = [\n",
    "    0, 5, 10, 15, 20, 25,\n",
    "    30, 35, 40, 45, 50\n",
    "]"
   ]
  },
  {
   "cell_type": "code",
   "execution_count": 15,
   "id": "45d58388-3e30-4cda-b1e4-c4bf00d8366b",
   "metadata": {},
   "outputs": [
    {
     "name": "stdout",
     "output_type": "stream",
     "text": [
      "Celsius: 0, Fehrenheit: 32.0 \n",
      "Celsius: 5, Fehrenheit: 41.0 \n",
      "Celsius: 10, Fehrenheit: 50.0 \n",
      "Celsius: 15, Fehrenheit: 59.0 \n",
      "Celsius: 20, Fehrenheit: 68.0 \n",
      "Celsius: 25, Fehrenheit: 77.0 \n",
      "Celsius: 30, Fehrenheit: 86.0 \n",
      "Celsius: 35, Fehrenheit: 95.0 \n",
      "Celsius: 40, Fehrenheit: 104.0 \n",
      "Celsius: 45, Fehrenheit: 113.0 \n",
      "Celsius: 50, Fehrenheit: 122.0 \n"
     ]
    }
   ],
   "source": [
    "temperatures_fehrenheit = np.array(temperatures_celsius)*1.8 + 32\n",
    "\n",
    "for index, temperature in enumerate(temperatures_celsius):\n",
    "    ftemp = temperatures_fehrenheit[index]\n",
    "    print(f'Celsius: {temperature}, Fehrenheit: {ftemp} ')"
   ]
  },
  {
   "cell_type": "markdown",
   "id": "17d864fb-e634-4b1c-8716-e2c3b90b955b",
   "metadata": {},
   "source": [
    "**Exercise 2 (Multiplication table)** \n",
    "<br>Write a Python snippet that prints a multiplication table (up to 5) for numbers 1 through 5 using nested for loops. The output should be formatted as shown below:\n",
    "<br>1 : 1   2   3   4   5   \n",
    "2 : 2   4   6   8   10  \n",
    "3 : 3   6   9   12  15  \n",
    "4 : 4   8   12  16  20  \n",
    "5 : 5   10  15  20  25"
   ]
  },
  {
   "cell_type": "code",
   "execution_count": 23,
   "id": "731235ce-ce88-448a-b1ec-932c4232e963",
   "metadata": {},
   "outputs": [
    {
     "ename": "SyntaxError",
     "evalue": "unterminated string literal (detected at line 3) (3703412247.py, line 3)",
     "output_type": "error",
     "traceback": [
      "\u001b[0;36m  Cell \u001b[0;32mIn[23], line 3\u001b[0;36m\u001b[0m\n\u001b[0;31m    print(f'{i}: {j}', end = '\\t`)\u001b[0m\n\u001b[0m                             ^\u001b[0m\n\u001b[0;31mSyntaxError\u001b[0m\u001b[0;31m:\u001b[0m unterminated string literal (detected at line 3)\n"
     ]
    }
   ],
   "source": [
    "for i in [ 1, 2, 3, 4, 5]:\n",
    "    for j in [i, 2*i, 3*i, 4*i, 5*i]:\n",
    "        print(f'{i}: {j}', end = '\\t`)\n",
    "    print(`\\n`)"
   ]
  }
 ],
 "metadata": {
  "kernelspec": {
   "display_name": "Python 3 (ipykernel)",
   "language": "python",
   "name": "python3"
  },
  "language_info": {
   "codemirror_mode": {
    "name": "ipython",
    "version": 3
   },
   "file_extension": ".py",
   "mimetype": "text/x-python",
   "name": "python",
   "nbconvert_exporter": "python",
   "pygments_lexer": "ipython3",
   "version": "3.10.9"
  },
  "toc": {
   "base_numbering": 1,
   "nav_menu": {},
   "number_sections": true,
   "sideBar": true,
   "skip_h1_title": false,
   "title_cell": "Table of Contents",
   "title_sidebar": "Contents",
   "toc_cell": false,
   "toc_position": {},
   "toc_section_display": true,
   "toc_window_display": false
  },
  "vscode": {
   "interpreter": {
    "hash": "31f2aee4e71d21fbe5cf8b01ff0e069b9275f58929596ceb00d14d90e3e16cd6"
   }
  }
 },
 "nbformat": 4,
 "nbformat_minor": 5
}
