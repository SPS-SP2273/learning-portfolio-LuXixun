{
 "cells": [
  {
   "attachments": {},
   "cell_type": "markdown",
   "id": "123456",
   "metadata": {},
   "source": [
    "<div style=\"text-align:left;font-size:2em\"><span style=\"font-weight:bolder;font-size:1.25em\">SP2273 | Learning Portfolio</span><br><br><span style=\"font-weight:bold;color:darkred\">Loops (Good) Exercises</span></div>"
   ]
  },
  {
   "cell_type": "code",
   "execution_count": 10,
   "id": "c1afb882-0305-4f46-91ce-3f4726e1c878",
   "metadata": {},
   "outputs": [],
   "source": [
    "import timeit"
   ]
  },
  {
   "cell_type": "markdown",
   "id": "abc96513-d803-4f95-a124-2602eb27c294",
   "metadata": {},
   "source": [
    "**Exercise 1 (Make me an odd list)**\n",
    "<br>With your knowledge of growing lists, use a for loop with range() and continue to generate a list of the squares of the odd integers from 0 to 9."
   ]
  },
  {
   "cell_type": "code",
   "execution_count": 3,
   "id": "ead70e47-923d-4706-b331-e8814ead1fa7",
   "metadata": {},
   "outputs": [
    {
     "name": "stdout",
     "output_type": "stream",
     "text": [
      "1\n",
      "9\n",
      "25\n",
      "49\n",
      "81\n"
     ]
    }
   ],
   "source": [
    "for i in range(0, 10, 1):\n",
    "    if i%2 == 0:\n",
    "        i += 1\n",
    "        continue\n",
    "    res = i**2\n",
    "    print(res)"
   ]
  },
  {
   "cell_type": "markdown",
   "id": "c5e2482b-de3f-448c-9f37-c625b0bc6b8f",
   "metadata": {},
   "source": [
    "**Exercise 2 (Make me another odd list)**\n",
    "<br>Redo the previous exercise using list comprehension."
   ]
  },
  {
   "cell_type": "code",
   "execution_count": 8,
   "id": "874aed50-e8dd-4eae-bd9f-6312a2c249c7",
   "metadata": {},
   "outputs": [
    {
     "data": {
      "text/plain": [
       "[1, 9, 25, 49, 81]"
      ]
     },
     "execution_count": 8,
     "metadata": {},
     "output_type": "execute_result"
    }
   ],
   "source": [
    "[i**2 for i in range(10) if i%2 != 0]\n"
   ]
  },
  {
   "cell_type": "markdown",
   "id": "5f30460b-151c-445d-9421-964cd5f9c6e9",
   "metadata": {},
   "source": [
    "**Exercise 3 (Time me!)**\n",
    "\n",
    "Use the cell magic command %%timeit to time the previous solutions. Which of the two is faster?"
   ]
  },
  {
   "cell_type": "code",
   "execution_count": 11,
   "id": "f6c22ae6-cc7e-47de-8996-73fa11323fe3",
   "metadata": {},
   "outputs": [
    {
     "name": "stdout",
     "output_type": "stream",
     "text": [
      "1\n",
      "9\n",
      "25\n",
      "49\n",
      "81\n",
      "0.013291624840348959\n"
     ]
    }
   ],
   "source": [
    "for i in range(0, 10, 1):\n",
    "    if i%2 == 0:\n",
    "        i += 1\n",
    "        continue\n",
    "    res = i**2\n",
    "    print(res)\n",
    "print(timeit.timeit())"
   ]
  },
  {
   "cell_type": "code",
   "execution_count": 12,
   "id": "e2c9add1-0bd3-4f7e-a9bb-6c9f2c49640d",
   "metadata": {},
   "outputs": [
    {
     "name": "stdout",
     "output_type": "stream",
     "text": [
      "0.01368291606195271\n"
     ]
    }
   ],
   "source": [
    "[i**2 for i in range(10) if i%2 != 0]\n",
    "print(timeit.timeit())"
   ]
  },
  {
   "cell_type": "markdown",
   "id": "c551cee5-0301-45ae-a229-60165202a270",
   "metadata": {},
   "source": [
    "Hence, `for` loop is faster."
   ]
  },
  {
   "cell_type": "markdown",
   "id": "6228db1d-363a-424e-bf71-127aece4b1fd",
   "metadata": {},
   "source": [
    "**Exercise 4 (A problem of decay)**\n",
    "\n",
    "The initial quantity of a sample of a radioactive substance is 100 units, and it decays by 5% each year. Use a while loop to determine how long the sample will take to reduce to half its original amount."
   ]
  },
  {
   "cell_type": "code",
   "execution_count": 20,
   "id": "ef5ce87f-91c2-4524-9bd1-87b09bc5613e",
   "metadata": {},
   "outputs": [
    {
     "name": "stdout",
     "output_type": "stream",
     "text": [
      "95.0\n",
      "90.25\n",
      "85.7375\n",
      "81.45062499999999\n",
      "77.37809374999999\n",
      "73.50918906249998\n",
      "69.83372960937498\n",
      "66.34204312890623\n",
      "63.02494097246091\n",
      "59.87369392383786\n",
      "56.880009227645964\n",
      "54.03600876626366\n",
      "51.33420832795048\n",
      "48.76749791155295\n",
      "14\n"
     ]
    }
   ],
   "source": [
    "mass, counter = 100, 0\n",
    "while mass >= 50:\n",
    "    mass = mass*(0.95)\n",
    "    counter += 1\n",
    "    print(mass)\n",
    "print(counter)"
   ]
  },
  {
   "cell_type": "markdown",
   "id": "9a97968e-8c37-49f1-b0b4-5461902f094a",
   "metadata": {},
   "source": [
    "Hence, it takes between 13 to 14 years to reduce the sample to half its original amount."
   ]
  },
  {
   "cell_type": "markdown",
   "id": "bffb09dd-ddd9-404b-b408-7402dede8299",
   "metadata": {},
   "source": [
    "**Exercise 5 (Changes in CO2)**\n",
    "<br>The following is data about atmospheric CO2 levels for several years in a (year, CO2_level) format. The units are ppm.\n",
    "<br>Identify those years that showed an increase of CO2 of 3 ppm or more compared to the previous year.\n",
    "Please print out these years along with the corresponding change in concentration."
   ]
  },
  {
   "cell_type": "code",
   "execution_count": 2,
   "id": "764645a6-d7f5-4ad4-abe1-50f7d66602b6",
   "metadata": {},
   "outputs": [],
   "source": [
    "co2_data = [\n",
    "    (2000, 369.55), (2001, 371.14), (2002, 373.28), \n",
    "    (2003, 375.80), (2004, 377.52), (2005, 379.80), \n",
    "    (2006, 381.90), (2007, 383.79), (2008, 385.60), \n",
    "    (2009, 387.43), (2010, 389.90), (2011, 391.65), \n",
    "    (2012, 393.85), (2013, 396.52), (2014, 398.65),\n",
    "    (2015, 400.83), (2016, 404.24), (2017, 406.55), \n",
    "    (2018, 408.52), (2019, 411.44), (2020, 414.24)\n",
    "]"
   ]
  },
  {
   "cell_type": "code",
   "execution_count": 49,
   "id": "78d44415-1dfd-486b-a925-18cac742cd98",
   "metadata": {},
   "outputs": [
    {
     "name": "stdout",
     "output_type": "stream",
     "text": [
      "2016, 3.410000000000025\n"
     ]
    }
   ],
   "source": [
    "import numpy as np\n",
    "level_list1 = [level for year, level in co2_data]\n",
    "level_list1.append(414.24)\n",
    "level_list2 = [level for year, level in co2_data]\n",
    "level_list2.insert(0, 369.55)\n",
    "\n",
    "np_array1 = np.array(level_list1)\n",
    "np_array2 = np.array(level_list2)\n",
    "change = np_array1 - np_array2\n",
    "\n",
    "change_list = change.tolist()\n",
    "#change_list2 = [c for c in change_list if c >= 3]\n",
    "year_list = [year for year, level in co2_data]\n",
    "year_list.append(0000)\n",
    "\n",
    "for change_list, year_list in zip(change_list, year_list):\n",
    "    x = change_list\n",
    "    if x >= 3:\n",
    "            print(f\"{year_list}, {change_list}\")"
   ]
  }
 ],
 "metadata": {
  "kernelspec": {
   "display_name": "Python 3 (ipykernel)",
   "language": "python",
   "name": "python3"
  },
  "language_info": {
   "codemirror_mode": {
    "name": "ipython",
    "version": 3
   },
   "file_extension": ".py",
   "mimetype": "text/x-python",
   "name": "python",
   "nbconvert_exporter": "python",
   "pygments_lexer": "ipython3",
   "version": "3.10.9"
  },
  "toc": {
   "base_numbering": 1,
   "nav_menu": {},
   "number_sections": true,
   "sideBar": true,
   "skip_h1_title": false,
   "title_cell": "Table of Contents",
   "title_sidebar": "Contents",
   "toc_cell": false,
   "toc_position": {},
   "toc_section_display": true,
   "toc_window_display": false
  },
  "vscode": {
   "interpreter": {
    "hash": "31f2aee4e71d21fbe5cf8b01ff0e069b9275f58929596ceb00d14d90e3e16cd6"
   }
  }
 },
 "nbformat": 4,
 "nbformat_minor": 5
}
