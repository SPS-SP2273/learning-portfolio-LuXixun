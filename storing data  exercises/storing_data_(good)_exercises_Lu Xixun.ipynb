{
 "cells": [
  {
   "attachments": {},
   "cell_type": "markdown",
   "id": "123456",
   "metadata": {},
   "source": [
    "<div style=\"text-align:left;font-size:2em\"><span style=\"font-weight:bolder;font-size:1.25em\">SP2273 | Learning Portfolio</span><br><br><span style=\"font-weight:bold;color:darkred\">Storing Data (Good) Exercises</span></div>"
   ]
  },
  {
   "cell_type": "markdown",
   "id": "fe4e9802-7ef4-4f77-a88c-c653a41178e9",
   "metadata": {},
   "source": [
    "**Exercise 1 (Total recall)**\n",
    "\n",
    "Purely from memory, write short descriptions of the following terms:\n",
    "<br>If you cannot recall the answers, please refer to the notes and put this information you could not recall in italics.\n",
    "|**Term**|**Brief description**|\n",
    "|:--|:--|\n",
    "|Subsetting|select|\n",
    "|Indexing|select a specific element in the list/array|\n",
    "|Slicing|select a range of elements from the list/array|\n",
    "|Masking|select elements from an array based one a certain criterion|"
   ]
  },
  {
   "cell_type": "markdown",
   "id": "3d344bdc-3afe-430f-8ddf-6add51bc13b3",
   "metadata": {},
   "source": [
    "**Exercise 2 (Show me the ‘odd’ letters)**\n",
    "<br>Use masking to subset the letters that correspond to the odd numbers. I.e., get the result `[A, C, E, G, I]`.\n",
    "\n",
    "This is a slightly tricky problem because arrays are fussy about type. So, let me give you a recipe to solve this problem.\n",
    "\n",
    "1. Subset all the first elements.\n",
    "    * You should get array(`['1', '3', '2', ..., '10', '9']`)\n",
    "2. Convert this to integers using astype(int)\n",
    "    * You must look up how astype() works.\n",
    "3. Use % to get the remainder for division by 2.\n",
    "    * You should get array(`[1, 1, 0, ..., 0, 1]`).\n",
    "4. Use the previous result to create a mask that checks if the remainder is zero or not\n",
    "    * You should get array(`True, True, False, ..., False, True`]).\n",
    "    * Now you have identified the locations of the odd numbers.\n",
    "5. Use the mask and extract the corresponding second elements.\n"
   ]
  },
  {
   "cell_type": "code",
   "execution_count": 3,
   "id": "2aa8fc7b-ac4e-435c-bd9a-2726fc093bba",
   "metadata": {},
   "outputs": [],
   "source": [
    "import numpy as np\n",
    "np_array_2d = np.array([[1, \"A\"], [3, \"C\"], [2, \"B\"], [4, \"D\"],\n",
    "                        [5, \"E\"], [7, \"G\"], [6, \"F\"], [8, \"H\"],\n",
    "                        [10, \"J\"], [9, \"I\"]])"
   ]
  },
  {
   "cell_type": "code",
   "execution_count": 4,
   "id": "6f35a83b-a805-4fcf-bbbb-a595c2d1e092",
   "metadata": {},
   "outputs": [
    {
     "data": {
      "text/plain": [
       "array(['1', '3', '2', '4', '5', '7', '6', '8', '10', '9'], dtype='<U21')"
      ]
     },
     "execution_count": 4,
     "metadata": {},
     "output_type": "execute_result"
    }
   ],
   "source": [
    "np_array_2d[:, 0]"
   ]
  },
  {
   "cell_type": "code",
   "execution_count": 20,
   "id": "2dad0360-9614-4d54-b9fd-d4a8a008d2bf",
   "metadata": {},
   "outputs": [
    {
     "data": {
      "text/plain": [
       "array([ 1,  3,  2,  4,  5,  7,  6,  8, 10,  9])"
      ]
     },
     "execution_count": 20,
     "metadata": {},
     "output_type": "execute_result"
    }
   ],
   "source": [
    "df = np_array_2d[:, 0]\n",
    "array2 = df.astype('int64')  # dataframe.astype(dtype, copy, errors)\n",
    "array2"
   ]
  },
  {
   "cell_type": "code",
   "execution_count": 26,
   "id": "9d83ece9-0995-475e-8cff-15ad76419e5f",
   "metadata": {},
   "outputs": [
    {
     "data": {
      "text/plain": [
       "array([1, 1, 0, 0, 1, 1, 0, 0, 0, 1])"
      ]
     },
     "execution_count": 26,
     "metadata": {},
     "output_type": "execute_result"
    }
   ],
   "source": [
    "array3 = array2%2\n",
    "array3 "
   ]
  },
  {
   "cell_type": "code",
   "execution_count": 27,
   "id": "15ed11bf-fde4-4dd4-8cda-8fde56f3af64",
   "metadata": {},
   "outputs": [
    {
     "data": {
      "text/plain": [
       "array([ True,  True, False, False,  True,  True, False, False, False,\n",
       "        True])"
      ]
     },
     "execution_count": 27,
     "metadata": {},
     "output_type": "execute_result"
    }
   ],
   "source": [
    "my_mask = array3 > 0\n",
    "my_mask"
   ]
  },
  {
   "cell_type": "code",
   "execution_count": 28,
   "id": "fb7ca824-4754-4af1-854b-efee020c409d",
   "metadata": {},
   "outputs": [
    {
     "data": {
      "text/plain": [
       "array([['1', 'A'],\n",
       "       ['3', 'C'],\n",
       "       ['5', 'E'],\n",
       "       ['7', 'G'],\n",
       "       ['9', 'I']], dtype='<U21')"
      ]
     },
     "execution_count": 28,
     "metadata": {},
     "output_type": "execute_result"
    }
   ],
   "source": [
    "np_array_2d[my_mask]"
   ]
  }
 ],
 "metadata": {
  "kernelspec": {
   "display_name": "Python 3 (ipykernel)",
   "language": "python",
   "name": "python3"
  },
  "language_info": {
   "codemirror_mode": {
    "name": "ipython",
    "version": 3
   },
   "file_extension": ".py",
   "mimetype": "text/x-python",
   "name": "python",
   "nbconvert_exporter": "python",
   "pygments_lexer": "ipython3",
   "version": "3.10.9"
  },
  "toc": {
   "base_numbering": 1,
   "nav_menu": {},
   "number_sections": true,
   "sideBar": true,
   "skip_h1_title": false,
   "title_cell": "Table of Contents",
   "title_sidebar": "Contents",
   "toc_cell": false,
   "toc_position": {},
   "toc_section_display": true,
   "toc_window_display": false
  },
  "vscode": {
   "interpreter": {
    "hash": "31f2aee4e71d21fbe5cf8b01ff0e069b9275f58929596ceb00d14d90e3e16cd6"
   }
  }
 },
 "nbformat": 4,
 "nbformat_minor": 5
}
