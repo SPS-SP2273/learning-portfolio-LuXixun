{
 "cells": [
  {
   "attachments": {},
   "cell_type": "markdown",
   "id": "123456",
   "metadata": {},
   "source": [
    "<div style=\"text-align:left;font-size:2em\"><span style=\"font-weight:bolder;font-size:1.25em\">SP2273 | Learning Portfolio</span><br><br><span style=\"font-weight:bold;color:darkred\">Storing Data (Need) Exercises</span></div>"
   ]
  },
  {
   "cell_type": "markdown",
   "id": "1fce94c0-8141-4ffc-8b78-0c01387fb44c",
   "metadata": {},
   "source": [
    "**Exercise 1(Total recall?)**"
   ]
  },
  {
   "cell_type": "markdown",
   "id": "c07b6a88-c85c-4aac-8a2c-076c55462ffa",
   "metadata": {},
   "source": [
    "Purely from memory, jot down:\n",
    "\n",
    "1. Two similarities between lists and arrays.\n",
    "2. Two differences between lists and arrays.\n",
    "3. What is a dictionary?\n",
    "<br>If you cannot recall the answers, please refer to the course notes and put this information you could not recall in italics."
   ]
  },
  {
   "cell_type": "markdown",
   "id": "6d2a8542-19a5-45d0-b857-032a6bffff9a",
   "metadata": {},
   "source": [
    "1. **Two similarities between lists and arrays.**\n",
    "    1. both have the same size (same number of elements)\n",
    "    2. *they both support indexing of elements to access them, slicing, and iterating over the elements.*\n",
    "\n",
    "2. **Two differences between lists and arrays.**\n",
    "    1. While lists can store elements of different types, arrays can only store elements of the same type\n",
    "    2. While lists cannot directly handle arithmetic operations (addition, multiplication, squaring), arrays can.\n",
    "3. **What is a dictionary?**\n",
    "       <br>  A dictionary stores values paired with a key. A value can be accessed using the key."
   ]
  },
  {
   "cell_type": "markdown",
   "id": "9ee8d8dd-ff61-4d13-8b57-afc9db354f06",
   "metadata": {},
   "source": [
    "**Exercise 2 (Indexing)**\n",
    "\n",
    "Modify the following code to print out all elements with an odd number. I have done the one corresponding to i9 for you."
   ]
  },
  {
   "cell_type": "code",
   "execution_count": 2,
   "id": "232a2d59-ec49-46a0-a580-fc5bcf6ca158",
   "metadata": {},
   "outputs": [
    {
     "name": "stdout",
     "output_type": "stream",
     "text": [
      "a1\n",
      "c3\n",
      "e5\n",
      "g7\n",
      "i9\n"
     ]
    }
   ],
   "source": [
    "py_list = [\"a1\", \"b2\", \"c3\", \"d4\", \"e5\", \"f6\", \"g7\", \"h8\", \"i9\", \"j10\"]\n",
    "print(py_list[0])                    # Prints 'a1'\n",
    "print(py_list[2])                    # Prints 'c3'\n",
    "print(py_list[4])                    # Prints 'e5'\n",
    "print(py_list[6])                    # Prints 'g7'\n",
    "print(py_list[8])   # Prints 'i9'"
   ]
  },
  {
   "cell_type": "markdown",
   "id": "867a3d5a-a36a-4bac-8247-dbc5797bd89d",
   "metadata": {},
   "source": [
    "**Exercise 3 (Index again)**\n",
    "\n",
    "Given the following list in Python:"
   ]
  },
  {
   "cell_type": "code",
   "execution_count": 3,
   "id": "d6b65848-e243-4a04-a1ed-617bb1b73ad6",
   "metadata": {},
   "outputs": [],
   "source": [
    "elements = ['Hydrogen',\n",
    "            'Helium', 'Lithium',\n",
    "            'Beryllium', 'Boron', 'Carbon',\n",
    "            'Nitrogen', 'Oxygen',\n",
    "            'Fluorine',\n",
    "            'Neon']"
   ]
  },
  {
   "cell_type": "code",
   "execution_count": 5,
   "id": "b8ea9aab-7db2-40bc-95eb-f1882bdf382e",
   "metadata": {},
   "outputs": [
    {
     "name": "stdout",
     "output_type": "stream",
     "text": [
      "Beryllium\n"
     ]
    }
   ],
   "source": [
    "print(elements[3])"
   ]
  },
  {
   "cell_type": "code",
   "execution_count": 6,
   "id": "e09db86f-7424-46fc-86c5-6ed6d2336157",
   "metadata": {},
   "outputs": [
    {
     "name": "stdout",
     "output_type": "stream",
     "text": [
      "Nitrogen\n"
     ]
    }
   ],
   "source": [
    "print(elements[-4])"
   ]
  },
  {
   "cell_type": "markdown",
   "id": "b653a025-5899-433e-9e5c-69b2615360d0",
   "metadata": {},
   "source": [
    "**Exercise 4 (How many ones)**\n",
    "\n",
    "Use the concepts you learned in this chapter to determine the number of 1’s in the following list of numbers."
   ]
  },
  {
   "cell_type": "code",
   "execution_count": 9,
   "id": "6e8e350c-3562-4820-93a6-89b457d3fbee",
   "metadata": {},
   "outputs": [],
   "source": [
    "numbers=[45, 60, 1, 30, 96, 1, 96, 57, 16, 1,\n",
    "        99, 62, 86, 43, 42, 60, 59, 1, 1, 35,\n",
    "        83, 47, 34, 28, 68, 23, 22, 92, 1, 79,\n",
    "        1, 29, 94, 72, 46, 47, 1, 74, 32, 20,\n",
    "        8, 37, 35, 1, 89, 29, 86, 19, 43, 61]                  "
   ]
  },
  {
   "cell_type": "code",
   "execution_count": 12,
   "id": "51ce15da-4cec-4a04-a541-176f63238ba7",
   "metadata": {},
   "outputs": [
    {
     "ename": "TypeError",
     "evalue": "'bool' object is not iterable",
     "output_type": "error",
     "traceback": [
      "\u001b[0;31m---------------------------------------------------------------------------\u001b[0m",
      "\u001b[0;31mTypeError\u001b[0m                                 Traceback (most recent call last)",
      "Cell \u001b[0;32mIn[12], line 5\u001b[0m\n\u001b[1;32m      3\u001b[0m np_array \u001b[38;5;241m=\u001b[39m np\u001b[38;5;241m.\u001b[39marray(numbers)\n\u001b[1;32m      4\u001b[0m np_array \u001b[38;5;241m==\u001b[39m \u001b[38;5;241m1\u001b[39m\n\u001b[0;32m----> 5\u001b[0m \u001b[38;5;28;43msum\u001b[39;49m\u001b[43m(\u001b[49m\u001b[38;5;28;43;01mTrue\u001b[39;49;00m\u001b[43m)\u001b[49m\n",
      "\u001b[0;31mTypeError\u001b[0m: 'bool' object is not iterable"
     ]
    }
   ],
   "source": [
    "import numpy as np\n",
    "\n",
    "np_array = np.array(numbers)\n",
    "np_array == 1\n",
    "sum(True)"
   ]
  }
 ],
 "metadata": {
  "kernelspec": {
   "display_name": "Python 3 (ipykernel)",
   "language": "python",
   "name": "python3"
  },
  "language_info": {
   "codemirror_mode": {
    "name": "ipython",
    "version": 3
   },
   "file_extension": ".py",
   "mimetype": "text/x-python",
   "name": "python",
   "nbconvert_exporter": "python",
   "pygments_lexer": "ipython3",
   "version": "3.10.9"
  },
  "toc": {
   "base_numbering": 1,
   "nav_menu": {},
   "number_sections": true,
   "sideBar": true,
   "skip_h1_title": false,
   "title_cell": "Table of Contents",
   "title_sidebar": "Contents",
   "toc_cell": false,
   "toc_position": {},
   "toc_section_display": true,
   "toc_window_display": false
  },
  "vscode": {
   "interpreter": {
    "hash": "31f2aee4e71d21fbe5cf8b01ff0e069b9275f58929596ceb00d14d90e3e16cd6"
   }
  }
 },
 "nbformat": 4,
 "nbformat_minor": 5
}
